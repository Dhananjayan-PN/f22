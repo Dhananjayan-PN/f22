{
 "cells": [
  {
   "cell_type": "code",
   "execution_count": 1,
   "id": "49c11f54-0a70-43c1-8866-19f117d39204",
   "metadata": {},
   "outputs": [],
   "source": [
    "import pandas as pd"
   ]
  },
  {
   "cell_type": "code",
   "execution_count": 2,
   "id": "1433833b-befe-4ae7-aec5-5fd502d4b693",
   "metadata": {},
   "outputs": [
    {
     "name": "stderr",
     "output_type": "stream",
     "text": [
      "/tmp/ipykernel_418840/3756477020.py:1: DtypeWarning: Columns (22,23,24,26,27,28,29,30,31,32,33,38,43,44) have mixed types. Specify dtype option on import or set low_memory=False.\n",
      "  df = pd.read_csv(\"wi.csv\")\n"
     ]
    }
   ],
   "source": [
    "df = pd.read_csv(\"wi.csv\")"
   ]
  },
  {
   "cell_type": "code",
   "execution_count": 10,
   "id": "a88db598-006f-4b1a-a26d-e3e54d1d2e95",
   "metadata": {},
   "outputs": [
    {
     "data": {
      "text/plain": [
       "3.266264315063852"
      ]
     },
     "execution_count": 10,
     "metadata": {},
     "output_type": "execute_result"
    }
   ],
   "source": [
    "pd.to_numeric(df[\"interest_rate\"], errors=\"coerce\").dropna().mean()"
   ]
  },
  {
   "cell_type": "code",
   "execution_count": 3,
   "id": "6c7cc164-cb71-4939-bfa6-8367456d9559",
   "metadata": {},
   "outputs": [],
   "source": [
    "df2 = df"
   ]
  },
  {
   "cell_type": "code",
   "execution_count": 4,
   "id": "6cdacc30-7600-4ed6-90da-b74606856f39",
   "metadata": {},
   "outputs": [],
   "source": [
    "df = None"
   ]
  },
  {
   "cell_type": "code",
   "execution_count": 5,
   "id": "1133895f-dab3-4660-b980-c7ef07cf3bf3",
   "metadata": {},
   "outputs": [],
   "source": [
    "df2 = 123"
   ]
  },
  {
   "cell_type": "code",
   "execution_count": 7,
   "id": "ce586157-3b2e-456a-841a-4c3c13d4e386",
   "metadata": {},
   "outputs": [
    {
     "data": {
      "text/html": [
       "<div>\n",
       "<style scoped>\n",
       "    .dataframe tbody tr th:only-of-type {\n",
       "        vertical-align: middle;\n",
       "    }\n",
       "\n",
       "    .dataframe tbody tr th {\n",
       "        vertical-align: top;\n",
       "    }\n",
       "\n",
       "    .dataframe thead th {\n",
       "        text-align: right;\n",
       "    }\n",
       "</style>\n",
       "<table border=\"1\" class=\"dataframe\">\n",
       "  <thead>\n",
       "    <tr style=\"text-align: right;\">\n",
       "      <th></th>\n",
       "      <th>activity_year</th>\n",
       "      <th>lei</th>\n",
       "      <th>derived_msa-md</th>\n",
       "      <th>state_code</th>\n",
       "      <th>county_code</th>\n",
       "      <th>census_tract</th>\n",
       "      <th>conforming_loan_limit</th>\n",
       "      <th>derived_loan_product_type</th>\n",
       "      <th>derived_dwelling_category</th>\n",
       "      <th>derived_ethnicity</th>\n",
       "      <th>...</th>\n",
       "      <th>denial_reason-2</th>\n",
       "      <th>denial_reason-3</th>\n",
       "      <th>denial_reason-4</th>\n",
       "      <th>tract_population</th>\n",
       "      <th>tract_minority_population_percent</th>\n",
       "      <th>ffiec_msa_md_median_family_income</th>\n",
       "      <th>tract_to_msa_income_percentage</th>\n",
       "      <th>tract_owner_occupied_units</th>\n",
       "      <th>tract_one_to_four_family_homes</th>\n",
       "      <th>tract_median_age_of_housing_units</th>\n",
       "    </tr>\n",
       "  </thead>\n",
       "  <tbody>\n",
       "    <tr>\n",
       "      <th>0</th>\n",
       "      <td>2020</td>\n",
       "      <td>549300FX7K8PTEQUU487</td>\n",
       "      <td>31540</td>\n",
       "      <td>WI</td>\n",
       "      <td>55025.0</td>\n",
       "      <td>5.502500e+10</td>\n",
       "      <td>C</td>\n",
       "      <td>Conventional:First Lien</td>\n",
       "      <td>Single Family (1-4 Units):Site-Built</td>\n",
       "      <td>Not Hispanic or Latino</td>\n",
       "      <td>...</td>\n",
       "      <td>NaN</td>\n",
       "      <td>NaN</td>\n",
       "      <td>NaN</td>\n",
       "      <td>3572</td>\n",
       "      <td>41.15</td>\n",
       "      <td>96600</td>\n",
       "      <td>64</td>\n",
       "      <td>812</td>\n",
       "      <td>910</td>\n",
       "      <td>45</td>\n",
       "    </tr>\n",
       "    <tr>\n",
       "      <th>1</th>\n",
       "      <td>2020</td>\n",
       "      <td>549300FX7K8PTEQUU487</td>\n",
       "      <td>99999</td>\n",
       "      <td>WI</td>\n",
       "      <td>55013.0</td>\n",
       "      <td>5.501397e+10</td>\n",
       "      <td>C</td>\n",
       "      <td>Conventional:First Lien</td>\n",
       "      <td>Single Family (1-4 Units):Site-Built</td>\n",
       "      <td>Not Hispanic or Latino</td>\n",
       "      <td>...</td>\n",
       "      <td>NaN</td>\n",
       "      <td>NaN</td>\n",
       "      <td>NaN</td>\n",
       "      <td>2333</td>\n",
       "      <td>9.90</td>\n",
       "      <td>68000</td>\n",
       "      <td>87</td>\n",
       "      <td>1000</td>\n",
       "      <td>2717</td>\n",
       "      <td>34</td>\n",
       "    </tr>\n",
       "    <tr>\n",
       "      <th>2</th>\n",
       "      <td>2020</td>\n",
       "      <td>549300FX7K8PTEQUU487</td>\n",
       "      <td>99999</td>\n",
       "      <td>WI</td>\n",
       "      <td>55127.0</td>\n",
       "      <td>5.512700e+10</td>\n",
       "      <td>C</td>\n",
       "      <td>VA:First Lien</td>\n",
       "      <td>Single Family (1-4 Units):Site-Built</td>\n",
       "      <td>Not Hispanic or Latino</td>\n",
       "      <td>...</td>\n",
       "      <td>NaN</td>\n",
       "      <td>NaN</td>\n",
       "      <td>NaN</td>\n",
       "      <td>5943</td>\n",
       "      <td>13.26</td>\n",
       "      <td>68000</td>\n",
       "      <td>104</td>\n",
       "      <td>1394</td>\n",
       "      <td>1856</td>\n",
       "      <td>44</td>\n",
       "    </tr>\n",
       "    <tr>\n",
       "      <th>3</th>\n",
       "      <td>2020</td>\n",
       "      <td>549300FX7K8PTEQUU487</td>\n",
       "      <td>99999</td>\n",
       "      <td>WI</td>\n",
       "      <td>55127.0</td>\n",
       "      <td>5.512700e+10</td>\n",
       "      <td>C</td>\n",
       "      <td>Conventional:Subordinate Lien</td>\n",
       "      <td>Single Family (1-4 Units):Site-Built</td>\n",
       "      <td>Ethnicity Not Available</td>\n",
       "      <td>...</td>\n",
       "      <td>NaN</td>\n",
       "      <td>NaN</td>\n",
       "      <td>NaN</td>\n",
       "      <td>5650</td>\n",
       "      <td>7.63</td>\n",
       "      <td>68000</td>\n",
       "      <td>124</td>\n",
       "      <td>1712</td>\n",
       "      <td>2104</td>\n",
       "      <td>36</td>\n",
       "    </tr>\n",
       "    <tr>\n",
       "      <th>4</th>\n",
       "      <td>2020</td>\n",
       "      <td>549300FX7K8PTEQUU487</td>\n",
       "      <td>33460</td>\n",
       "      <td>WI</td>\n",
       "      <td>55109.0</td>\n",
       "      <td>5.510912e+10</td>\n",
       "      <td>C</td>\n",
       "      <td>VA:First Lien</td>\n",
       "      <td>Single Family (1-4 Units):Site-Built</td>\n",
       "      <td>Not Hispanic or Latino</td>\n",
       "      <td>...</td>\n",
       "      <td>NaN</td>\n",
       "      <td>NaN</td>\n",
       "      <td>NaN</td>\n",
       "      <td>7210</td>\n",
       "      <td>4.36</td>\n",
       "      <td>97300</td>\n",
       "      <td>96</td>\n",
       "      <td>2101</td>\n",
       "      <td>2566</td>\n",
       "      <td>22</td>\n",
       "    </tr>\n",
       "  </tbody>\n",
       "</table>\n",
       "<p>5 rows × 99 columns</p>\n",
       "</div>"
      ],
      "text/plain": [
       "   activity_year                   lei  derived_msa-md state_code  \\\n",
       "0           2020  549300FX7K8PTEQUU487           31540         WI   \n",
       "1           2020  549300FX7K8PTEQUU487           99999         WI   \n",
       "2           2020  549300FX7K8PTEQUU487           99999         WI   \n",
       "3           2020  549300FX7K8PTEQUU487           99999         WI   \n",
       "4           2020  549300FX7K8PTEQUU487           33460         WI   \n",
       "\n",
       "   county_code  census_tract conforming_loan_limit  \\\n",
       "0      55025.0  5.502500e+10                     C   \n",
       "1      55013.0  5.501397e+10                     C   \n",
       "2      55127.0  5.512700e+10                     C   \n",
       "3      55127.0  5.512700e+10                     C   \n",
       "4      55109.0  5.510912e+10                     C   \n",
       "\n",
       "       derived_loan_product_type             derived_dwelling_category  \\\n",
       "0        Conventional:First Lien  Single Family (1-4 Units):Site-Built   \n",
       "1        Conventional:First Lien  Single Family (1-4 Units):Site-Built   \n",
       "2                  VA:First Lien  Single Family (1-4 Units):Site-Built   \n",
       "3  Conventional:Subordinate Lien  Single Family (1-4 Units):Site-Built   \n",
       "4                  VA:First Lien  Single Family (1-4 Units):Site-Built   \n",
       "\n",
       "         derived_ethnicity  ... denial_reason-2 denial_reason-3  \\\n",
       "0   Not Hispanic or Latino  ...             NaN             NaN   \n",
       "1   Not Hispanic or Latino  ...             NaN             NaN   \n",
       "2   Not Hispanic or Latino  ...             NaN             NaN   \n",
       "3  Ethnicity Not Available  ...             NaN             NaN   \n",
       "4   Not Hispanic or Latino  ...             NaN             NaN   \n",
       "\n",
       "   denial_reason-4  tract_population  tract_minority_population_percent  \\\n",
       "0              NaN              3572                              41.15   \n",
       "1              NaN              2333                               9.90   \n",
       "2              NaN              5943                              13.26   \n",
       "3              NaN              5650                               7.63   \n",
       "4              NaN              7210                               4.36   \n",
       "\n",
       "   ffiec_msa_md_median_family_income  tract_to_msa_income_percentage  \\\n",
       "0                              96600                              64   \n",
       "1                              68000                              87   \n",
       "2                              68000                             104   \n",
       "3                              68000                             124   \n",
       "4                              97300                              96   \n",
       "\n",
       "   tract_owner_occupied_units  tract_one_to_four_family_homes  \\\n",
       "0                         812                             910   \n",
       "1                        1000                            2717   \n",
       "2                        1394                            1856   \n",
       "3                        1712                            2104   \n",
       "4                        2101                            2566   \n",
       "\n",
       "   tract_median_age_of_housing_units  \n",
       "0                                 45  \n",
       "1                                 34  \n",
       "2                                 44  \n",
       "3                                 36  \n",
       "4                                 22  \n",
       "\n",
       "[5 rows x 99 columns]"
      ]
     },
     "execution_count": 7,
     "metadata": {},
     "output_type": "execute_result"
    }
   ],
   "source": [
    "df.head()"
   ]
  },
  {
   "cell_type": "code",
   "execution_count": 8,
   "id": "c22d773e-774a-470c-afc2-47364259af01",
   "metadata": {},
   "outputs": [
    {
     "data": {
      "text/plain": [
       "Index(['activity_year', 'lei', 'derived_msa-md', 'state_code', 'county_code',\n",
       "       'census_tract', 'conforming_loan_limit', 'derived_loan_product_type',\n",
       "       'derived_dwelling_category', 'derived_ethnicity', 'derived_race',\n",
       "       'derived_sex', 'action_taken', 'purchaser_type', 'preapproval',\n",
       "       'loan_type', 'loan_purpose', 'lien_status', 'reverse_mortgage',\n",
       "       'open-end_line_of_credit', 'business_or_commercial_purpose',\n",
       "       'loan_amount', 'loan_to_value_ratio', 'interest_rate', 'rate_spread',\n",
       "       'hoepa_status', 'total_loan_costs', 'total_points_and_fees',\n",
       "       'origination_charges', 'discount_points', 'lender_credits', 'loan_term',\n",
       "       'prepayment_penalty_term', 'intro_rate_period', 'negative_amortization',\n",
       "       'interest_only_payment', 'balloon_payment',\n",
       "       'other_nonamortizing_features', 'property_value', 'construction_method',\n",
       "       'occupancy_type', 'manufactured_home_secured_property_type',\n",
       "       'manufactured_home_land_property_interest', 'total_units',\n",
       "       'multifamily_affordable_units', 'income', 'debt_to_income_ratio',\n",
       "       'applicant_credit_score_type', 'co-applicant_credit_score_type',\n",
       "       'applicant_ethnicity-1', 'applicant_ethnicity-2',\n",
       "       'applicant_ethnicity-3', 'applicant_ethnicity-4',\n",
       "       'applicant_ethnicity-5', 'co-applicant_ethnicity-1',\n",
       "       'co-applicant_ethnicity-2', 'co-applicant_ethnicity-3',\n",
       "       'co-applicant_ethnicity-4', 'co-applicant_ethnicity-5',\n",
       "       'applicant_ethnicity_observed', 'co-applicant_ethnicity_observed',\n",
       "       'applicant_race-1', 'applicant_race-2', 'applicant_race-3',\n",
       "       'applicant_race-4', 'applicant_race-5', 'co-applicant_race-1',\n",
       "       'co-applicant_race-2', 'co-applicant_race-3', 'co-applicant_race-4',\n",
       "       'co-applicant_race-5', 'applicant_race_observed',\n",
       "       'co-applicant_race_observed', 'applicant_sex', 'co-applicant_sex',\n",
       "       'applicant_sex_observed', 'co-applicant_sex_observed', 'applicant_age',\n",
       "       'co-applicant_age', 'applicant_age_above_62',\n",
       "       'co-applicant_age_above_62', 'submission_of_application',\n",
       "       'initially_payable_to_institution', 'aus-1', 'aus-2', 'aus-3', 'aus-4',\n",
       "       'aus-5', 'denial_reason-1', 'denial_reason-2', 'denial_reason-3',\n",
       "       'denial_reason-4', 'tract_population',\n",
       "       'tract_minority_population_percent',\n",
       "       'ffiec_msa_md_median_family_income', 'tract_to_msa_income_percentage',\n",
       "       'tract_owner_occupied_units', 'tract_one_to_four_family_homes',\n",
       "       'tract_median_age_of_housing_units'],\n",
       "      dtype='object')"
      ]
     },
     "execution_count": 8,
     "metadata": {},
     "output_type": "execute_result"
    }
   ],
   "source": [
    "df.columns"
   ]
  },
  {
   "cell_type": "code",
   "execution_count": null,
   "id": "c13f3f76-c7a5-4788-9d6a-36c26ed9fc1b",
   "metadata": {},
   "outputs": [],
   "source": [
    "# f = open(..., mode=\"r\")   # text mode (default)\n",
    "# f = open(..., mode=\"rb\")  # bytes mode\n",
    "\n",
    "# f = zf.open(...)          # bytes mode by default"
   ]
  },
  {
   "cell_type": "code",
   "execution_count": 17,
   "id": "ffdd9e7d-29c5-4bca-bd43-8a13e5872ce0",
   "metadata": {},
   "outputs": [
    {
     "data": {
      "text/plain": [
       "3.266264315063054"
      ]
     },
     "execution_count": 17,
     "metadata": {},
     "output_type": "execute_result"
    }
   ],
   "source": [
    "# GOALS:\n",
    "# 1. how to access without unzipping first?\n",
    "# 2. only load one row at a time to memory\n",
    "\n",
    "import zipfile\n",
    "import csv\n",
    "from io import TextIOWrapper\n",
    "\n",
    "# stats for average\n",
    "total = 0\n",
    "count = 0\n",
    "\n",
    "zf = zipfile.ZipFile(\"wi.zip\")\n",
    "\n",
    "f = zf.open(\"wi.csv\")\n",
    "reader = csv.DictReader(TextIOWrapper(f))\n",
    "for row in reader:\n",
    "    try:\n",
    "        rate = float(row[\"interest_rate\"])\n",
    "        total += rate\n",
    "        count += 1\n",
    "    except ValueError:\n",
    "        pass # ignore it\n",
    "f.close()\n",
    "\n",
    "zf.close()\n",
    "\n",
    "total/count"
   ]
  },
  {
   "cell_type": "code",
   "execution_count": 19,
   "id": "a46da736-6ded-42ad-a33d-4c60cf696a5c",
   "metadata": {},
   "outputs": [
    {
     "data": {
      "text/plain": [
       "3.266264315063054"
      ]
     },
     "execution_count": 19,
     "metadata": {},
     "output_type": "execute_result"
    }
   ],
   "source": [
    "def get_rates_v1():\n",
    "    rates = []\n",
    "    zf = zipfile.ZipFile(\"wi.zip\")\n",
    "\n",
    "    f = zf.open(\"wi.csv\")\n",
    "    reader = csv.DictReader(TextIOWrapper(f))\n",
    "    for row in reader:\n",
    "        try:\n",
    "            rate = float(row[\"interest_rate\"])\n",
    "            rates.append(rate)\n",
    "        except ValueError:\n",
    "            pass # ignore it\n",
    "    f.close()\n",
    "\n",
    "    zf.close()\n",
    "    return rates\n",
    "\n",
    "total = 0\n",
    "count = 0\n",
    "for rate in get_rates_v1():\n",
    "    total += rate\n",
    "    count += 1\n",
    "total/count"
   ]
  },
  {
   "cell_type": "code",
   "execution_count": 23,
   "id": "dcd84eca-2cb0-4a74-b4fa-31445453ca39",
   "metadata": {},
   "outputs": [],
   "source": [
    "def get_rates_v2():\n",
    "    print(\"test\")\n",
    "    zf = zipfile.ZipFile(\"wi.zip\")\n",
    "\n",
    "    f = zf.open(\"wi.csv\")\n",
    "    reader = csv.DictReader(TextIOWrapper(f))\n",
    "    for row in reader:\n",
    "        try:\n",
    "            rate = float(row[\"interest_rate\"])\n",
    "            yield rate\n",
    "        except ValueError:\n",
    "            pass # ignore it\n",
    "    f.close()\n",
    "\n",
    "    zf.close()\n",
    "\n",
    "rates = get_rates_v2()"
   ]
  },
  {
   "cell_type": "code",
   "execution_count": 24,
   "id": "c32c52c8-0d38-4996-b9a0-c93fd013bc11",
   "metadata": {},
   "outputs": [
    {
     "name": "stdout",
     "output_type": "stream",
     "text": [
      "test\n"
     ]
    },
    {
     "data": {
      "text/plain": [
       "3.0"
      ]
     },
     "execution_count": 24,
     "metadata": {},
     "output_type": "execute_result"
    }
   ],
   "source": [
    "next(rates) # runs the generator function until it gets to a yield"
   ]
  },
  {
   "cell_type": "code",
   "execution_count": 25,
   "id": "20caab84-85e9-45a1-80b1-7f62d8f1a476",
   "metadata": {},
   "outputs": [
    {
     "data": {
      "text/plain": [
       "3.75"
      ]
     },
     "execution_count": 25,
     "metadata": {},
     "output_type": "execute_result"
    }
   ],
   "source": [
    "next(rates)"
   ]
  },
  {
   "cell_type": "code",
   "execution_count": null,
   "id": "db2abda5-d3b1-4c8b-affd-c3a9e03bc9b3",
   "metadata": {},
   "outputs": [],
   "source": [
    "for r in rates: # keeps calling next(rates) as long as it can\n",
    "    pass"
   ]
  },
  {
   "cell_type": "code",
   "execution_count": 28,
   "id": "b56cbae0-79f6-4f8f-878f-657afe89a2ba",
   "metadata": {},
   "outputs": [
    {
     "ename": "TypeError",
     "evalue": "object of type 'generator' has no len()",
     "output_type": "error",
     "traceback": [
      "\u001b[0;31m---------------------------------------------------------------------------\u001b[0m",
      "\u001b[0;31mTypeError\u001b[0m                                 Traceback (most recent call last)",
      "Input \u001b[0;32mIn [28]\u001b[0m, in \u001b[0;36m<cell line: 1>\u001b[0;34m()\u001b[0m\n\u001b[0;32m----> 1\u001b[0m \u001b[38;5;28;43mlen\u001b[39;49m\u001b[43m(\u001b[49m\u001b[43mrates\u001b[49m\u001b[43m)\u001b[49m\n",
      "\u001b[0;31mTypeError\u001b[0m: object of type 'generator' has no len()"
     ]
    }
   ],
   "source": [
    "len(rates)"
   ]
  },
  {
   "cell_type": "code",
   "execution_count": 29,
   "id": "b233ddea-e9c8-4510-9b1f-96a06be79319",
   "metadata": {},
   "outputs": [
    {
     "name": "stdout",
     "output_type": "stream",
     "text": [
      "test\n"
     ]
    },
    {
     "data": {
      "text/plain": [
       "3.125"
      ]
     },
     "execution_count": 29,
     "metadata": {},
     "output_type": "execute_result"
    }
   ],
   "source": [
    "rates = list(get_rates_v2())\n",
    "rates.sort()\n",
    "rates[len(rates)//2]"
   ]
  },
  {
   "cell_type": "code",
   "execution_count": 22,
   "id": "66413d28-e035-48fa-8fda-2d029ffc0d3c",
   "metadata": {},
   "outputs": [
    {
     "name": "stdout",
     "output_type": "stream",
     "text": [
      "test\n"
     ]
    },
    {
     "data": {
      "text/plain": [
       "3.266264315063054"
      ]
     },
     "execution_count": 22,
     "metadata": {},
     "output_type": "execute_result"
    }
   ],
   "source": [
    "total = 0\n",
    "count = 0\n",
    "for rate in get_rates_v2():\n",
    "    total += rate\n",
    "    count += 1\n",
    "total/count"
   ]
  },
  {
   "cell_type": "code",
   "execution_count": null,
   "id": "1affcee0-eeba-4a75-b3e9-4366a0af5b88",
   "metadata": {},
   "outputs": [],
   "source": []
  }
 ],
 "metadata": {
  "kernelspec": {
   "display_name": "Python 3 (ipykernel)",
   "language": "python",
   "name": "python3"
  },
  "language_info": {
   "codemirror_mode": {
    "name": "ipython",
    "version": 3
   },
   "file_extension": ".py",
   "mimetype": "text/x-python",
   "name": "python",
   "nbconvert_exporter": "python",
   "pygments_lexer": "ipython3",
   "version": "3.10.4"
  }
 },
 "nbformat": 4,
 "nbformat_minor": 5
}
