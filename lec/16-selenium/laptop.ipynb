{
 "cells": [
  {
   "cell_type": "code",
   "execution_count": 32,
   "id": "9d86e87b-4d91-46bf-8f20-d0337abcf842",
   "metadata": {},
   "outputs": [],
   "source": [
    "from selenium.webdriver.chrome.options import Options\n",
    "from selenium.webdriver.chrome.service import Service\n",
    "from selenium.webdriver.common.by import By\n",
    "from selenium.common.exceptions import NoSuchElementException\n",
    "from selenium import webdriver\n",
    "\n",
    "options = Options()\n",
    "#options.headless = True\n",
    "service = Service(executable_path=\"chromedriver\")\n",
    "b = webdriver.Chrome(options=options, service=service)"
   ]
  },
  {
   "cell_type": "code",
   "execution_count": 14,
   "id": "c89a00f3-76dd-43bf-86fa-db44e7f1a7ab",
   "metadata": {},
   "outputs": [
    {
     "name": "stdout",
     "output_type": "stream",
     "text": [
      "Tables: 1\n",
      "Tables: 1\n",
      "Tables: 1\n",
      "Tables: 1\n",
      "Tables: 1\n",
      "Tables: 1\n",
      "Tables: 1\n",
      "Tables: 1\n",
      "Tables: 1\n",
      "Tables: 1\n",
      "Tables: 2\n"
     ]
    }
   ],
   "source": [
    "import time\n",
    "url = \"https://tyler.caraza-harter.com/cs320/tricky/page1.html\"\n",
    "b.get(url)\n",
    "\n",
    "# POLLING: keep checking regularly until something is ready\n",
    "for i in range(30):\n",
    "    tbls = b.find_elements(\"tag name\", \"table\")\n",
    "    print(\"Tables:\", len(tbls))\n",
    "    if len(tbls) == 2:\n",
    "        break\n",
    "    time.sleep(0.1)\n",
    "assert len(tbls) == 2 # did we timeout?\n"
   ]
  },
  {
   "cell_type": "code",
   "execution_count": null,
   "id": "887cb3a7-1543-4d7a-a7a5-b1e651e08b7c",
   "metadata": {},
   "outputs": [],
   "source": []
  },
  {
   "cell_type": "code",
   "execution_count": 17,
   "id": "5df6528e-12dd-4a5c-b47c-03a2e40800d2",
   "metadata": {},
   "outputs": [
    {
     "data": {
      "text/plain": [
       "<selenium.webdriver.remote.webelement.WebElement (session=\"e8595abad5391f42a795aa0309a838ab\", element=\"cd2d622b-f762-41ee-9fa6-c2403f3d9368\")>"
      ]
     },
     "execution_count": 17,
     "metadata": {},
     "output_type": "execute_result"
    }
   ],
   "source": [
    "tbls[-1]"
   ]
  },
  {
   "cell_type": "code",
   "execution_count": 20,
   "id": "f9bd75b3-e183-49b4-a7a2-c6b361ef75f1",
   "metadata": {},
   "outputs": [
    {
     "data": {
      "text/plain": [
       "14"
      ]
     },
     "execution_count": 20,
     "metadata": {},
     "output_type": "execute_result"
    }
   ],
   "source": [
    "len(b.find_elements(\"tag name\", \"tr\"))"
   ]
  },
  {
   "cell_type": "code",
   "execution_count": 21,
   "id": "484fc968-13a6-44b4-b3e3-374a73b4305c",
   "metadata": {},
   "outputs": [
    {
     "data": {
      "text/plain": [
       "11"
      ]
     },
     "execution_count": 21,
     "metadata": {},
     "output_type": "execute_result"
    }
   ],
   "source": [
    "len(tbls[-1].find_elements(\"tag name\", \"tr\"))"
   ]
  },
  {
   "cell_type": "code",
   "execution_count": 28,
   "id": "4df0e8e4-d8fc-4db7-9adb-ddbcd6edf538",
   "metadata": {},
   "outputs": [
    {
     "data": {
      "text/plain": [
       "[['x', 'y'],\n",
       " ['0', '1'],\n",
       " ['2', '3'],\n",
       " ['4', '5'],\n",
       " ['6', '7'],\n",
       " ['8', '9'],\n",
       " ['10', '11'],\n",
       " ['12', '13'],\n",
       " ['14', '15'],\n",
       " ['16', '17'],\n",
       " ['18', '19']]"
      ]
     },
     "execution_count": 28,
     "metadata": {},
     "output_type": "execute_result"
    }
   ],
   "source": [
    "rows = [] # a list of rows\n",
    "\n",
    "trs = tbls[-1].find_elements(\"tag name\", \"tr\")\n",
    "for tr in trs:\n",
    "    tds = tr.find_elements(\"tag name\", \"td\")\n",
    "    assert len(tds) == 2\n",
    "    rows.append([tds[0].text, tds[1].text])\n",
    "rows"
   ]
  },
  {
   "cell_type": "code",
   "execution_count": 31,
   "id": "1869dc8e-2326-4f69-a28e-67487a069f8e",
   "metadata": {},
   "outputs": [
    {
     "data": {
      "text/html": [
       "<div>\n",
       "<style scoped>\n",
       "    .dataframe tbody tr th:only-of-type {\n",
       "        vertical-align: middle;\n",
       "    }\n",
       "\n",
       "    .dataframe tbody tr th {\n",
       "        vertical-align: top;\n",
       "    }\n",
       "\n",
       "    .dataframe thead th {\n",
       "        text-align: right;\n",
       "    }\n",
       "</style>\n",
       "<table border=\"1\" class=\"dataframe\">\n",
       "  <thead>\n",
       "    <tr style=\"text-align: right;\">\n",
       "      <th></th>\n",
       "      <th>x</th>\n",
       "      <th>y</th>\n",
       "    </tr>\n",
       "  </thead>\n",
       "  <tbody>\n",
       "    <tr>\n",
       "      <th>0</th>\n",
       "      <td>0</td>\n",
       "      <td>1</td>\n",
       "    </tr>\n",
       "    <tr>\n",
       "      <th>1</th>\n",
       "      <td>2</td>\n",
       "      <td>3</td>\n",
       "    </tr>\n",
       "    <tr>\n",
       "      <th>2</th>\n",
       "      <td>4</td>\n",
       "      <td>5</td>\n",
       "    </tr>\n",
       "    <tr>\n",
       "      <th>3</th>\n",
       "      <td>6</td>\n",
       "      <td>7</td>\n",
       "    </tr>\n",
       "    <tr>\n",
       "      <th>4</th>\n",
       "      <td>8</td>\n",
       "      <td>9</td>\n",
       "    </tr>\n",
       "    <tr>\n",
       "      <th>5</th>\n",
       "      <td>10</td>\n",
       "      <td>11</td>\n",
       "    </tr>\n",
       "    <tr>\n",
       "      <th>6</th>\n",
       "      <td>12</td>\n",
       "      <td>13</td>\n",
       "    </tr>\n",
       "    <tr>\n",
       "      <th>7</th>\n",
       "      <td>14</td>\n",
       "      <td>15</td>\n",
       "    </tr>\n",
       "    <tr>\n",
       "      <th>8</th>\n",
       "      <td>16</td>\n",
       "      <td>17</td>\n",
       "    </tr>\n",
       "    <tr>\n",
       "      <th>9</th>\n",
       "      <td>18</td>\n",
       "      <td>19</td>\n",
       "    </tr>\n",
       "  </tbody>\n",
       "</table>\n",
       "</div>"
      ],
      "text/plain": [
       "    x   y\n",
       "0   0   1\n",
       "1   2   3\n",
       "2   4   5\n",
       "3   6   7\n",
       "4   8   9\n",
       "5  10  11\n",
       "6  12  13\n",
       "7  14  15\n",
       "8  16  17\n",
       "9  18  19"
      ]
     },
     "execution_count": 31,
     "metadata": {},
     "output_type": "execute_result"
    }
   ],
   "source": [
    "import pandas as pd\n",
    "pd.DataFrame(rows[1:], columns=rows[0])"
   ]
  },
  {
   "cell_type": "code",
   "execution_count": 33,
   "id": "b4acafba-d1af-4ebc-a56e-92936dd92dd8",
   "metadata": {},
   "outputs": [],
   "source": [
    "url = \"https://tyler.caraza-harter.com/cs320/tricky/page2.html\"\n",
    "b.get(url)"
   ]
  },
  {
   "cell_type": "code",
   "execution_count": 40,
   "id": "7c3b934b-969b-445d-b672-9134f5bec92e",
   "metadata": {},
   "outputs": [
    {
     "name": "stdout",
     "output_type": "stream",
     "text": [
      "exception!  button is gone\n"
     ]
    }
   ],
   "source": [
    "while True:\n",
    "    try:\n",
    "        btn = b.find_element(\"id\", \"more\")\n",
    "        btn.click()\n",
    "    except NoSuchElementException:\n",
    "        print(\"exception!  button is gone\")\n",
    "        break\n",
    "    time.sleep(1)"
   ]
  },
  {
   "cell_type": "code",
   "execution_count": 41,
   "id": "47105305-3893-4054-a3fe-982ed4818fe5",
   "metadata": {},
   "outputs": [
    {
     "name": "stdout",
     "output_type": "stream",
     "text": [
      "<html><head>\n",
      "    <script src=\"https://code.jquery.com/jquery-3.4.1.js\"></script>\n",
      "    <script>\n",
      "      var lines = [];\n",
      "\n",
      "      function show() {\n",
      "        tbl = document.getElementById(\"hurricanes\");\n",
      "        count = Math.min(10, lines.length);\n",
      "        for (i=0; i<count; i++) {\n",
      "          var tr = document.createElement(\"tr\");\n",
      "          tr.innerHTML = \"<td>\"+lines[i].replace(/,/g, \"</td><td>\")+\"</td>\";\n",
      "          tbl.appendChild(tr);\n",
      "        }\n",
      "        lines = lines.slice(count);\n",
      "        if (lines.length == 0) {\n",
      "          document.getElementById(\"more\").remove();\n",
      "        }\n",
      "      }\n",
      "\n",
      "      function main() {\n",
      "        fetch('hurricanes.csv')\n",
      "          .then(response => response.text())\n",
      "          .then(data => {\n",
      "            console.log(data);\n",
      "            lines = data.split(\"\\n\");\n",
      "            show();\n",
      "          })\n",
      "      }\n",
      "      </script>\n",
      "  </head>\n",
      "  <body onload=\"main()\">\n",
      "    <h1>Keep clicking...</h1>\n",
      "\n",
      "    <table id=\"hurricanes\" border=\"1\"><tr><td>name</td><td>formed</td><td>dissipated</td><td>mph</td><td>damage</td><td>deaths</td></tr><tr><td>Baker</td><td>08/18/1950</td><td>09/01/1950</td><td>105</td><td>2.55M</td><td>38</td></tr><tr><td>Camille</td><td>08/14/1969</td><td>08/22/1969</td><td>175</td><td>1.42B</td><td>259</td></tr><tr><td>Eloise</td><td>09/13/1975</td><td>09/24/1975</td><td>125</td><td>560M</td><td>80</td></tr><tr><td>Frederic</td><td>08/29/1979</td><td>09/15/1979</td><td>130</td><td>1.77B</td><td>12</td></tr><tr><td>Elena</td><td>08/28/1985</td><td>09/04/1985</td><td>125</td><td>1.3B</td><td>9</td></tr><tr><td>Opal</td><td>09/27/1995</td><td>10/06/1995</td><td>150</td><td>4.7B</td><td>63</td></tr><tr><td>Danny</td><td>07/16/1997</td><td>07/27/1997</td><td>80</td><td>100M</td><td>4</td></tr><tr><td>Ivan</td><td>09/02/2004</td><td>09/25/2004</td><td>165</td><td>26.1B</td><td>92</td></tr><tr><td>Dennis</td><td>07/04/2005</td><td>07/18/2005</td><td>150</td><td>3.98B</td><td>76</td></tr><tr><td>Katrina</td><td>08/23/2005</td><td>08/31/2005</td><td>175</td><td>125B</td><td>1245</td></tr><tr><td>Carol</td><td>08/25/1954</td><td>09/01/1954</td><td>115</td><td>462M</td><td>72</td></tr><tr><td>Donna</td><td>08/29/1960</td><td>09/14/1960</td><td>145</td><td>980M</td><td>439</td></tr><tr><td>Gloria</td><td>09/16/1985</td><td>10/02/1985</td><td>145</td><td>900M</td><td>14</td></tr><tr><td>Bob</td><td>08/16/1991</td><td>08/29/1991</td><td>115</td><td>1.5B</td><td>15</td></tr><tr><td>Labor Day</td><td>08/29/1935</td><td>09/10/1935</td><td>185</td><td>100M</td><td>423</td></tr><tr><td>Easy</td><td>09/01/1950</td><td>09/09/1950</td><td>125</td><td>3.3M</td><td>2</td></tr><tr><td>King</td><td>10/13/1950</td><td>10/20/1950</td><td>130</td><td>32M</td><td>11</td></tr><tr><td>FLORENCE</td><td>09/23/1953</td><td>09/26/1953</td><td>115</td><td>200K</td><td>0</td></tr><tr><td>Flossy</td><td>09/21/1956</td><td>09/30/1956</td><td>90</td><td>24.9M</td><td>15</td></tr><tr><td>Cleo</td><td>08/21/1964</td><td>09/05/1964</td><td>155</td><td>187M</td><td>156</td></tr><tr><td>Dora</td><td>08/28/1964</td><td>09/14/1964</td><td>130</td><td>280M</td><td>5</td></tr><tr><td>Isbell</td><td>10/08/1964</td><td>10/19/1964</td><td>125</td><td>30M</td><td>7</td></tr><tr><td>Betsy</td><td>08/27/1965</td><td>09/13/1965</td><td>155</td><td>1.43B</td><td>81</td></tr><tr><td>Alma</td><td>06/04/1966</td><td>06/14/1966</td><td>125</td><td>210.1M</td><td>93</td></tr><tr><td>Inez</td><td>09/21/1966</td><td>10/11/1966</td><td>150</td><td>226.5M</td><td>756</td></tr><tr><td>Gladys</td><td>10/13/1968</td><td>10/21/1968</td><td>85</td><td>18.7M</td><td>8</td></tr><tr><td>Agnes</td><td>06/14/1972</td><td>07/06/1972</td><td>85</td><td>2.1B</td><td>128</td></tr><tr><td>Kate</td><td>11/15/1985</td><td>11/23/1985</td><td>120</td><td>700M</td><td>15</td></tr><tr><td>Floyd</td><td>10/09/1987</td><td>10/13/1987</td><td>75</td><td>500K</td><td>1</td></tr><tr><td>Andrew</td><td>08/16/1992</td><td>08/29/1992</td><td>175</td><td>27.3B</td><td>65</td></tr><tr><td>Erin</td><td>07/31/1995</td><td>08/06/1995</td><td>100</td><td>700M</td><td>6</td></tr><tr><td>Earl</td><td>08/31/1998</td><td>09/08/1998</td><td>100</td><td>79M</td><td>3</td></tr></table>\n",
      "\n",
      "    \n",
      "  \n",
      "\n",
      "</body></html>\n"
     ]
    }
   ],
   "source": [
    "print(b.page_source)"
   ]
  },
  {
   "cell_type": "markdown",
   "id": "eddcdf38-626b-4364-93eb-068902ad876a",
   "metadata": {},
   "source": [
    "# Example: password protected page"
   ]
  },
  {
   "cell_type": "code",
   "execution_count": 42,
   "id": "f11a35e3-3df4-4498-a2e1-dfd1c07ac961",
   "metadata": {},
   "outputs": [],
   "source": [
    "\n",
    "url = \"https://tyler.caraza-harter.com/cs320/tricky/page3.html\"\n",
    "b.get(url)"
   ]
  },
  {
   "cell_type": "code",
   "execution_count": 45,
   "id": "cdf37010-fa53-47b3-8288-52b1331f3151",
   "metadata": {},
   "outputs": [],
   "source": [
    "\n",
    "text = b.find_element(\"id\", \"password\")\n",
    "btn = b.find_element(\"id\", \"login_btn\")\n",
    "text.send_keys(\"fido\")"
   ]
  },
  {
   "cell_type": "code",
   "execution_count": 46,
   "id": "55f5c563-c518-4322-afe2-58b1dffd4bb0",
   "metadata": {},
   "outputs": [],
   "source": [
    "btn.click()"
   ]
  },
  {
   "cell_type": "code",
   "execution_count": 47,
   "id": "0f4e7a16-e63e-45bc-9adf-bde848b4bf36",
   "metadata": {},
   "outputs": [
    {
     "name": "stdout",
     "output_type": "stream",
     "text": [
      "<html><head>\n",
      "    <script src=\"https://code.jquery.com/jquery-3.4.1.js\"></script>\n",
      "    <script>\n",
      "      var lines = [];\n",
      "\n",
      "      function login() {\n",
      "        if (document.getElementById(\"password\").value != \"fido\") {\n",
      "          alert(\"sorry, password != 'fido'\")\n",
      "          return;\n",
      "        }\n",
      "\n",
      "        fetch('hurricanes.csv')\n",
      "          .then(response => response.text())\n",
      "          .then(data => {\n",
      "            console.log(data);\n",
      "            lines = data.split(\"\\n\");\n",
      "            show();\n",
      "          })\n",
      "        }\n",
      "\n",
      "      function show() {\n",
      "        tbl = document.getElementById(\"hurricanes\");\n",
      "        tbl.innerHTML = \"\";\n",
      "        for (i=0; i<lines.length; i++) {\n",
      "          var tr = document.createElement(\"tr\");\n",
      "          tr.innerHTML = \"<td>\"+lines[i].replace(/,/g, \"</td><td>\")+\"</td>\";\n",
      "          tbl.appendChild(tr);\n",
      "        }\n",
      "      }\n",
      "      </script>\n",
      "  </head>\n",
      "  <body>\n",
      "    <h1>Sign In to View Table</h1>\n",
      "\n",
      "    Password: <input id=\"password\">\n",
      "    <button id=\"login_btn\" onclick=\"login()\">Login</button>\n",
      "\n",
      "    <h3>Table...</h3>\n",
      "    <table id=\"hurricanes\" border=\"1\"><tr><td>name</td><td>formed</td><td>dissipated</td><td>mph</td><td>damage</td><td>deaths</td></tr><tr><td>Baker</td><td>08/18/1950</td><td>09/01/1950</td><td>105</td><td>2.55M</td><td>38</td></tr><tr><td>Camille</td><td>08/14/1969</td><td>08/22/1969</td><td>175</td><td>1.42B</td><td>259</td></tr><tr><td>Eloise</td><td>09/13/1975</td><td>09/24/1975</td><td>125</td><td>560M</td><td>80</td></tr><tr><td>Frederic</td><td>08/29/1979</td><td>09/15/1979</td><td>130</td><td>1.77B</td><td>12</td></tr><tr><td>Elena</td><td>08/28/1985</td><td>09/04/1985</td><td>125</td><td>1.3B</td><td>9</td></tr><tr><td>Opal</td><td>09/27/1995</td><td>10/06/1995</td><td>150</td><td>4.7B</td><td>63</td></tr><tr><td>Danny</td><td>07/16/1997</td><td>07/27/1997</td><td>80</td><td>100M</td><td>4</td></tr><tr><td>Ivan</td><td>09/02/2004</td><td>09/25/2004</td><td>165</td><td>26.1B</td><td>92</td></tr><tr><td>Dennis</td><td>07/04/2005</td><td>07/18/2005</td><td>150</td><td>3.98B</td><td>76</td></tr><tr><td>Katrina</td><td>08/23/2005</td><td>08/31/2005</td><td>175</td><td>125B</td><td>1245</td></tr><tr><td>Carol</td><td>08/25/1954</td><td>09/01/1954</td><td>115</td><td>462M</td><td>72</td></tr><tr><td>Donna</td><td>08/29/1960</td><td>09/14/1960</td><td>145</td><td>980M</td><td>439</td></tr><tr><td>Gloria</td><td>09/16/1985</td><td>10/02/1985</td><td>145</td><td>900M</td><td>14</td></tr><tr><td>Bob</td><td>08/16/1991</td><td>08/29/1991</td><td>115</td><td>1.5B</td><td>15</td></tr><tr><td>Labor Day</td><td>08/29/1935</td><td>09/10/1935</td><td>185</td><td>100M</td><td>423</td></tr><tr><td>Easy</td><td>09/01/1950</td><td>09/09/1950</td><td>125</td><td>3.3M</td><td>2</td></tr><tr><td>King</td><td>10/13/1950</td><td>10/20/1950</td><td>130</td><td>32M</td><td>11</td></tr><tr><td>FLORENCE</td><td>09/23/1953</td><td>09/26/1953</td><td>115</td><td>200K</td><td>0</td></tr><tr><td>Flossy</td><td>09/21/1956</td><td>09/30/1956</td><td>90</td><td>24.9M</td><td>15</td></tr><tr><td>Cleo</td><td>08/21/1964</td><td>09/05/1964</td><td>155</td><td>187M</td><td>156</td></tr><tr><td>Dora</td><td>08/28/1964</td><td>09/14/1964</td><td>130</td><td>280M</td><td>5</td></tr><tr><td>Isbell</td><td>10/08/1964</td><td>10/19/1964</td><td>125</td><td>30M</td><td>7</td></tr><tr><td>Betsy</td><td>08/27/1965</td><td>09/13/1965</td><td>155</td><td>1.43B</td><td>81</td></tr><tr><td>Alma</td><td>06/04/1966</td><td>06/14/1966</td><td>125</td><td>210.1M</td><td>93</td></tr><tr><td>Inez</td><td>09/21/1966</td><td>10/11/1966</td><td>150</td><td>226.5M</td><td>756</td></tr><tr><td>Gladys</td><td>10/13/1968</td><td>10/21/1968</td><td>85</td><td>18.7M</td><td>8</td></tr><tr><td>Agnes</td><td>06/14/1972</td><td>07/06/1972</td><td>85</td><td>2.1B</td><td>128</td></tr><tr><td>Kate</td><td>11/15/1985</td><td>11/23/1985</td><td>120</td><td>700M</td><td>15</td></tr><tr><td>Floyd</td><td>10/09/1987</td><td>10/13/1987</td><td>75</td><td>500K</td><td>1</td></tr><tr><td>Andrew</td><td>08/16/1992</td><td>08/29/1992</td><td>175</td><td>27.3B</td><td>65</td></tr><tr><td>Erin</td><td>07/31/1995</td><td>08/06/1995</td><td>100</td><td>700M</td><td>6</td></tr><tr><td>Earl</td><td>08/31/1998</td><td>09/08/1998</td><td>100</td><td>79M</td><td>3</td></tr></table>\n",
      "\n",
      "  \n",
      "\n",
      "</body></html>\n"
     ]
    }
   ],
   "source": [
    "print(b.page_source)"
   ]
  },
  {
   "cell_type": "markdown",
   "id": "0d5ddbd9-2df6-4dc4-9f63-58e189525f93",
   "metadata": {},
   "source": [
    "# How many hurricanes were there each year?"
   ]
  },
  {
   "cell_type": "code",
   "execution_count": 48,
   "id": "f453535d-df68-4aec-ae34-f5f10f7db20c",
   "metadata": {},
   "outputs": [],
   "source": [
    "url = \"https://tyler.caraza-harter.com/cs320/tricky/page4.html\"\n",
    "b.get(url)"
   ]
  },
  {
   "cell_type": "code",
   "execution_count": 49,
   "id": "a1068238-6388-4481-8920-c41b658c6fcf",
   "metadata": {},
   "outputs": [],
   "source": [
    "\n",
    "text = b.find_element(\"id\", \"year\")\n",
    "btn = b.find_element(\"id\", \"search_btn\")"
   ]
  },
  {
   "cell_type": "code",
   "execution_count": 59,
   "id": "a3195a1a-a91d-434a-8ae7-17d08f0f723d",
   "metadata": {},
   "outputs": [
    {
     "data": {
      "text/plain": [
       "1950    3\n",
       "1951    0\n",
       "1952    1\n",
       "1953    2\n",
       "1954    2\n",
       "1955    1\n",
       "1956    2\n",
       "1957    0\n",
       "1958    1\n",
       "1959    4\n",
       "1960    2\n",
       "1961    2\n",
       "1962    1\n",
       "1963    0\n",
       "1964    4\n",
       "1965    1\n",
       "1966    2\n",
       "1967    1\n",
       "1968    1\n",
       "1969    1\n",
       "1970    1\n",
       "1971    3\n",
       "1972    1\n",
       "1973    0\n",
       "1974    1\n",
       "1975    1\n",
       "1976    2\n",
       "1977    1\n",
       "1978    0\n",
       "1979    2\n",
       "1980    1\n",
       "1981    0\n",
       "1982    1\n",
       "1983    1\n",
       "1984    1\n",
       "1985    6\n",
       "1986    1\n",
       "1987    3\n",
       "1988    2\n",
       "1989    3\n",
       "1990    1\n",
       "1991    4\n",
       "1992    3\n",
       "1993    1\n",
       "1994    0\n",
       "1995    3\n",
       "1996    3\n",
       "1997    3\n",
       "1998    3\n",
       "1999    4\n",
       "2000    0\n",
       "2001    0\n",
       "2002    3\n",
       "2003    3\n",
       "2004    8\n",
       "2005    7\n",
       "2006    0\n",
       "2007    1\n",
       "2008    4\n",
       "2009    0\n",
       "dtype: int64"
      ]
     },
     "execution_count": 59,
     "metadata": {},
     "output_type": "execute_result"
    }
   ],
   "source": [
    "\n",
    "counts_per_year = pd.Series(dtype=float)\n",
    "\n",
    "for year in range(1950, 2010):\n",
    "    text.clear()\n",
    "    text.send_keys(str(year))\n",
    "    btn.click()\n",
    "    time.sleep(0.1)\n",
    "    rows = b.find_elements(\"tag name\", \"tr\")\n",
    "    count = len(rows) - 1    \n",
    "    counts_per_year.loc[year] = count\n",
    "counts_per_year"
   ]
  },
  {
   "cell_type": "code",
   "execution_count": 62,
   "id": "79e1485e-4717-4819-878a-08b575daa812",
   "metadata": {},
   "outputs": [
    {
     "data": {
      "text/plain": [
       "Text(0, 0.5, 'Hurricane Count')"
      ]
     },
     "execution_count": 62,
     "metadata": {},
     "output_type": "execute_result"
    },
    {
     "data": {
      "image/png": "[encoded data removed]",
      "text/plain": [
       "<Figure size 432x288 with 1 Axes>"
      ]
     },
     "metadata": {
      "needs_background": "light"
     },
     "output_type": "display_data"
    }
   ],
   "source": [
    "ax = counts_per_year.plot.line()\n",
    "ax.set_xlabel(\"Year\")\n",
    "ax.set_ylabel(\"Hurricane Count\")"
   ]
  }
 ],
 "metadata": {
  "kernelspec": {
   "display_name": "Python 3 (ipykernel)",
   "language": "python",
   "name": "python3"
  },
  "language_info": {
   "codemirror_mode": {
    "name": "ipython",
    "version": 3
   },
   "file_extension": ".py",
   "mimetype": "text/x-python",
   "name": "python",
   "nbconvert_exporter": "python",
   "pygments_lexer": "ipython3",
   "version": "3.9.6"
  }
 },
 "nbformat": 4,
 "nbformat_minor": 5
}
