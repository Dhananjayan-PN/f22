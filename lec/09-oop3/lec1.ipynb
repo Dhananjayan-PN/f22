{
 "cells": [
  {
   "cell_type": "markdown",
   "metadata": {},
   "source": [
    "# Inheritance"
   ]
  },
  {
   "cell_type": "code",
   "execution_count": 15,
   "metadata": {},
   "outputs": [
    {
     "name": "stdout",
     "output_type": "stream",
     "text": [
      "Dog Fido\n",
      "I'm a rabbit (TEST!)\n"
     ]
    }
   ],
   "source": [
    "class Animal:\n",
    "    def __init__(self, name):\n",
    "        self.name = name    \n",
    "\n",
    "    def __str__(self):\n",
    "        return f\"{type(self).__name__} {self.name}\"\n",
    "\n",
    "    def __repr__(self):\n",
    "        return f\"{type(self).__name__}('{self.name}')\"\n",
    "        \n",
    "class Rabbit(Animal):\n",
    "    def __str__(self):  # this method overrides the version we inherited\n",
    "        return \"I'm a rabbit (TEST!)\"\n",
    "\n",
    "class Dog(Animal):\n",
    "    def __init__(self, name, age): # sometimes want to override AND call the parent version\n",
    "        #Animal.__init__(self, name)\n",
    "        super().__init__(name)      # super() is like self, but a level up\n",
    "        self.age = age\n",
    "    \n",
    "    def speak(self):\n",
    "        print(\"bark\")\n",
    "\n",
    "fido = Dog(\"Fido\", 3)\n",
    "print(fido)\n",
    "\n",
    "ruby = Rabbit(\"Ruby\")\n",
    "print(ruby)"
   ]
  },
  {
   "cell_type": "code",
   "execution_count": 8,
   "metadata": {},
   "outputs": [
    {
     "data": {
      "text/plain": [
       "(__main__.Rabbit, __main__.Animal, object)"
      ]
     },
     "execution_count": 8,
     "metadata": {},
     "output_type": "execute_result"
    }
   ],
   "source": [
    "Rabbit.__mro__ # method resolution order (what classes do we search to find methods)"
   ]
  }
 ],
 "metadata": {
  "kernelspec": {
   "display_name": "Python 3 (ipykernel)",
   "language": "python",
   "name": "python3"
  },
  "language_info": {
   "codemirror_mode": {
    "name": "ipython",
    "version": 3
   },
   "file_extension": ".py",
   "mimetype": "text/x-python",
   "name": "python",
   "nbconvert_exporter": "python",
   "pygments_lexer": "ipython3",
   "version": "3.10.4"
  }
 },
 "nbformat": 4,
 "nbformat_minor": 4
}
