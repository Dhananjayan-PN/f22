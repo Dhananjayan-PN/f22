{
 "cells": [
  {
   "cell_type": "markdown",
   "id": "0b4a79c7-8941-4554-aaef-15cf438efda8",
   "metadata": {},
   "source": [
    "# Regex Examples"
   ]
  },
  {
   "cell_type": "markdown",
   "id": "0b9b1c2d-4458-41a3-bfbc-68885d04d4eb",
   "metadata": {},
   "source": [
    "## 1. findall and sub"
   ]
  },
  {
   "cell_type": "code",
   "execution_count": 1,
   "id": "b4432a4b-691a-4c1d-9beb-84df12633d14",
   "metadata": {},
   "outputs": [],
   "source": [
    "s3 = \"In CS 320, there are 10 quizzes, 7 projects, 39 lectures, and 1000 things to learn.  CS 320 is awesome!\"\n",
    "s4 = \"\"\"In CS 320,  there are 10 quizzes,    7 projects,\n",
    "39 lectures, and 1000 things to learn.  CS 320 is awesome!\"\"\""
   ]
  },
  {
   "cell_type": "code",
   "execution_count": 2,
   "id": "1d330ed3-8a19-4960-a858-69b1517f6e75",
   "metadata": {},
   "outputs": [
    {
     "name": "stdout",
     "output_type": "stream",
     "text": [
      "In CS 320, there are 10 quizzes, 7 projects, 39 lectures, and 1000 things to learn.  CS 320 is awesome!\n"
     ]
    }
   ],
   "source": [
    "print(s3)"
   ]
  },
  {
   "cell_type": "code",
   "execution_count": 3,
   "id": "a79dc9f0-5a07-4619-9deb-579d3674ebd5",
   "metadata": {},
   "outputs": [],
   "source": [
    "import re"
   ]
  },
  {
   "cell_type": "code",
   "execution_count": 4,
   "id": "7ab40150-5aa9-4d25-95cd-90758a69b8c2",
   "metadata": {},
   "outputs": [
    {
     "data": {
      "text/plain": [
       "[('10', 'quizzes'),\n",
       " ('7', 'projects'),\n",
       " ('39', 'lectures'),\n",
       " ('1000', 'things'),\n",
       " ('320', 'is')]"
      ]
     },
     "execution_count": 4,
     "metadata": {},
     "output_type": "execute_result"
    }
   ],
   "source": [
    "# GOAL: build a dict (thing => count, for example \"projects\" => 7)\n",
    "matches = re.findall(r\"(\\d+) (\\w+)\", s3)\n",
    "matches"
   ]
  },
  {
   "cell_type": "code",
   "execution_count": 5,
   "id": "d7f4a906-622e-487d-9049-3ed74e38de31",
   "metadata": {},
   "outputs": [
    {
     "data": {
      "text/plain": [
       "{'quizzes': 10, 'projects': 7, 'lectures': 39, 'things': 1000, 'is': 320}"
      ]
     },
     "execution_count": 5,
     "metadata": {},
     "output_type": "execute_result"
    }
   ],
   "source": [
    "d = {}\n",
    "for count, thing in matches:\n",
    "    d[thing] = int(count)\n",
    "d"
   ]
  },
  {
   "cell_type": "code",
   "execution_count": 6,
   "id": "be4dd568-3b78-4787-bbd7-b8b2aef269b6",
   "metadata": {},
   "outputs": [
    {
     "name": "stdout",
     "output_type": "stream",
     "text": [
      "In CS 320,  there are 10 quizzes,    7 projects,\n",
      "39 lectures, and 1000 things to learn.  CS 320 is awesome!\n"
     ]
    }
   ],
   "source": [
    "print(s4)"
   ]
  },
  {
   "cell_type": "code",
   "execution_count": 7,
   "id": "b5b5b6c7-96b2-4db2-8f4b-5256a6c7708d",
   "metadata": {},
   "outputs": [
    {
     "data": {
      "text/plain": [
       "'In CS 320, there are 10 quizzes, 7 projects, 39 lectures, and 1000 things to learn. CS 320 is awesome!'"
      ]
     },
     "execution_count": 7,
     "metadata": {},
     "output_type": "execute_result"
    }
   ],
   "source": [
    "re.sub(r\"\\s+\", \" \", s4)"
   ]
  },
  {
   "cell_type": "markdown",
   "id": "45450451-4e20-4ccd-b8a7-ea0d390f3e56",
   "metadata": {},
   "source": [
    "## 2. Git Logs"
   ]
  },
  {
   "cell_type": "code",
   "execution_count": 8,
   "id": "ac7a4bd8-086e-45ea-8928-6fae74f8128a",
   "metadata": {},
   "outputs": [],
   "source": [
    "from subprocess import check_output"
   ]
  },
  {
   "cell_type": "code",
   "execution_count": 9,
   "id": "75cb483f-789f-4548-8c0d-faf2dc6e0e3b",
   "metadata": {},
   "outputs": [
    {
     "name": "stdout",
     "output_type": "stream",
     "text": [
      "commit db0b60608cae54b4f03d3865a2869d898f427b38\n",
      "Author: Tyler <tharter@wisc.edu>\n",
      "Date:   Fri Oct 28 17:48:45 2022 +0000\n",
      "\n",
      "    oct 28 demos\n",
      "\n",
      "commit 84beaa349296c3c1a997e09b1995bedd74c2af63\n",
      "Author: Tyler <tharter@wisc.edu>\n",
      "Date:   Wed Oct 26 18:23:15 2022 +0000\n",
      "\n",
      "    oct 26 demos\n",
      "\n",
      "commit 061df9417c373d4\n"
     ]
    }
   ],
   "source": [
    "output = str(check_output([\"git\", \"log\"]), \"utf-8\")\n",
    "print(output[:300])"
   ]
  },
  {
   "cell_type": "code",
   "execution_count": 10,
   "id": "9e83fdc8-f87a-4e4e-b1b2-be8a2d9af190",
   "metadata": {},
   "outputs": [
    {
     "data": {
      "text/plain": [
       "['db0b60608cae54b4f03d3865a2869d898f427b38',\n",
       " '84beaa349296c3c1a997e09b1995bedd74c2af63',\n",
       " '061df9417c373d4758b84b8f84c2c28b16268e1d',\n",
       " 'e0c198c43d15fe8a3bd939872108d9dcf8a8c45a',\n",
       " '5c2caab558065660b34e06aa11177c47f401ba22']"
      ]
     },
     "execution_count": 10,
     "metadata": {},
     "output_type": "execute_result"
    }
   ],
   "source": [
    "# find all the commit numbers\n",
    "commits = re.findall(r\"[0-9a-f]{40}\", output)\n",
    "commits[:5]"
   ]
  },
  {
   "cell_type": "code",
   "execution_count": 11,
   "id": "680db517-412c-460c-a969-eefd44e7c6be",
   "metadata": {},
   "outputs": [],
   "source": [
    "# GOAL: what days of the week are people working the most"
   ]
  },
  {
   "cell_type": "code",
   "execution_count": 12,
   "id": "c601e8d1-7956-4c31-9004-42ddf759ec22",
   "metadata": {},
   "outputs": [
    {
     "data": {
      "text/plain": [
       "['Fri', 'Wed', 'Fri', 'Fri', 'Fri', 'Fri', 'Fri', 'Fri', 'Thu', 'Thu']"
      ]
     },
     "execution_count": 12,
     "metadata": {},
     "output_type": "execute_result"
    }
   ],
   "source": [
    "days = re.findall(r\"Date:\\s*(\\w+)\", output)\n",
    "days[:10]"
   ]
  },
  {
   "cell_type": "code",
   "execution_count": 13,
   "id": "5b222f39-795c-4140-8e26-c66b0c04236e",
   "metadata": {},
   "outputs": [
    {
     "data": {
      "text/plain": [
       "Thu    39\n",
       "Mon    17\n",
       "Fri    14\n",
       "Tue    12\n",
       "Sat    10\n",
       "Wed     9\n",
       "Sun     6\n",
       "dtype: int64"
      ]
     },
     "execution_count": 13,
     "metadata": {},
     "output_type": "execute_result"
    }
   ],
   "source": [
    "import pandas as pd\n",
    "pd.Series(days).value_counts()"
   ]
  },
  {
   "cell_type": "code",
   "execution_count": 14,
   "id": "65228855-b83d-4761-b147-674cae47b171",
   "metadata": {},
   "outputs": [
    {
     "data": {
      "text/plain": [
       "<AxesSubplot:>"
      ]
     },
     "execution_count": 14,
     "metadata": {},
     "output_type": "execute_result"
    },
    {
     "data": {
      "image/png": "[encoded data removed]",
      "text/plain": [
       "<Figure size 640x480 with 1 Axes>"
      ]
     },
     "metadata": {},
     "output_type": "display_data"
    }
   ],
   "source": [
    "pd.Series(days).value_counts().plot.bar()"
   ]
  },
  {
   "cell_type": "code",
   "execution_count": 15,
   "id": "f8ac8a90-0eed-4e0c-a9fd-4e18ea540a23",
   "metadata": {},
   "outputs": [
    {
     "name": "stdout",
     "output_type": "stream",
     "text": [
      "commit db0b60608cae54b4f03d3865a2869d898f427b38\n",
      "Author: Tyler <tharter@wisc.edu>\n",
      "Date:   Fri Oct 28 17:48:45 2022 +0000\n",
      "\n",
      "    oct 28 demos\n",
      "\n",
      "commit 84beaa349296c3c1a997e09b1995bedd74c2af63\n",
      "Author: Tyler <tharter@wisc.edu>\n",
      "Date:   Wed Oct 26 18:23:15 2022 +0000\n",
      "\n",
      "    oct 26 demos\n",
      "\n",
      "commit 061df9417c373d4\n"
     ]
    }
   ],
   "source": [
    "print(output[:300])"
   ]
  },
  {
   "cell_type": "code",
   "execution_count": 16,
   "id": "19ef1821-4a07-42ea-bab8-cec84fad73e3",
   "metadata": {},
   "outputs": [
    {
     "data": {
      "text/plain": [
       "['Tyler',\n",
       " 'Tyler',\n",
       " 'M. Iván Jaen M',\n",
       " 'Ivan Jaen-Marquez',\n",
       " 'Ivan Jaen-Marquez',\n",
       " 'Tyler Caraza-Harter',\n",
       " 'Tyler',\n",
       " 'Tyler',\n",
       " 'Ivan Jaen-Marquez',\n",
       " 'Ivan Jaen-Marquez',\n",
       " 'Ana Klabjan',\n",
       " 'Ana Klabjan',\n",
       " 'Ana Klabjan',\n",
       " 'Ana Klabjan',\n",
       " 'Ana Klabjan',\n",
       " 'M. Iván Jaen M',\n",
       " 'Ana Klabjan',\n",
       " 'Ana Klabjan',\n",
       " 'tylerharter',\n",
       " 'tylerharter']"
      ]
     },
     "execution_count": 16,
     "metadata": {},
     "output_type": "execute_result"
    }
   ],
   "source": [
    "# GOAL: find authors\n",
    "re.findall(r\"Author:\\s*(.+?)\\s*<\", output)[:20]"
   ]
  },
  {
   "cell_type": "code",
   "execution_count": 17,
   "id": "a1e5b9f0-2921-49c9-90b3-39c92d6fe647",
   "metadata": {},
   "outputs": [
    {
     "data": {
      "text/plain": [
       "['Merge pull request #8 from cs320-wisc/P4',\n",
       " 'P4',\n",
       " 'Merge pull request #7 from cs320-wisc/P4',\n",
       " 'P4',\n",
       " 'Merge pull request #6 from cs320-wisc/P4',\n",
       " 'first changes to old p4',\n",
       " 'first push of p6 draft',\n",
       " 'added changes to old p4',\n",
       " 'release P3',\n",
       " 'release P2',\n",
       " 'release P2',\n",
       " 'p2 changes draft2',\n",
       " 'added instructions to testing to include format of p1.ipynb',\n",
       " 'p2 draft_1',\n",
       " 'p2 draft _1',\n",
       " 'p2 draft',\n",
       " 'dataset for p2',\n",
       " 'p1 typo',\n",
       " 'release p1 starter video',\n",
       " 'release p1 starter video',\n",
       " 'release p1',\n",
       " 'release p1',\n",
       " 'p1 CSVs']"
      ]
     },
     "execution_count": 17,
     "metadata": {},
     "output_type": "execute_result"
    }
   ],
   "source": [
    "# WANT: any line containing a reference to a project\n",
    "re.findall(r\"\\s*(.*[pP][1-7].*)\", output)"
   ]
  },
  {
   "cell_type": "markdown",
   "id": "a08477c5-f99b-4f7f-839b-e353c1559557",
   "metadata": {},
   "source": [
    "## 3. Emails"
   ]
  },
  {
   "cell_type": "code",
   "execution_count": 18,
   "id": "6838c9ee-7dbe-4700-9598-e317f4d95440",
   "metadata": {},
   "outputs": [
    {
     "name": "stdout",
     "output_type": "stream",
     "text": [
      "\n",
      "Tyler [Instructor] - tharter (AT) wisc.edu\n",
      "Cong [Head TA] - cding44 (AT) wisc.edu\n",
      "Bryce [TA] - bcjohnson7 (AT) wisc.edu\n",
      "Connor [TA] - cbailey9 (AT) wisc.edu\n",
      "Han [TA] - hwang638 (AT) wisc.edu\n",
      "Hardik [TA] - hchauhan2 (AT) wisc.edu\n",
      "Keaton [TA] - kleppanen (AT) wisc.edu\n",
      "Nils [TA] - npalumbo (AT) wisc.edu\n",
      "Yiyin [TA] - yshen82 (AT) wisc.edu\n",
      "tharter@wisc.edu\n",
      "\n"
     ]
    }
   ],
   "source": [
    "# TODO: actually scrape it\n",
    "s = \"\"\"\n",
    "Tyler [Instructor] - tharter (AT) wisc.edu\n",
    "Cong [Head TA] - cding44 (AT) wisc.edu\n",
    "Bryce [TA] - bcjohnson7 (AT) wisc.edu\n",
    "Connor [TA] - cbailey9 (AT) wisc.edu\n",
    "Han [TA] - hwang638 (AT) wisc.edu\n",
    "Hardik [TA] - hchauhan2 (AT) wisc.edu\n",
    "Keaton [TA] - kleppanen (AT) wisc.edu\n",
    "Nils [TA] - npalumbo (AT) wisc.edu\n",
    "Yiyin [TA] - yshen82 (AT) wisc.edu\n",
    "tharter@wisc.edu\n",
    "\"\"\"\n",
    "print(s)"
   ]
  },
  {
   "cell_type": "code",
   "execution_count": 30,
   "id": "cf229250-e6ae-40d2-861b-ec06be954312",
   "metadata": {},
   "outputs": [
    {
     "name": "stdout",
     "output_type": "stream",
     "text": [
      "REGEX: ((\\w+)\\s*@|([\\(\\[]?[Aa][Tt][\\)\\]?]?)\\s*\\w+\\.(com|edu|org|io|net))\n",
      "('(AT) wisc.edu', '', '(AT)', 'edu')\n",
      "('(AT) wisc.edu', '', '(AT)', 'edu')\n",
      "('(AT) wisc.edu', '', '(AT)', 'edu')\n",
      "('(AT) wisc.edu', '', '(AT)', 'edu')\n",
      "('(AT) wisc.edu', '', '(AT)', 'edu')\n",
      "('(AT) wisc.edu', '', '(AT)', 'edu')\n",
      "('(AT) wisc.edu', '', '(AT)', 'edu')\n",
      "('(AT) wisc.edu', '', '(AT)', 'edu')\n",
      "('(AT) wisc.edu', '', '(AT)', 'edu')\n",
      "('tharter@', 'tharter', '', '')\n"
     ]
    }
   ],
   "source": [
    "name = r\"\\w+\"\n",
    "at = r\"@|([\\(\\[]?[Aa][Tt][\\)\\]?]?)\"\n",
    "domain = r\"\\w+\\.(com|edu|org|io|net)\"\n",
    "total_regex = f\"(({name})\\s*{at}\\s*{domain})\"\n",
    "print(\"REGEX:\", total_regex)\n",
    "\n",
    "for match in re.findall(total_regex, s):\n",
    "    print(match)"
   ]
  },
  {
   "cell_type": "code",
   "execution_count": 38,
   "id": "f78ab862-f39a-44a6-a1dd-23505495a36f",
   "metadata": {},
   "outputs": [
    {
     "name": "stdout",
     "output_type": "stream",
     "text": [
      "REGEX: ((\\w+)\\s*(@|([\\(\\[]?[Aa][Tt][\\)\\]?]?))\\s*(\\w+\\.(com|edu|org|io|net)))\n",
      "tharter@wisc.edu\n",
      "cding44@wisc.edu\n",
      "bcjohnson7@wisc.edu\n",
      "cbailey9@wisc.edu\n",
      "hwang638@wisc.edu\n",
      "hchauhan2@wisc.edu\n",
      "kleppanen@wisc.edu\n",
      "npalumbo@wisc.edu\n",
      "yshen82@wisc.edu\n",
      "tharter@wisc.edu\n"
     ]
    }
   ],
   "source": [
    "# NOTE!  The above example was incomplete during lecture.  The issue\n",
    "# was that the \"|\" in at was being used to ignore the name entirely#\n",
    "# (once all the pieces were glued together).\n",
    "#\n",
    "# the fix is to put parethneses around each part in total_regex.\n",
    "#\n",
    "# correct version:\n",
    "name = r\"\\w+\"\n",
    "at = r\"@|([\\(\\[]?[Aa][Tt][\\)\\]?]?)\"\n",
    "domain = r\"\\w+\\.(com|edu|org|io|net)\"\n",
    "total_regex = f\"(({name})\\s*({at})\\s*({domain}))\"\n",
    "print(\"REGEX:\", total_regex)\n",
    "\n",
    "for match in re.findall(total_regex, s):\n",
    "    print(match[1] + \"@\" + match[4])"
   ]
  },
  {
   "cell_type": "markdown",
   "id": "12a3c860-92b8-455c-a53d-afe1de3a1ec8",
   "metadata": {},
   "source": [
    "## 4. Function Names"
   ]
  },
  {
   "cell_type": "code",
   "execution_count": null,
   "id": "de9283ef-55c7-4ea3-9bb3-073422f4aa15",
   "metadata": {},
   "outputs": [],
   "source": []
  }
 ],
 "metadata": {
  "kernelspec": {
   "display_name": "Python 3 (ipykernel)",
   "language": "python",
   "name": "python3"
  },
  "language_info": {
   "codemirror_mode": {
    "name": "ipython",
    "version": 3
   },
   "file_extension": ".py",
   "mimetype": "text/x-python",
   "name": "python",
   "nbconvert_exporter": "python",
   "pygments_lexer": "ipython3",
   "version": "3.10.4"
  }
 },
 "nbformat": 4,
 "nbformat_minor": 5
}
