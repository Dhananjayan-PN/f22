{
 "cells": [
  {
   "cell_type": "markdown",
   "id": "0b4a79c7-8941-4554-aaef-15cf438efda8",
   "metadata": {},
   "source": [
    "# Regex Examples"
   ]
  },
  {
   "cell_type": "markdown",
   "id": "0b9b1c2d-4458-41a3-bfbc-68885d04d4eb",
   "metadata": {},
   "source": [
    "## 1. findall and sub"
   ]
  },
  {
   "cell_type": "code",
   "execution_count": 2,
   "id": "b4432a4b-691a-4c1d-9beb-84df12633d14",
   "metadata": {},
   "outputs": [],
   "source": [
    "s3 = \"In CS 320, there are 10 quizzes, 7 projects, 39 lectures, and 1000 things to learn.  CS 320 is awesome!\"\n",
    "s4 = \"\"\"In CS 320,  there are 14 quizzes,    7 projects,\n",
    "41 lectures, and 1000 things to learn.  CS 320 is awesome!\"\"\""
   ]
  },
  {
   "cell_type": "code",
   "execution_count": 3,
   "id": "1d330ed3-8a19-4960-a858-69b1517f6e75",
   "metadata": {},
   "outputs": [
    {
     "name": "stdout",
     "output_type": "stream",
     "text": [
      "In CS 320, there are 10 quizzes, 7 projects, 39 lectures, and 1000 things to learn.  CS 320 is awesome!\n"
     ]
    }
   ],
   "source": [
    "print(s3)"
   ]
  },
  {
   "cell_type": "code",
   "execution_count": 11,
   "id": "2ae1ba76-e7d3-40dc-b5d2-c484f94eeca0",
   "metadata": {},
   "outputs": [
    {
     "data": {
      "text/plain": [
       "[('10', 'quizzes'),\n",
       " ('7', 'projects'),\n",
       " ('39', 'lectures'),\n",
       " ('1000', 'things'),\n",
       " ('320', 'is')]"
      ]
     },
     "execution_count": 11,
     "metadata": {},
     "output_type": "execute_result"
    }
   ],
   "source": [
    "# GOAL: make a dict (thing => count, like \"projects\" => 7)\n",
    "import re\n",
    "\n",
    "matches = re.findall(r\"(\\d+) (\\w+)\", s3)\n",
    "matches"
   ]
  },
  {
   "cell_type": "code",
   "execution_count": 12,
   "id": "d5afa144-c8ba-411b-ac43-a4435c68847b",
   "metadata": {},
   "outputs": [
    {
     "data": {
      "text/plain": [
       "{'quizzes': 10, 'projects': 7, 'lectures': 39, 'things': 1000, 'is': 320}"
      ]
     },
     "execution_count": 12,
     "metadata": {},
     "output_type": "execute_result"
    }
   ],
   "source": [
    "d = {}\n",
    "for count, thing in matches:\n",
    "    d[thing] = int(count)\n",
    "d"
   ]
  },
  {
   "cell_type": "code",
   "execution_count": 14,
   "id": "4ea3fc67-2754-4c59-8019-f4c41a2ee691",
   "metadata": {},
   "outputs": [
    {
     "name": "stdout",
     "output_type": "stream",
     "text": [
      "In CS 320,  there are 14 quizzes,    7 projects,\n",
      "41 lectures, and 1000 things to learn.  CS 320 is awesome!\n"
     ]
    }
   ],
   "source": [
    "# goal: normalize whitespace (everything will be a single space)\n",
    "print(s4)"
   ]
  },
  {
   "cell_type": "code",
   "execution_count": 15,
   "id": "bbedb940-31e7-40ab-8752-38842d8ebcea",
   "metadata": {},
   "outputs": [
    {
     "data": {
      "text/plain": [
       "'In CS 320, there are 14 quizzes, 7 projects, 41 lectures, and 1000 things to learn. CS 320 is awesome!'"
      ]
     },
     "execution_count": 15,
     "metadata": {},
     "output_type": "execute_result"
    }
   ],
   "source": [
    "re.sub(r\"\\s+\", \" \", s4)"
   ]
  },
  {
   "cell_type": "markdown",
   "id": "45450451-4e20-4ccd-b8a7-ea0d390f3e56",
   "metadata": {},
   "source": [
    "## 2. Git Logs"
   ]
  },
  {
   "cell_type": "code",
   "execution_count": 18,
   "id": "1b7605cc-d0b5-4fbf-990e-9dc6b4ad2fa2",
   "metadata": {},
   "outputs": [],
   "source": [
    "from subprocess import check_output"
   ]
  },
  {
   "cell_type": "code",
   "execution_count": 22,
   "id": "2a520cf2-f177-4285-9abc-fbc2711636cc",
   "metadata": {},
   "outputs": [
    {
     "name": "stdout",
     "output_type": "stream",
     "text": [
      "commit db0b60608cae54b4f03d3865a2869d898f427b38\n",
      "Author: Tyler <tharter@wisc.edu>\n",
      "Date:   Fri Oct 28 17:48:45 2022 +0000\n",
      "\n",
      "    oct 28 demos\n",
      "\n",
      "commit 84beaa349296c3c1a997e09b1995bedd74c2af63\n",
      "Author: Tyler <tharter@wisc.edu>\n",
      "Date:   Wed Oct 26 18:23:15 2022 +0000\n",
      "\n",
      "    oct 26 demos\n",
      "\n",
      "commit 061df9417c373d4758b84b8f84c2c28b16268e1d\n",
      "Merge: c3c2bfa e0c198c\n",
      "Author: M. Iván Jaen M <ivanjaenm@gmail.com>\n",
      "Date:   Fri Oct 21 22:27:34 2022 -0500\n",
      "\n",
      "    Merge pull request #8 from cs320-wisc/P4\n",
      "    \n",
      "    P4\n",
      "\n",
      "commit e\n"
     ]
    }
   ],
   "source": [
    "output = str(check_output([\"git\", \"log\"]), \"utf-8\")\n",
    "print(output[:500])"
   ]
  },
  {
   "cell_type": "code",
   "execution_count": 24,
   "id": "969d4904-7f43-41de-8d99-6972ce7bb606",
   "metadata": {},
   "outputs": [
    {
     "data": {
      "text/plain": [
       "['db0b60608cae54b4f03d3865a2869d898f427b38',\n",
       " '84beaa349296c3c1a997e09b1995bedd74c2af63',\n",
       " '061df9417c373d4758b84b8f84c2c28b16268e1d',\n",
       " 'e0c198c43d15fe8a3bd939872108d9dcf8a8c45a',\n",
       " '5c2caab558065660b34e06aa11177c47f401ba22',\n",
       " 'c3c2bfa4bcc283f30a0637cc1bf72c179ad11795',\n",
       " '1ff31fb833185b9ac91de417cee94454e038857c',\n",
       " '528d800bec00a02c2746455253ab5cfddd6a6800',\n",
       " '5c30c12e53564e60f50f5b01fe574a235da198f9',\n",
       " '7e4ef5de052312446162902ebc8d68532a7ce769']"
      ]
     },
     "execution_count": 24,
     "metadata": {},
     "output_type": "execute_result"
    }
   ],
   "source": [
    "# GOAL: find all the commit numbers\n",
    "commits = re.findall(r\"[0-9a-f]{40}\", output)\n",
    "commits[:10]"
   ]
  },
  {
   "cell_type": "code",
   "execution_count": 39,
   "id": "0a8d98bf-cf82-426d-9a3f-92bbb0ed353c",
   "metadata": {},
   "outputs": [
    {
     "data": {
      "text/plain": [
       "['Fri', 'Wed', 'Fri', 'Fri', 'Fri', 'Fri', 'Fri', 'Fri', 'Thu', 'Thu']"
      ]
     },
     "execution_count": 39,
     "metadata": {},
     "output_type": "execute_result"
    }
   ],
   "source": [
    "# what days of the week do Tyler and the teaching team work (pushing stuff) the most?\n",
    "days = re.findall(r\"Date:\\s+(\\w+)\", output)\n",
    "days[:10]"
   ]
  },
  {
   "cell_type": "code",
   "execution_count": 36,
   "id": "02bb3d29-abca-44a3-919a-e7739e1299c7",
   "metadata": {},
   "outputs": [
    {
     "data": {
      "text/plain": [
       "Thu    39\n",
       "Mon    17\n",
       "Fri    14\n",
       "Tue    12\n",
       "Sat    10\n",
       "Wed     9\n",
       "Sun     6\n",
       "dtype: int64"
      ]
     },
     "execution_count": 36,
     "metadata": {},
     "output_type": "execute_result"
    }
   ],
   "source": [
    "import pandas as pd\n",
    "pd.Series(days).value_counts()"
   ]
  },
  {
   "cell_type": "code",
   "execution_count": 38,
   "id": "2044dd0e-5bd2-4718-a7ea-f8b5aff8071f",
   "metadata": {},
   "outputs": [
    {
     "data": {
      "text/plain": [
       "<AxesSubplot:>"
      ]
     },
     "execution_count": 38,
     "metadata": {},
     "output_type": "execute_result"
    },
    {
     "data": {
      "image/png": "[encoded data removed]",
      "text/plain": [
       "<Figure size 640x480 with 1 Axes>"
      ]
     },
     "metadata": {},
     "output_type": "display_data"
    }
   ],
   "source": [
    "pd.Series(days).value_counts().plot.bar()"
   ]
  },
  {
   "cell_type": "code",
   "execution_count": 43,
   "id": "4cc23076-fa06-40a9-b15c-14b0b37f73ec",
   "metadata": {},
   "outputs": [
    {
     "data": {
      "text/plain": [
       "<AxesSubplot:>"
      ]
     },
     "execution_count": 43,
     "metadata": {},
     "output_type": "execute_result"
    },
    {
     "data": {
      "image/png": "[encoded data removed]",
      "text/plain": [
       "<Figure size 640x480 with 1 Axes>"
      ]
     },
     "metadata": {},
     "output_type": "display_data"
    }
   ],
   "source": [
    "pd.Series(days).value_counts().loc[[\"Mon\", \"Tue\", \"Wed\"]].plot.bar()"
   ]
  },
  {
   "cell_type": "code",
   "execution_count": 52,
   "id": "b4a5febf-2537-458e-b382-0a0f3fda3350",
   "metadata": {},
   "outputs": [
    {
     "data": {
      "text/plain": [
       "['Tyler',\n",
       " 'Tyler',\n",
       " 'M. Iván Jaen M',\n",
       " 'Ivan Jaen-Marquez',\n",
       " 'Ivan Jaen-Marquez',\n",
       " 'Tyler Caraza-Harter',\n",
       " 'Tyler',\n",
       " 'Tyler',\n",
       " 'Ivan Jaen-Marquez',\n",
       " 'Ivan Jaen-Marquez']"
      ]
     },
     "execution_count": 52,
     "metadata": {},
     "output_type": "execute_result"
    }
   ],
   "source": [
    "authors = re.findall(r\"Author:\\s+(.+?)\\s*<\", output)\n",
    "authors[:10]"
   ]
  },
  {
   "cell_type": "code",
   "execution_count": 58,
   "id": "9ec6b8e3-8880-4d6a-8ee9-366b8c367cde",
   "metadata": {},
   "outputs": [
    {
     "data": {
      "text/plain": [
       "['    Merge pull request #8 from cs320-wisc/P4',\n",
       " '    P4',\n",
       " '    Merge pull request #7 from cs320-wisc/P4',\n",
       " '    P4',\n",
       " '    Merge pull request #6 from cs320-wisc/P4',\n",
       " '    first changes to old p4',\n",
       " '    first push of p6 draft',\n",
       " '    added changes to old p4',\n",
       " '    release P3',\n",
       " '    release P2',\n",
       " '    release P2',\n",
       " '    p2 changes draft2',\n",
       " '    added instructions to testing to include format of p1.ipynb',\n",
       " '    p2 draft_1',\n",
       " '    p2 draft _1',\n",
       " '    p2 draft',\n",
       " '    dataset for p2',\n",
       " '    p1 typo',\n",
       " '    release p1 starter video',\n",
       " '    release p1 starter video',\n",
       " '    release p1',\n",
       " '    release p1',\n",
       " '    p1 CSVs']"
      ]
     },
     "execution_count": 58,
     "metadata": {},
     "output_type": "execute_result"
    }
   ],
   "source": [
    "# GOAL: find any lines that mentions a project\n",
    "re.findall(r\".*[pP][1-7].*\", output)"
   ]
  },
  {
   "cell_type": "code",
   "execution_count": 28,
   "id": "995c0d0e-2ea3-4f40-808d-7c515881f827",
   "metadata": {},
   "outputs": [
    {
     "name": "stdout",
     "output_type": "stream",
     "text": [
      "commit db0b60608cae54b4f03d3865a2869d898f427b38\n",
      "Author: Tyler <tharter@wisc.edu>\n",
      "Date:   Fri Oct 28 17:48:45 2022 +0000\n",
      "\n",
      "    oct 28 demos\n",
      "\n",
      "commit 84beaa349296c3c1a997e09b1995bedd74c2af63\n",
      "Author: Tyler <tharter@wisc.edu>\n",
      "Date:   Wed Oct 26 18:23:15 2022 +0000\n",
      "\n",
      "    oct 26 demos\n",
      "\n",
      "commit 061df9417c373d4758b84b8f84c2c28b16268e1d\n",
      "Merge: c3c2bfa e0c198c\n",
      "Author: M. Iván Jaen M <ivanjaenm@gmail.com>\n",
      "Date:   Fri Oct 21 22:27:34 2022 -0500\n",
      "\n",
      "    Merge pull request #8 from cs320-wisc/P4\n",
      "    \n",
      "    P4\n",
      "\n",
      "commit e\n"
     ]
    }
   ],
   "source": [
    "print(output[:500])"
   ]
  },
  {
   "cell_type": "markdown",
   "id": "a08477c5-f99b-4f7f-839b-e353c1559557",
   "metadata": {},
   "source": [
    "## 3. Emails"
   ]
  },
  {
   "cell_type": "code",
   "execution_count": 60,
   "id": "6838c9ee-7dbe-4700-9598-e317f4d95440",
   "metadata": {},
   "outputs": [
    {
     "name": "stdout",
     "output_type": "stream",
     "text": [
      "\n",
      "Tyler [Instructor] - tharter (AT) wisc.edu\n",
      "Cong [Head TA] - cding44 (AT) wisc.edu\n",
      "Bryce [TA] - bcjohnson7 (AT) wisc.edu\n",
      "Connor [TA] - cbailey9 (AT) wisc.edu\n",
      "Han [TA] - hwang638 (AT) wisc.edu\n",
      "Hardik [TA] - hchauhan2 (AT) wisc.edu\n",
      "Keaton [TA] - kleppanen (AT) wisc.edu\n",
      "Nils [TA] - npalumbo (AT) wisc.edu\n",
      "Yiyin [TA] - yshen82 (AT) wisc.edu\n",
      "tharter@wisc.edu\n",
      "\n"
     ]
    }
   ],
   "source": [
    "# TODO: use requests.get to download instead of copy/paste\n",
    "s = \"\"\"\n",
    "Tyler [Instructor] - tharter (AT) wisc.edu\n",
    "Cong [Head TA] - cding44 (AT) wisc.edu\n",
    "Bryce [TA] - bcjohnson7 (AT) wisc.edu\n",
    "Connor [TA] - cbailey9 (AT) wisc.edu\n",
    "Han [TA] - hwang638 (AT) wisc.edu\n",
    "Hardik [TA] - hchauhan2 (AT) wisc.edu\n",
    "Keaton [TA] - kleppanen (AT) wisc.edu\n",
    "Nils [TA] - npalumbo (AT) wisc.edu\n",
    "Yiyin [TA] - yshen82 (AT) wisc.edu\n",
    "tharter@wisc.edu\n",
    "\"\"\"\n",
    "print(s)"
   ]
  },
  {
   "cell_type": "code",
   "execution_count": 69,
   "id": "f89e75e7-b02e-4d73-ab3b-8bb58abe6773",
   "metadata": {},
   "outputs": [
    {
     "name": "stdout",
     "output_type": "stream",
     "text": [
      "REGEX: ((\\w+)\\s*(@|([\\(\\[]?[Aa][Tt][\\)\\]]?))\\s*(\\w+\\.(edu|com|org|net|io|gov)))\n",
      "tharter@wisc.edu\n",
      "cding44@wisc.edu\n",
      "bcjohnson7@wisc.edu\n",
      "cbailey9@wisc.edu\n",
      "hwang638@wisc.edu\n",
      "hchauhan2@wisc.edu\n",
      "kleppanen@wisc.edu\n",
      "npalumbo@wisc.edu\n",
      "yshen82@wisc.edu\n",
      "tharter@wisc.edu\n"
     ]
    }
   ],
   "source": [
    "name = r\"\\w+\"\n",
    "at = r\"@|([\\(\\[]?[Aa][Tt][\\)\\]]?)\"\n",
    "domain = r\"\\w+\\.(edu|com|org|net|io|gov)\"\n",
    "\n",
    "full_regex = f\"(({name})\\s*({at})\\s*({domain}))\"\n",
    "\n",
    "print(\"REGEX:\", full_regex)\n",
    "for match in re.findall(full_regex, s):\n",
    "    print(match[1] + \"@\" + match[4])"
   ]
  },
  {
   "cell_type": "markdown",
   "id": "12a3c860-92b8-455c-a53d-afe1de3a1ec8",
   "metadata": {},
   "source": [
    "## 4. Function Names"
   ]
  },
  {
   "cell_type": "code",
   "execution_count": null,
   "id": "de9283ef-55c7-4ea3-9bb3-073422f4aa15",
   "metadata": {},
   "outputs": [],
   "source": []
  }
 ],
 "metadata": {
  "kernelspec": {
   "display_name": "Python 3 (ipykernel)",
   "language": "python",
   "name": "python3"
  },
  "language_info": {
   "codemirror_mode": {
    "name": "ipython",
    "version": 3
   },
   "file_extension": ".py",
   "mimetype": "text/x-python",
   "name": "python",
   "nbconvert_exporter": "python",
   "pygments_lexer": "ipython3",
   "version": "3.10.6"
  }
 },
 "nbformat": 4,
 "nbformat_minor": 5
}
