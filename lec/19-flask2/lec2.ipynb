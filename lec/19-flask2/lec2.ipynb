{
 "cells": [
  {
   "cell_type": "code",
   "execution_count": 15,
   "id": "dddb4f38-92cc-4752-8f91-b5881d3ab943",
   "metadata": {},
   "outputs": [],
   "source": [
    "import requests, time"
   ]
  },
  {
   "cell_type": "code",
   "execution_count": 29,
   "id": "56edbdee-4f25-426c-9bc9-c6ff253e1e31",
   "metadata": {},
   "outputs": [
    {
     "data": {
      "text/plain": [
       "False"
      ]
     },
     "execution_count": 29,
     "metadata": {},
     "output_type": "execute_result"
    }
   ],
   "source": [
    "import urllib.robotparser\n",
    "rp = urllib.robotparser.RobotFileParser()\n",
    "rp.set_url(\"http://34.70.138.59:5000/robots.txt\")\n",
    "rp.read()\n",
    "rp.can_fetch(\"cs320bot\", \"http://34.70.138.59:5000/never\")"
   ]
  },
  {
   "cell_type": "code",
   "execution_count": 30,
   "id": "5c4c313d-6488-4de9-8a96-452ba650263b",
   "metadata": {},
   "outputs": [
    {
     "data": {
      "text/plain": [
       "True"
      ]
     },
     "execution_count": 30,
     "metadata": {},
     "output_type": "execute_result"
    }
   ],
   "source": [
    "rp.can_fetch(\"cs320bot\", \"http://34.70.138.59:5000/slow\")"
   ]
  },
  {
   "cell_type": "code",
   "execution_count": 34,
   "id": "4444c2e4-f12f-41ae-aae0-0fff8b9b9550",
   "metadata": {},
   "outputs": [
    {
     "name": "stdout",
     "output_type": "stream",
     "text": [
      "wait for 3s\n"
     ]
    },
    {
     "data": {
      "text/plain": [
       "'welcome!'"
      ]
     },
     "execution_count": 34,
     "metadata": {},
     "output_type": "execute_result"
    }
   ],
   "source": [
    "def friendly_get(url):\n",
    "    if not rp.can_fetch(\"cs320bot\", url):\n",
    "        raise Exception(\"you're not supposed to go there!\")\n",
    "        \n",
    "    while True:\n",
    "        resp = requests.get(url)\n",
    "        if resp.status_code == 429:\n",
    "            seconds = int(resp.headers['Retry-After'])\n",
    "            print(f\"wait for {seconds}s\")\n",
    "            time.sleep(seconds)\n",
    "            continue\n",
    "        resp.raise_for_status() # cause exception if not 200\n",
    "        return resp\n",
    "\n",
    "friendly_get(\"http://34.70.138.59:5000/slow\").text"
   ]
  },
  {
   "cell_type": "code",
   "execution_count": 7,
   "id": "d583beb2-bbdf-4057-be96-f530023d8834",
   "metadata": {},
   "outputs": [
    {
     "data": {
      "text/plain": [
       "'go <b>away!</b>'"
      ]
     },
     "execution_count": 7,
     "metadata": {},
     "output_type": "execute_result"
    }
   ],
   "source": [
    "resp.text"
   ]
  },
  {
   "cell_type": "code",
   "execution_count": null,
   "id": "c0e574cb-2a4a-428a-8979-f1dd63b7f630",
   "metadata": {},
   "outputs": [],
   "source": []
  }
 ],
 "metadata": {
  "kernelspec": {
   "display_name": "Python 3 (ipykernel)",
   "language": "python",
   "name": "python3"
  },
  "language_info": {
   "codemirror_mode": {
    "name": "ipython",
    "version": 3
   },
   "file_extension": ".py",
   "mimetype": "text/x-python",
   "name": "python",
   "nbconvert_exporter": "python",
   "pygments_lexer": "ipython3",
   "version": "3.10.4"
  }
 },
 "nbformat": 4,
 "nbformat_minor": 5
}
