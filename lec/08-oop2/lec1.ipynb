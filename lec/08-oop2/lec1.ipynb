{
 "cells": [
  {
   "cell_type": "code",
   "execution_count": 1,
   "id": "b43ec3b4-2994-4219-b674-b50d68023b83",
   "metadata": {},
   "outputs": [
    {
     "data": {
      "text/plain": [
       "'9.32 miles SE of Waynoka, Oklahoma'"
      ]
     },
     "execution_count": 1,
     "metadata": {},
     "output_type": "execute_result"
    }
   ],
   "source": [
    "# represent earthquakes using classes\n",
    "\n",
    "quake_dicts = [{'place': 'southeast of the Loyalty Islands',\n",
    "  'time': 1637538745422,\n",
    "  'mag': 4.5,\n",
    "  'loc': {'lat': -22.7976, 'lon': 171.963}},\n",
    " {'place': '5km ESE of Walker, CA',\n",
    "  'time': 1637537593330,\n",
    "  'mag': 1.19,\n",
    "  'loc': {'lat': 38.504, 'lon': -119.429}},\n",
    " {'place': '19 km W of Cheyenne Wells, Colorado',\n",
    "  'time': 1637537565440,\n",
    "  'mag': 1.9,\n",
    "  'loc': {'lat': 38.8551, 'lon': -102.5692}},\n",
    " {'place': '4 km NW of Point MacKenzie, Alaska',\n",
    "  'time': 1637537529410,\n",
    "  'mag': 1.7,\n",
    "  'loc': {'lat': 61.3898, 'lon': -150.0462}},\n",
    " {'place': '15 km SE of Waynoka, Oklahoma',\n",
    "  'time': 1637537486109,\n",
    "  'mag': 1.51,\n",
    "  'loc': {'lat': 36.473, 'lon': -98.7745}}]\n",
    "\n",
    "def place_miles(quake):\n",
    "    place = quake[\"place\"]\n",
    "    km_idx = place.find(\"km\")\n",
    "    if km_idx < 0:\n",
    "        return place\n",
    "    num = place[:km_idx].strip()\n",
    "    if not num.isdigit():\n",
    "        return place\n",
    "    miles = round(float(num) * 0.621371, 2)\n",
    "    return f\"{miles} miles{place[km_idx+2:]}\"\n",
    "\n",
    "place_miles(quake_dicts[4])"
   ]
  },
  {
   "cell_type": "code",
   "execution_count": 46,
   "id": "c569323c-1844-4dc4-b5e0-1e5ea65a34f2",
   "metadata": {},
   "outputs": [],
   "source": [
    "class Earthquake:\n",
    "    def __init__(self, dict_values):\n",
    "        self.place = dict_values[\"place\"]\n",
    "        self.time = dict_values[\"time\"]\n",
    "        self.mag = dict_values[\"mag\"]\n",
    "        self.loc = Location(dict_values[\"loc\"][\"lat\"], dict_values[\"loc\"][\"lon\"])\n",
    "    \n",
    "    def _repr_html_(self):\n",
    "        size = 6 - int(round(self.mag))\n",
    "        return f\"<h{size}>Mag {self.mag} at {self.place}</h{size}>\"\n",
    "    \n",
    "    def __repr__(self):\n",
    "        return f\"Mag {self.mag} at {self.place}\"\n",
    "\n",
    "class Location:\n",
    "    def __init__(self, lat, lon):\n",
    "        self.lat = lat\n",
    "        self.lon = lon\n",
    "        \n",
    "    def __repr__(self):\n",
    "        return f\"Location({self.lat}, {self.lon})\"\n",
    "        \n",
    "    def __str__(self):\n",
    "        return f\"Location at lat {self.lat} and lon {self.lon}\"\n",
    "    \n",
    "    def __eq__(self, other):\n",
    "        return self.lat == other.lat and self.lon == other.lon\n",
    "\n",
    "e = Earthquake({\n",
    "    'place': '15 km SE of Waynoka, Oklahoma',\n",
    "    'time': 1637537486109,\n",
    "    'mag': 1.51,\n",
    "    'loc': {'lat': 36.473, 'lon': -98.7745}\n",
    "})"
   ]
  },
  {
   "cell_type": "code",
   "execution_count": 47,
   "id": "f74002d6-c8a7-468f-a75f-e3436fe06098",
   "metadata": {},
   "outputs": [
    {
     "data": {
      "text/plain": [
       "[Mag 4.5 at southeast of the Loyalty Islands,\n",
       " Mag 1.19 at 5km ESE of Walker, CA]"
      ]
     },
     "execution_count": 47,
     "metadata": {},
     "output_type": "execute_result"
    }
   ],
   "source": [
    "[Earthquake(quake_dicts[0]), Earthquake(quake_dicts[1])]"
   ]
  },
  {
   "cell_type": "code",
   "execution_count": 48,
   "id": "6e9f6759-1b1a-454d-aac2-22f178015b17",
   "metadata": {},
   "outputs": [
    {
     "data": {
      "text/html": [
       "<h2>Mag 4.5 at southeast of the Loyalty Islands</h2>"
      ],
      "text/plain": [
       "Mag 4.5 at southeast of the Loyalty Islands"
      ]
     },
     "execution_count": 48,
     "metadata": {},
     "output_type": "execute_result"
    }
   ],
   "source": [
    "Earthquake(quake_dicts[0])"
   ]
  },
  {
   "cell_type": "code",
   "execution_count": 49,
   "id": "ad6174d8-f6ce-4415-b005-03e21122afda",
   "metadata": {},
   "outputs": [
    {
     "data": {
      "text/html": [
       "<h5>Mag 1.19 at 5km ESE of Walker, CA</h5>"
      ],
      "text/plain": [
       "Mag 1.19 at 5km ESE of Walker, CA"
      ]
     },
     "execution_count": 49,
     "metadata": {},
     "output_type": "execute_result"
    }
   ],
   "source": [
    "Earthquake(quake_dicts[1])"
   ]
  },
  {
   "cell_type": "code",
   "execution_count": 50,
   "id": "7a4b4b13-b6e2-45c9-8b71-c6a9f92702a3",
   "metadata": {},
   "outputs": [
    {
     "data": {
      "text/html": [
       "<h4>Mag 1.9 at 19 km W of Cheyenne Wells, Colorado</h4>"
      ],
      "text/plain": [
       "Mag 1.9 at 19 km W of Cheyenne Wells, Colorado"
      ]
     },
     "execution_count": 50,
     "metadata": {},
     "output_type": "execute_result"
    }
   ],
   "source": [
    "Earthquake(quake_dicts[2])"
   ]
  },
  {
   "cell_type": "code",
   "execution_count": 51,
   "id": "5dd3ec94-1206-4689-b36e-15e86cdcee7b",
   "metadata": {},
   "outputs": [
    {
     "data": {
      "text/plain": [
       "Location(36.47, -98.77)"
      ]
     },
     "execution_count": 51,
     "metadata": {},
     "output_type": "execute_result"
    }
   ],
   "source": [
    "loc = Location(36.47, -98.77)\n",
    "loc"
   ]
  },
  {
   "cell_type": "code",
   "execution_count": 52,
   "id": "f0b5048c-a3c9-499b-88f2-af56ce30cbb7",
   "metadata": {},
   "outputs": [
    {
     "data": {
      "text/plain": [
       "Location(36.47, -98.77)"
      ]
     },
     "execution_count": 52,
     "metadata": {},
     "output_type": "execute_result"
    }
   ],
   "source": [
    "loc2 = Location(36.47, -98.77)\n",
    "loc2"
   ]
  },
  {
   "cell_type": "code",
   "execution_count": 53,
   "id": "78fa3fa7-a287-44b9-8c4a-98a1dd87a6f3",
   "metadata": {},
   "outputs": [
    {
     "data": {
      "text/plain": [
       "True"
      ]
     },
     "execution_count": 53,
     "metadata": {},
     "output_type": "execute_result"
    }
   ],
   "source": [
    "loc == loc2    # loc.__eq__(loc2)"
   ]
  },
  {
   "cell_type": "code",
   "execution_count": 11,
   "id": "da4905e8-bcc1-4868-b000-720134c3534d",
   "metadata": {},
   "outputs": [
    {
     "name": "stdout",
     "output_type": "stream",
     "text": [
      "Location at lat 36.47 and lon -98.77\n"
     ]
    }
   ],
   "source": [
    "print(loc)"
   ]
  },
  {
   "cell_type": "code",
   "execution_count": 5,
   "id": "f69cebdb-c6e0-426f-a0cb-e8014d719457",
   "metadata": {},
   "outputs": [
    {
     "name": "stdout",
     "output_type": "stream",
     "text": [
      "A\n",
      "B\n"
     ]
    },
    {
     "data": {
      "text/plain": [
       "'A\\nB'"
      ]
     },
     "execution_count": 5,
     "metadata": {},
     "output_type": "execute_result"
    }
   ],
   "source": [
    "s = \"A\\nB\"\n",
    "print(s)    # calling __str__ (for a broad audience)\n",
    "s           # calling __repr__ (for programmers)"
   ]
  }
 ],
 "metadata": {
  "kernelspec": {
   "display_name": "Python 3 (ipykernel)",
   "language": "python",
   "name": "python3"
  },
  "language_info": {
   "codemirror_mode": {
    "name": "ipython",
    "version": 3
   },
   "file_extension": ".py",
   "mimetype": "text/x-python",
   "name": "python",
   "nbconvert_exporter": "python",
   "pygments_lexer": "ipython3",
   "version": "3.10.4"
  }
 },
 "nbformat": 4,
 "nbformat_minor": 5
}
