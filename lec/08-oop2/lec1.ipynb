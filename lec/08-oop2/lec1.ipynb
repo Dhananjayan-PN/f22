{
 "cells": [
  {
   "cell_type": "code",
   "execution_count": 1,
   "id": "b43ec3b4-2994-4219-b674-b50d68023b83",
   "metadata": {},
   "outputs": [
    {
     "data": {
      "text/plain": [
       "'9.32 miles SE of Waynoka, Oklahoma'"
      ]
     },
     "execution_count": 1,
     "metadata": {},
     "output_type": "execute_result"
    }
   ],
   "source": [
    "# represent earthquakes using classes\n",
    "\n",
    "quake_dicts = [{'place': 'southeast of the Loyalty Islands',\n",
    "  'time': 1637538745422,\n",
    "  'mag': 4.5,\n",
    "  'loc': {'lat': -22.7976, 'lon': 171.963}},\n",
    " {'place': '5km ESE of Walker, CA',\n",
    "  'time': 1637537593330,\n",
    "  'mag': 1.19,\n",
    "  'loc': {'lat': 38.504, 'lon': -119.429}},\n",
    " {'place': '19 km W of Cheyenne Wells, Colorado',\n",
    "  'time': 1637537565440,\n",
    "  'mag': 1.9,\n",
    "  'loc': {'lat': 38.8551, 'lon': -102.5692}},\n",
    " {'place': '4 km NW of Point MacKenzie, Alaska',\n",
    "  'time': 1637537529410,\n",
    "  'mag': 1.7,\n",
    "  'loc': {'lat': 61.3898, 'lon': -150.0462}},\n",
    " {'place': '15 km SE of Waynoka, Oklahoma',\n",
    "  'time': 1637537486109,\n",
    "  'mag': 1.51,\n",
    "  'loc': {'lat': 36.473, 'lon': -98.7745}}]\n",
    "\n",
    "def place_miles(quake):\n",
    "    place = quake[\"place\"]\n",
    "    km_idx = place.find(\"km\")\n",
    "    if km_idx < 0:\n",
    "        return place\n",
    "    num = place[:km_idx].strip()\n",
    "    if not num.isdigit():\n",
    "        return place\n",
    "    miles = round(float(num) * 0.621371, 2)\n",
    "    return f\"{miles} miles{place[km_idx+2:]}\"\n",
    "\n",
    "place_miles(quake_dicts[4])"
   ]
  },
  {
   "cell_type": "code",
   "execution_count": 2,
   "id": "c569323c-1844-4dc4-b5e0-1e5ea65a34f2",
   "metadata": {},
   "outputs": [],
   "source": [
    "class Earthquake:\n",
    "    def __init__(self, dict_values):\n",
    "        self.place = dict_values[\"place\"]\n",
    "        self.time = dict_values[\"time\"]\n",
    "        self.mag = dict_values[\"mag\"]\n",
    "        self.loc = Location(dict_values[\"loc\"][\"lat\"], dict_values[\"loc\"][\"lon\"])\n",
    "    \n",
    "    def _repr_html_(self):\n",
    "        size = 6 - int(round(self.mag))\n",
    "        return f\"<h{size}>Mag {self.mag} at {self.place}</h{size}>\"\n",
    "    \n",
    "    def __repr__(self):\n",
    "        return f\"Mag {self.mag} at {self.place}\"\n",
    "\n",
    "class Location:\n",
    "    def __init__(self, lat, lon):\n",
    "        self.lat = lat\n",
    "        self.lon = lon\n",
    "        \n",
    "    def __repr__(self):\n",
    "        return f\"Location({self.lat}, {self.lon})\"\n",
    "        \n",
    "    def __str__(self):\n",
    "        return f\"Location at lat {self.lat} and lon {self.lon}\"\n",
    "    \n",
    "    def __eq__(self, other):\n",
    "        return self.lat == other.lat and self.lon == other.lon\n",
    "\n",
    "e = Earthquake({\n",
    "    'place': '15 km SE of Waynoka, Oklahoma',\n",
    "    'time': 1637537486109,\n",
    "    'mag': 1.51,\n",
    "    'loc': {'lat': 36.473, 'lon': -98.7745}\n",
    "})"
   ]
  },
  {
   "cell_type": "code",
   "execution_count": 3,
   "id": "f74002d6-c8a7-468f-a75f-e3436fe06098",
   "metadata": {},
   "outputs": [
    {
     "data": {
      "text/plain": [
       "[Mag 4.5 at southeast of the Loyalty Islands,\n",
       " Mag 1.19 at 5km ESE of Walker, CA]"
      ]
     },
     "execution_count": 3,
     "metadata": {},
     "output_type": "execute_result"
    }
   ],
   "source": [
    "[Earthquake(quake_dicts[0]), Earthquake(quake_dicts[1])]"
   ]
  },
  {
   "cell_type": "code",
   "execution_count": 4,
   "id": "6e9f6759-1b1a-454d-aac2-22f178015b17",
   "metadata": {},
   "outputs": [
    {
     "data": {
      "text/html": [
       "<h2>Mag 4.5 at southeast of the Loyalty Islands</h2>"
      ],
      "text/plain": [
       "Mag 4.5 at southeast of the Loyalty Islands"
      ]
     },
     "execution_count": 4,
     "metadata": {},
     "output_type": "execute_result"
    }
   ],
   "source": [
    "Earthquake(quake_dicts[0])"
   ]
  },
  {
   "cell_type": "code",
   "execution_count": 5,
   "id": "ad6174d8-f6ce-4415-b005-03e21122afda",
   "metadata": {},
   "outputs": [
    {
     "data": {
      "text/html": [
       "<h5>Mag 1.19 at 5km ESE of Walker, CA</h5>"
      ],
      "text/plain": [
       "Mag 1.19 at 5km ESE of Walker, CA"
      ]
     },
     "execution_count": 5,
     "metadata": {},
     "output_type": "execute_result"
    }
   ],
   "source": [
    "Earthquake(quake_dicts[1])"
   ]
  },
  {
   "cell_type": "code",
   "execution_count": 6,
   "id": "7a4b4b13-b6e2-45c9-8b71-c6a9f92702a3",
   "metadata": {},
   "outputs": [
    {
     "data": {
      "text/html": [
       "<h4>Mag 1.9 at 19 km W of Cheyenne Wells, Colorado</h4>"
      ],
      "text/plain": [
       "Mag 1.9 at 19 km W of Cheyenne Wells, Colorado"
      ]
     },
     "execution_count": 6,
     "metadata": {},
     "output_type": "execute_result"
    }
   ],
   "source": [
    "Earthquake(quake_dicts[2])"
   ]
  },
  {
   "cell_type": "code",
   "execution_count": 7,
   "id": "5dd3ec94-1206-4689-b36e-15e86cdcee7b",
   "metadata": {},
   "outputs": [
    {
     "data": {
      "text/plain": [
       "Location(36.47, -98.77)"
      ]
     },
     "execution_count": 7,
     "metadata": {},
     "output_type": "execute_result"
    }
   ],
   "source": [
    "loc = Location(36.47, -98.77)\n",
    "loc"
   ]
  },
  {
   "cell_type": "code",
   "execution_count": 8,
   "id": "f0b5048c-a3c9-499b-88f2-af56ce30cbb7",
   "metadata": {},
   "outputs": [
    {
     "data": {
      "text/plain": [
       "Location(36.47, -98.77)"
      ]
     },
     "execution_count": 8,
     "metadata": {},
     "output_type": "execute_result"
    }
   ],
   "source": [
    "loc2 = Location(36.47, -98.77)\n",
    "loc2"
   ]
  },
  {
   "cell_type": "code",
   "execution_count": 9,
   "id": "78fa3fa7-a287-44b9-8c4a-98a1dd87a6f3",
   "metadata": {},
   "outputs": [
    {
     "data": {
      "text/plain": [
       "True"
      ]
     },
     "execution_count": 9,
     "metadata": {},
     "output_type": "execute_result"
    }
   ],
   "source": [
    "loc == loc2    # loc.__eq__(loc2)"
   ]
  },
  {
   "cell_type": "code",
   "execution_count": 10,
   "id": "637d55a7-c196-4538-9fb9-87fcad21f8e8",
   "metadata": {},
   "outputs": [
    {
     "data": {
      "text/plain": [
       "False"
      ]
     },
     "execution_count": 10,
     "metadata": {},
     "output_type": "execute_result"
    }
   ],
   "source": [
    "# loc and loc2 are two objects containing the same info, according to __eq__\n",
    "loc is loc2"
   ]
  },
  {
   "cell_type": "code",
   "execution_count": 11,
   "id": "da4905e8-bcc1-4868-b000-720134c3534d",
   "metadata": {},
   "outputs": [
    {
     "name": "stdout",
     "output_type": "stream",
     "text": [
      "Location at lat 36.47 and lon -98.77\n"
     ]
    }
   ],
   "source": [
    "print(loc)"
   ]
  },
  {
   "cell_type": "code",
   "execution_count": 12,
   "id": "f69cebdb-c6e0-426f-a0cb-e8014d719457",
   "metadata": {},
   "outputs": [
    {
     "name": "stdout",
     "output_type": "stream",
     "text": [
      "A\n",
      "B\n"
     ]
    },
    {
     "data": {
      "text/plain": [
       "'A\\nB'"
      ]
     },
     "execution_count": 12,
     "metadata": {},
     "output_type": "execute_result"
    }
   ],
   "source": [
    "s = \"A\\nB\"\n",
    "print(s)    # calling __str__ (for a broad audience)\n",
    "s           # calling __repr__ (for programmers)"
   ]
  },
  {
   "cell_type": "code",
   "execution_count": 13,
   "id": "b822d848-52b4-4eba-9ceb-665bef018319",
   "metadata": {},
   "outputs": [
    {
     "data": {
      "text/plain": [
       "[Mag 4.5 at southeast of the Loyalty Islands,\n",
       " Mag 1.19 at 5km ESE of Walker, CA,\n",
       " Mag 1.9 at 19 km W of Cheyenne Wells, Colorado,\n",
       " Mag 1.7 at 4 km NW of Point MacKenzie, Alaska,\n",
       " Mag 1.51 at 15 km SE of Waynoka, Oklahoma]"
      ]
     },
     "execution_count": 13,
     "metadata": {},
     "output_type": "execute_result"
    }
   ],
   "source": [
    "earthquakes = []\n",
    "\n",
    "for d in quake_dicts:\n",
    "    earthquakes.append(Earthquake(d))\n",
    "    \n",
    "earthquakes"
   ]
  },
  {
   "cell_type": "code",
   "execution_count": 14,
   "id": "8a7200de-bf4b-4da5-9ab8-64545bdc2686",
   "metadata": {},
   "outputs": [],
   "source": [
    "class Earthquake:\n",
    "    def __init__(self, dict_values):\n",
    "        self.place = dict_values[\"place\"]\n",
    "        self.time = dict_values[\"time\"]\n",
    "        self.mag = dict_values[\"mag\"]\n",
    "        self.loc = Location(dict_values[\"loc\"][\"lat\"], dict_values[\"loc\"][\"lon\"])\n",
    "    \n",
    "    def _repr_html_(self):\n",
    "        size = 6 - int(round(self.mag))\n",
    "        return f\"<h{size}>Mag {self.mag} at {self.place}</h{size}>\"\n",
    "    \n",
    "    def __repr__(self):\n",
    "        return f\"Mag {self.mag} at {self.place}\"\n",
    "    \n",
    "    def __lt__(self, quake2):\n",
    "        return self.mag < quake2.mag"
   ]
  },
  {
   "cell_type": "code",
   "execution_count": 15,
   "id": "0a1f5214-ef52-43f8-92b9-2b89b96f3b8d",
   "metadata": {},
   "outputs": [
    {
     "data": {
      "text/plain": [
       "[Mag 4.5 at southeast of the Loyalty Islands,\n",
       " Mag 1.9 at 19 km W of Cheyenne Wells, Colorado,\n",
       " Mag 1.7 at 4 km NW of Point MacKenzie, Alaska,\n",
       " Mag 1.51 at 15 km SE of Waynoka, Oklahoma,\n",
       " Mag 1.19 at 5km ESE of Walker, CA]"
      ]
     },
     "execution_count": 15,
     "metadata": {},
     "output_type": "execute_result"
    }
   ],
   "source": [
    "earthquakes = [Earthquake(d) for d in quake_dicts]\n",
    "earthquakes.sort(reverse=True)  # sort uses <, which uses obj1.__lt__(obj2)\n",
    "earthquakes"
   ]
  },
  {
   "cell_type": "code",
   "execution_count": 16,
   "id": "6730b21e-6b79-40f2-827f-46f2ed3b349f",
   "metadata": {},
   "outputs": [],
   "source": [
    "# earthquakes[0] >= earthquakes[1]   # write the method for __ge__"
   ]
  },
  {
   "cell_type": "code",
   "execution_count": 17,
   "id": "1f8e2ac9-a222-419d-b88d-0db37b6186e4",
   "metadata": {},
   "outputs": [
    {
     "data": {
      "text/plain": [
       "False"
      ]
     },
     "execution_count": 17,
     "metadata": {},
     "output_type": "execute_result"
    }
   ],
   "source": [
    "earthquakes[0] == earthquakes[1]"
   ]
  },
  {
   "cell_type": "markdown",
   "id": "6708ec8c-acec-4d30-aefb-11cf30ea711d",
   "metadata": {},
   "source": [
    "# range()"
   ]
  },
  {
   "cell_type": "code",
   "execution_count": 18,
   "id": "cf89b2dc-834f-4bd0-bf9a-e3fa63022069",
   "metadata": {},
   "outputs": [
    {
     "name": "stdout",
     "output_type": "stream",
     "text": [
      "0\n",
      "1\n",
      "2\n",
      "3\n",
      "4\n",
      "5\n",
      "6\n",
      "7\n",
      "8\n",
      "9\n"
     ]
    }
   ],
   "source": [
    "for i in range(10):\n",
    "    print(i)"
   ]
  },
  {
   "cell_type": "code",
   "execution_count": 19,
   "id": "85a08446-138d-42fa-96b1-8b5e1d2e380a",
   "metadata": {},
   "outputs": [
    {
     "data": {
      "text/plain": [
       "range(2, 10)"
      ]
     },
     "execution_count": 19,
     "metadata": {},
     "output_type": "execute_result"
    }
   ],
   "source": [
    "r = range(2, 10)\n",
    "r"
   ]
  },
  {
   "cell_type": "code",
   "execution_count": 20,
   "id": "ebbc6db6-d46d-4d12-bd4c-fc123834a9f8",
   "metadata": {},
   "outputs": [
    {
     "data": {
      "text/plain": [
       "9"
      ]
     },
     "execution_count": 20,
     "metadata": {},
     "output_type": "execute_result"
    }
   ],
   "source": [
    "r[-1]"
   ]
  },
  {
   "cell_type": "code",
   "execution_count": 21,
   "id": "6dbee6e4-8508-4246-b8f2-59b0d9f2e9ca",
   "metadata": {},
   "outputs": [
    {
     "data": {
      "text/plain": [
       "2"
      ]
     },
     "execution_count": 21,
     "metadata": {},
     "output_type": "execute_result"
    }
   ],
   "source": [
    "r[0]"
   ]
  },
  {
   "cell_type": "code",
   "execution_count": 49,
   "id": "cda68c26-f33e-435a-ba0b-f8f6da86dfbc",
   "metadata": {},
   "outputs": [
    {
     "name": "stdout",
     "output_type": "stream",
     "text": [
      "2\n"
     ]
    }
   ],
   "source": [
    "class Range:   # going to work like range, but we're giving it a different name\n",
    "    def __init__(self, v1, v2=None):\n",
    "        if v2 != None:\n",
    "            self.lower = v1\n",
    "            self.upper = v2\n",
    "        else:\n",
    "            self.lower = 0\n",
    "            self.upper = v1\n",
    "            \n",
    "    def __getitem__(self, name):\n",
    "        if name >= self.upper-self.lower:\n",
    "            raise IndexError(\"index too big\")\n",
    "        if name < 0:\n",
    "            raise NotImplementedError(\"negative indexing not supported yet\")\n",
    "        return self.lower+name\n",
    "\n",
    "r = Range(2, 10)\n",
    "\n",
    "print(r[0]) # should be 2.   obj[name] => obj.__getitem__(name)"
   ]
  },
  {
   "cell_type": "code",
   "execution_count": 50,
   "id": "d7464f33-7f52-4bfe-855d-b0f36bc23d17",
   "metadata": {},
   "outputs": [
    {
     "name": "stdout",
     "output_type": "stream",
     "text": [
      "2\n",
      "3\n",
      "4\n",
      "5\n",
      "6\n",
      "7\n",
      "8\n",
      "9\n"
     ]
    }
   ],
   "source": [
    "for num in r:   # calling r[0], r[1], .... (until there's an exception)\n",
    "    print(num)"
   ]
  },
  {
   "cell_type": "code",
   "execution_count": 47,
   "id": "01fad062-6aed-47ce-b1ab-24f8fb014b6c",
   "metadata": {},
   "outputs": [
    {
     "ename": "NotImplementedError",
     "evalue": "negative indexing not supported yet",
     "output_type": "error",
     "traceback": [
      "\u001b[0;31m---------------------------------------------------------------------------\u001b[0m",
      "\u001b[0;31mNotImplementedError\u001b[0m                       Traceback (most recent call last)",
      "Input \u001b[0;32mIn [47]\u001b[0m, in \u001b[0;36m<cell line: 1>\u001b[0;34m()\u001b[0m\n\u001b[0;32m----> 1\u001b[0m \u001b[43mr\u001b[49m\u001b[43m[\u001b[49m\u001b[38;5;241;43m-\u001b[39;49m\u001b[38;5;241;43m1\u001b[39;49m\u001b[43m]\u001b[49m\n",
      "Input \u001b[0;32mIn [46]\u001b[0m, in \u001b[0;36mRange.__getitem__\u001b[0;34m(self, name)\u001b[0m\n\u001b[1;32m     12\u001b[0m     \u001b[38;5;28;01mraise\u001b[39;00m \u001b[38;5;167;01mIndexError\u001b[39;00m(\u001b[38;5;124m\"\u001b[39m\u001b[38;5;124mindex too big\u001b[39m\u001b[38;5;124m\"\u001b[39m)\n\u001b[1;32m     13\u001b[0m \u001b[38;5;28;01mif\u001b[39;00m name \u001b[38;5;241m<\u001b[39m \u001b[38;5;241m0\u001b[39m:\n\u001b[0;32m---> 14\u001b[0m     \u001b[38;5;28;01mraise\u001b[39;00m \u001b[38;5;167;01mNotImplementedError\u001b[39;00m(\u001b[38;5;124m\"\u001b[39m\u001b[38;5;124mnegative indexing not supported yet\u001b[39m\u001b[38;5;124m\"\u001b[39m)\n\u001b[1;32m     15\u001b[0m \u001b[38;5;28;01mreturn\u001b[39;00m \u001b[38;5;28mself\u001b[39m\u001b[38;5;241m.\u001b[39mlower\u001b[38;5;241m+\u001b[39mname\n",
      "\u001b[0;31mNotImplementedError\u001b[0m: negative indexing not supported yet"
     ]
    }
   ],
   "source": [
    "r[-1] # should be 9"
   ]
  },
  {
   "cell_type": "markdown",
   "id": "62d97924-f36b-4004-8324-a1753e04ba8c",
   "metadata": {},
   "source": [
    "# Context Managers, to use with the \"with\" statement"
   ]
  },
  {
   "cell_type": "code",
   "execution_count": 53,
   "id": "2ca9e248-cc64-4e5b-bee6-7530202698bb",
   "metadata": {},
   "outputs": [
    {
     "ename": "AssertionError",
     "evalue": "",
     "output_type": "error",
     "traceback": [
      "\u001b[0;31m---------------------------------------------------------------------------\u001b[0m",
      "\u001b[0;31mAssertionError\u001b[0m                            Traceback (most recent call last)",
      "Input \u001b[0;32mIn [53]\u001b[0m, in \u001b[0;36m<cell line: 3>\u001b[0;34m()\u001b[0m\n\u001b[1;32m      1\u001b[0m f \u001b[38;5;241m=\u001b[39m \u001b[38;5;28mopen\u001b[39m(\u001b[38;5;124m\"\u001b[39m\u001b[38;5;124mfile.txt\u001b[39m\u001b[38;5;124m\"\u001b[39m, \u001b[38;5;124m\"\u001b[39m\u001b[38;5;124mw\u001b[39m\u001b[38;5;124m\"\u001b[39m)\n\u001b[1;32m      2\u001b[0m f\u001b[38;5;241m.\u001b[39mwrite(\u001b[38;5;124m\"\u001b[39m\u001b[38;5;124mhello \u001b[39m\u001b[38;5;124m\"\u001b[39m)\n\u001b[0;32m----> 3\u001b[0m \u001b[38;5;28;01massert\u001b[39;00m \u001b[38;5;241m1\u001b[39m \u001b[38;5;241m==\u001b[39m \u001b[38;5;241m2\u001b[39m \u001b[38;5;66;03m# trigger a crash\u001b[39;00m\n\u001b[1;32m      4\u001b[0m f\u001b[38;5;241m.\u001b[39mwrite(\u001b[38;5;124m\"\u001b[39m\u001b[38;5;124mworld\u001b[39m\u001b[38;5;124m\"\u001b[39m)\n\u001b[1;32m      5\u001b[0m f\u001b[38;5;241m.\u001b[39mclose()\n",
      "\u001b[0;31mAssertionError\u001b[0m: "
     ]
    }
   ],
   "source": [
    "f = open(\"file.txt\", \"w\")\n",
    "f.write(\"hello \")\n",
    "assert 1 == 2 # trigger a crash\n",
    "f.write(\"world\")\n",
    "f.close()  # close triggers a flush of the buffers to the file"
   ]
  },
  {
   "cell_type": "code",
   "execution_count": 54,
   "id": "c0dc50fc-1098-4678-a997-13151f774d01",
   "metadata": {},
   "outputs": [
    {
     "ename": "AssertionError",
     "evalue": "",
     "output_type": "error",
     "traceback": [
      "\u001b[0;31m---------------------------------------------------------------------------\u001b[0m",
      "\u001b[0;31mAssertionError\u001b[0m                            Traceback (most recent call last)",
      "Input \u001b[0;32mIn [54]\u001b[0m, in \u001b[0;36m<cell line: 1>\u001b[0;34m()\u001b[0m\n\u001b[1;32m      1\u001b[0m \u001b[38;5;28;01mwith\u001b[39;00m \u001b[38;5;28mopen\u001b[39m(\u001b[38;5;124m\"\u001b[39m\u001b[38;5;124mfile.txt\u001b[39m\u001b[38;5;124m\"\u001b[39m, \u001b[38;5;124m\"\u001b[39m\u001b[38;5;124mw\u001b[39m\u001b[38;5;124m\"\u001b[39m) \u001b[38;5;28;01mas\u001b[39;00m f:\n\u001b[1;32m      2\u001b[0m     f\u001b[38;5;241m.\u001b[39mwrite(\u001b[38;5;124m\"\u001b[39m\u001b[38;5;124mhello \u001b[39m\u001b[38;5;124m\"\u001b[39m)\n\u001b[0;32m----> 3\u001b[0m     \u001b[38;5;28;01massert\u001b[39;00m \u001b[38;5;241m1\u001b[39m \u001b[38;5;241m==\u001b[39m \u001b[38;5;241m2\u001b[39m \u001b[38;5;66;03m# trigger a crash\u001b[39;00m\n\u001b[1;32m      4\u001b[0m     f\u001b[38;5;241m.\u001b[39mwrite(\u001b[38;5;124m\"\u001b[39m\u001b[38;5;124mworld\u001b[39m\u001b[38;5;124m\"\u001b[39m)\n",
      "\u001b[0;31mAssertionError\u001b[0m: "
     ]
    }
   ],
   "source": [
    "with open(\"file.txt\", \"w\") as f:\n",
    "    f.write(\"hello \")\n",
    "    assert 1 == 2 # trigger a crash\n",
    "    f.write(\"world\")\n",
    "    # it automatically closes f for us, regardless of errors"
   ]
  },
  {
   "cell_type": "code",
   "execution_count": null,
   "id": "4530187d-d0a1-45c0-a491-cdb9658e2ab7",
   "metadata": {},
   "outputs": [],
   "source": [
    "# with uses __enter__ and __exit__\n",
    "# any object with those two special methods\n",
    "# is called a \"context manager\""
   ]
  },
  {
   "cell_type": "code",
   "execution_count": 55,
   "id": "c6b2dbff-da44-4548-b483-abb5b20053b2",
   "metadata": {},
   "outputs": [],
   "source": [
    "import matplotlib.pyplot as plt"
   ]
  },
  {
   "cell_type": "code",
   "execution_count": 63,
   "id": "9ccfffbb-769a-4bbb-995e-bbcab0005d39",
   "metadata": {},
   "outputs": [],
   "source": [
    "class DoubleFont:\n",
    "    def __enter__(self):\n",
    "        self.old_size = plt.rcParams[\"font.size\"]\n",
    "        plt.rcParams[\"font.size\"] *= 2\n",
    "        \n",
    "    def __exit__(self, exc_type, exc_value, traceback):\n",
    "        plt.rcParams[\"font.size\"] = self.old_size"
   ]
  },
  {
   "cell_type": "code",
   "execution_count": 66,
   "id": "c7fc40b9-1f71-408a-bb96-cdd8fc479941",
   "metadata": {},
   "outputs": [
    {
     "data": {
      "text/plain": [
       "(<Figure size 200x200 with 1 Axes>, <AxesSubplot:>)"
      ]
     },
     "execution_count": 66,
     "metadata": {},
     "output_type": "execute_result"
    },
    {
     "data": {
      "image/png": "[encoded data removed]",
      "text/plain": [
       "<Figure size 200x200 with 1 Axes>"
      ]
     },
     "metadata": {},
     "output_type": "display_data"
    },
    {
     "data": {
      "image/png": "[encoded data removed]",
      "text/plain": [
       "<Figure size 200x200 with 1 Axes>"
      ]
     },
     "metadata": {},
     "output_type": "display_data"
    },
    {
     "data": {
      "image/png": "[encoded data removed]",
      "text/plain": [
       "<Figure size 200x200 with 1 Axes>"
      ]
     },
     "metadata": {},
     "output_type": "display_data"
    }
   ],
   "source": [
    "with DoubleFont():  # calls __enter__\n",
    "    with DoubleFont():\n",
    "        plt.subplots(figsize=(2,2)) # largest font\n",
    "    plt.subplots(figsize=(2,2)) # larger font\n",
    "    # calls __exit__ (even if we crash)\n",
    "    \n",
    "plt.subplots(figsize=(2,2)) # go back to regular font"
   ]
  },
  {
   "cell_type": "code",
   "execution_count": null,
   "id": "451ffdc8-b1cd-4682-98c9-dad266912056",
   "metadata": {},
   "outputs": [],
   "source": []
  }
 ],
 "metadata": {
  "kernelspec": {
   "display_name": "Python 3 (ipykernel)",
   "language": "python",
   "name": "python3"
  },
  "language_info": {
   "codemirror_mode": {
    "name": "ipython",
    "version": 3
   },
   "file_extension": ".py",
   "mimetype": "text/x-python",
   "name": "python",
   "nbconvert_exporter": "python",
   "pygments_lexer": "ipython3",
   "version": "3.10.4"
  }
 },
 "nbformat": 4,
 "nbformat_minor": 5
}
