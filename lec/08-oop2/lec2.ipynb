{
 "cells": [
  {
   "cell_type": "code",
   "execution_count": 1,
   "id": "99a491b6-3c80-4354-bd0b-46cde0b7f079",
   "metadata": {},
   "outputs": [
    {
     "data": {
      "text/plain": [
       "'9.32 miles SE of Waynoka, Oklahoma'"
      ]
     },
     "execution_count": 1,
     "metadata": {},
     "output_type": "execute_result"
    }
   ],
   "source": [
    "# class(es):\n",
    "# Earthquake\n",
    "# Location\n",
    "\n",
    "quake_dicts = [{'place': 'southeast of the Loyalty Islands',\n",
    "  'time': 1637538745422,\n",
    "  'mag': 4.5,\n",
    "  'loc': {'lat': -22.7976, 'lon': 171.963}},\n",
    " {'place': '5km ESE of Walker, CA',\n",
    "  'time': 1637537593330,\n",
    "  'mag': 1.19,\n",
    "  'loc': {'lat': 38.504, 'lon': -119.429}},\n",
    " {'place': '19 km W of Cheyenne Wells, Colorado',\n",
    "  'time': 1637537565440,\n",
    "  'mag': 1.9,\n",
    "  'loc': {'lat': 38.8551, 'lon': -102.5692}},\n",
    " {'place': '4 km NW of Point MacKenzie, Alaska',\n",
    "  'time': 1637537529410,\n",
    "  'mag': 1.7,\n",
    "  'loc': {'lat': 61.3898, 'lon': -150.0462}},\n",
    " {'place': '15 km SE of Waynoka, Oklahoma',\n",
    "  'time': 1637537486109,\n",
    "  'mag': 1.51,\n",
    "  'loc': {'lat': 36.473, 'lon': -98.7745}}]\n",
    "\n",
    "def place_miles(quake):\n",
    "    place = quake[\"place\"]\n",
    "    km_idx = place.find(\"km\")\n",
    "    if km_idx < 0:\n",
    "        return place\n",
    "    num = place[:km_idx].strip()\n",
    "    if not num.isdigit():\n",
    "        return place\n",
    "    miles = round(float(num) * 0.621371, 2)\n",
    "    return f\"{miles} miles{place[km_idx+2:]}\"\n",
    "\n",
    "place_miles(quake_dicts[4])"
   ]
  },
  {
   "cell_type": "code",
   "execution_count": 50,
   "id": "a1722841-874e-4e62-8f04-09fb755d6192",
   "metadata": {},
   "outputs": [],
   "source": [
    "class Location:\n",
    "    def __init__(self, lat, lon):    # my only constructor (and it is always called __init__)\n",
    "        self.lat = lat\n",
    "        self.lon = lon\n",
    "        \n",
    "    def __repr__(self):         # this is a special method\n",
    "        return f\"Location({self.lat}, {self.lon})\"\n",
    "        \n",
    "    def __str__(self):          # this is a special method\n",
    "        return f\"Location at lat {self.lat} and lon {self.lon}\"\n",
    "    \n",
    "    def __eq__(self, other):\n",
    "        return self.lat == other.lat and self.lon == other.lon\n",
    "        \n",
    "        \n",
    "loc = Location(36.473, -98.7745)"
   ]
  },
  {
   "cell_type": "code",
   "execution_count": 51,
   "id": "be4e216d-b9bf-42a6-bf8f-cf48a44e57c7",
   "metadata": {},
   "outputs": [
    {
     "data": {
      "text/plain": [
       "Location(36.473, -98.7745)"
      ]
     },
     "execution_count": 51,
     "metadata": {},
     "output_type": "execute_result"
    }
   ],
   "source": [
    "loc   # uses loc.__repr__()"
   ]
  },
  {
   "cell_type": "code",
   "execution_count": 52,
   "id": "a1358c37-cd19-4b10-8e73-3634fcee6f9d",
   "metadata": {},
   "outputs": [
    {
     "data": {
      "text/plain": [
       "Location(36.473, -98.7745)"
      ]
     },
     "execution_count": 52,
     "metadata": {},
     "output_type": "execute_result"
    }
   ],
   "source": [
    "loc2 = Location(36.473, -98.7745)\n",
    "loc2"
   ]
  },
  {
   "cell_type": "code",
   "execution_count": 53,
   "id": "6ac8a96b-0053-4e13-b923-9d0e68676fb3",
   "metadata": {},
   "outputs": [
    {
     "data": {
      "text/plain": [
       "True"
      ]
     },
     "execution_count": 53,
     "metadata": {},
     "output_type": "execute_result"
    }
   ],
   "source": [
    "loc == loc2   # shorthand for loc.__eq__(loc2)"
   ]
  },
  {
   "cell_type": "code",
   "execution_count": 16,
   "id": "a5c976ab-8e3f-4f0c-b539-01f4e8be7041",
   "metadata": {},
   "outputs": [
    {
     "name": "stdout",
     "output_type": "stream",
     "text": [
      "Location at lat 36.473 and lon -98.7745\n"
     ]
    }
   ],
   "source": [
    "print(loc)   # uses loc.__str__()"
   ]
  },
  {
   "cell_type": "code",
   "execution_count": 5,
   "id": "6311660f-3fc0-4328-b00c-fa5093301e0c",
   "metadata": {},
   "outputs": [
    {
     "data": {
      "text/plain": [
       "36.473"
      ]
     },
     "execution_count": 5,
     "metadata": {},
     "output_type": "execute_result"
    }
   ],
   "source": [
    "loc.lat"
   ]
  },
  {
   "cell_type": "code",
   "execution_count": 7,
   "id": "cbefd585-225b-49b0-8f99-1a386403e460",
   "metadata": {},
   "outputs": [
    {
     "name": "stdout",
     "output_type": "stream",
     "text": [
      "A\n",
      "B\n"
     ]
    },
    {
     "data": {
      "text/plain": [
       "'A\\nB'"
      ]
     },
     "execution_count": 7,
     "metadata": {},
     "output_type": "execute_result"
    }
   ],
   "source": [
    "s = \"A\\nB\"\n",
    "print(s)   # __str__ is for a broad audience\n",
    "s          # __repr__ is for programmers"
   ]
  },
  {
   "cell_type": "code",
   "execution_count": 40,
   "id": "b9ae02c2-6f4f-435d-9c83-e3b4a9f4ecb4",
   "metadata": {},
   "outputs": [],
   "source": [
    "    class Earthquake:\n",
    "        def __init__(self, dict_values):\n",
    "            self.place = dict_values[\"place\"]\n",
    "            self.time = dict_values[\"time\"]\n",
    "            self.mag = dict_values[\"mag\"]\n",
    "            self.loc = Location(dict_values[\"loc\"][\"lat\"], dict_values[\"loc\"][\"lon\"])\n",
    "\n",
    "        def __repr__(self):\n",
    "            return f\"Magnitude {self.mag} earthquake at {self.place}\"\n",
    "\n",
    "        def _repr_html_(self):\n",
    "            size = int(round(self.mag))\n",
    "            size = 6 - size\n",
    "            return f\"<h{size}>Magnitude {self.mag} earthquake at {self.place}</h{size}>\"\n",
    "\n",
    "    e = Earthquake({\n",
    "        'place': 'southeast of the Loyalty Islands',\n",
    "        'time': 1637538745422,\n",
    "        'mag': 4.5,\n",
    "        'loc': {'lat': -22.7976, 'lon': 171.963}\n",
    "    })"
   ]
  },
  {
   "cell_type": "code",
   "execution_count": 41,
   "id": "6e8750f0-18f5-4bec-84e5-e3fa924e8626",
   "metadata": {},
   "outputs": [
    {
     "data": {
      "text/plain": [
       "[Magnitude 4.5 earthquake at southeast of the Loyalty Islands,\n",
       " Magnitude 1.19 earthquake at 5km ESE of Walker, CA]"
      ]
     },
     "execution_count": 41,
     "metadata": {},
     "output_type": "execute_result"
    }
   ],
   "source": [
    "[\n",
    "    Earthquake(quake_dicts[0]),\n",
    "    Earthquake(quake_dicts[1])\n",
    "]"
   ]
  },
  {
   "cell_type": "code",
   "execution_count": 42,
   "id": "45afcb97-27dc-4054-b86e-e945b5907910",
   "metadata": {},
   "outputs": [
    {
     "data": {
      "text/html": [
       "<h2>Magnitude 4.5 earthquake at southeast of the Loyalty Islands</h2>"
      ],
      "text/plain": [
       "Magnitude 4.5 earthquake at southeast of the Loyalty Islands"
      ]
     },
     "execution_count": 42,
     "metadata": {},
     "output_type": "execute_result"
    }
   ],
   "source": [
    "Earthquake(quake_dicts[0])"
   ]
  },
  {
   "cell_type": "code",
   "execution_count": 37,
   "id": "40761ea8-5e75-472c-a33c-c3159d55cde9",
   "metadata": {},
   "outputs": [
    {
     "data": {
      "text/html": [
       "<h5>Magnitude 1.19 earthquake at 5km ESE of Walker, CA</h5>"
      ],
      "text/plain": [
       "<__main__.Earthquake at 0x7f1e782359f0>"
      ]
     },
     "execution_count": 37,
     "metadata": {},
     "output_type": "execute_result"
    }
   ],
   "source": [
    "Earthquake(quake_dicts[1])"
   ]
  },
  {
   "cell_type": "code",
   "execution_count": 38,
   "id": "f3100f0e-94d7-4ace-bbee-f35af428fb1d",
   "metadata": {},
   "outputs": [
    {
     "data": {
      "text/html": [
       "<h4>Magnitude 1.9 earthquake at 19 km W of Cheyenne Wells, Colorado</h4>"
      ],
      "text/plain": [
       "<__main__.Earthquake at 0x7f1e78236cb0>"
      ]
     },
     "execution_count": 38,
     "metadata": {},
     "output_type": "execute_result"
    }
   ],
   "source": [
    "Earthquake(quake_dicts[2])"
   ]
  },
  {
   "cell_type": "code",
   "execution_count": 65,
   "id": "d6c1babd-4ae7-4621-adea-a8092396bd03",
   "metadata": {},
   "outputs": [],
   "source": [
    "class Earthquake:\n",
    "    def __init__(self, dict_values):\n",
    "        self.place = dict_values[\"place\"]\n",
    "        self.time = dict_values[\"time\"]\n",
    "        self.mag = dict_values[\"mag\"]\n",
    "        self.loc = Location(dict_values[\"loc\"][\"lat\"], dict_values[\"loc\"][\"lon\"])\n",
    "        \n",
    "    def __repr__(self):\n",
    "        return f\"Magnitude {self.mag} earthquake at {self.place}\"\n",
    "    \n",
    "    def _repr_html_(self):\n",
    "        size = int(round(self.mag))\n",
    "        size = 6 - size\n",
    "        return f\"<h{size}>Magnitude {self.mag} earthquake at {self.place}</h{size}>\"\n",
    "    \n",
    "    def __lt__(self, quake2):\n",
    "        return self.mag < quake2.mag"
   ]
  },
  {
   "cell_type": "code",
   "execution_count": 69,
   "id": "59fa2f53-08b0-4e9d-b4a6-c3858055f621",
   "metadata": {},
   "outputs": [
    {
     "data": {
      "text/plain": [
       "[Magnitude 4.5 earthquake at southeast of the Loyalty Islands,\n",
       " Magnitude 1.9 earthquake at 19 km W of Cheyenne Wells, Colorado,\n",
       " Magnitude 1.7 earthquake at 4 km NW of Point MacKenzie, Alaska,\n",
       " Magnitude 1.51 earthquake at 15 km SE of Waynoka, Oklahoma,\n",
       " Magnitude 1.19 earthquake at 5km ESE of Walker, CA]"
      ]
     },
     "execution_count": 69,
     "metadata": {},
     "output_type": "execute_result"
    }
   ],
   "source": [
    "earthquakes = [Earthquake(d) for d in quake_dicts]\n",
    "earthquakes.sort(reverse=True) # sort() is using obj1<obj2, which implicitly calls obj1.__lt__(obj2)\n",
    "# earthquakes = sorted(earthquakes)\n",
    "earthquakes"
   ]
  },
  {
   "cell_type": "code",
   "execution_count": 70,
   "id": "d93826ef-5e34-47a4-bb88-92fe064e929d",
   "metadata": {},
   "outputs": [
    {
     "data": {
      "text/plain": [
       "False"
      ]
     },
     "execution_count": 70,
     "metadata": {},
     "output_type": "execute_result"
    }
   ],
   "source": [
    "earthquakes[0] < earthquakes[1]"
   ]
  },
  {
   "cell_type": "code",
   "execution_count": 74,
   "id": "5673d9c5-9bdc-4a05-a461-1ad3e67986ec",
   "metadata": {},
   "outputs": [],
   "source": [
    "# earthquakes[0] >= earthquakes[1] # need to implement __ge__"
   ]
  },
  {
   "cell_type": "markdown",
   "id": "91e7932d-38c1-485b-87e8-f9732367fbee",
   "metadata": {},
   "source": [
    "# obj[name] => obj.\\_\\_getitem\\_\\_(name)"
   ]
  },
  {
   "cell_type": "code",
   "execution_count": 75,
   "id": "e8ae5327-7981-4bb2-b3ae-2d490fa6b15c",
   "metadata": {},
   "outputs": [
    {
     "name": "stdout",
     "output_type": "stream",
     "text": [
      "0\n",
      "1\n",
      "2\n",
      "3\n",
      "4\n",
      "5\n",
      "6\n",
      "7\n",
      "8\n",
      "9\n"
     ]
    }
   ],
   "source": [
    "for i in range(10):\n",
    "    print(i)"
   ]
  },
  {
   "cell_type": "code",
   "execution_count": 79,
   "id": "26dd344e-7503-469f-86be-b83d825c6c13",
   "metadata": {},
   "outputs": [
    {
     "name": "stdout",
     "output_type": "stream",
     "text": [
      "9\n",
      "2\n"
     ]
    },
    {
     "data": {
      "text/plain": [
       "range(2, 10)"
      ]
     },
     "execution_count": 79,
     "metadata": {},
     "output_type": "execute_result"
    }
   ],
   "source": [
    "r = range(2, 10)\n",
    "print(r[-1])\n",
    "print(r[0])\n",
    "r"
   ]
  },
  {
   "cell_type": "code",
   "execution_count": 111,
   "id": "cd542cfa-cc41-4c10-a233-5583304de669",
   "metadata": {},
   "outputs": [
    {
     "name": "stdout",
     "output_type": "stream",
     "text": [
      "3\n"
     ]
    }
   ],
   "source": [
    "class Range:   # goal: be our own version of range(), with a different spelling\n",
    "    def __init__(self, v1, v2=None):\n",
    "        if v2 == None:\n",
    "            self.lower = 0\n",
    "            self.upper = v1\n",
    "        else:\n",
    "            self.lower = v1\n",
    "            self.upper = v2\n",
    "            \n",
    "    def __getitem__(self, index):\n",
    "        if index < 0:\n",
    "            raise NotImplementedError(\"negative indexing not supported\")\n",
    "        if index >= self.upper-self.lower:\n",
    "            raise IndexError(\"index too big\")\n",
    "        return self.lower+index\n",
    "    \n",
    "r = Range(2, 10)\n",
    "print(r[1])  # WANT: 3\n",
    "#print(r.__getitem__(0))"
   ]
  },
  {
   "cell_type": "code",
   "execution_count": 113,
   "id": "eb67d26f-7691-49d5-880c-eb30e5b5eed8",
   "metadata": {},
   "outputs": [
    {
     "name": "stdout",
     "output_type": "stream",
     "text": [
      "2\n",
      "3\n",
      "4\n",
      "5\n",
      "6\n",
      "7\n",
      "8\n",
      "9\n"
     ]
    }
   ],
   "source": [
    "for num in r: # looks at r[0], r[1], r[2], keeps going until IndexError\n",
    "    print(num)"
   ]
  },
  {
   "cell_type": "code",
   "execution_count": 108,
   "id": "b20022ed-91c0-4507-85db-5986cc82e9c4",
   "metadata": {},
   "outputs": [
    {
     "ename": "IndexError",
     "evalue": "index too big",
     "output_type": "error",
     "traceback": [
      "\u001b[0;31m---------------------------------------------------------------------------\u001b[0m",
      "\u001b[0;31mIndexError\u001b[0m                                Traceback (most recent call last)",
      "Input \u001b[0;32mIn [108]\u001b[0m, in \u001b[0;36m<cell line: 1>\u001b[0;34m()\u001b[0m\n\u001b[0;32m----> 1\u001b[0m \u001b[43mr\u001b[49m\u001b[43m[\u001b[49m\u001b[38;5;241;43m100\u001b[39;49m\u001b[43m]\u001b[49m\n",
      "Input \u001b[0;32mIn [107]\u001b[0m, in \u001b[0;36mRange.__getitem__\u001b[0;34m(self, index)\u001b[0m\n\u001b[1;32m     12\u001b[0m     \u001b[38;5;28;01mraise\u001b[39;00m \u001b[38;5;167;01mNotImplementedError\u001b[39;00m(\u001b[38;5;124m\"\u001b[39m\u001b[38;5;124mnegative indexing not supported\u001b[39m\u001b[38;5;124m\"\u001b[39m)\n\u001b[1;32m     13\u001b[0m \u001b[38;5;28;01mif\u001b[39;00m index \u001b[38;5;241m>\u001b[39m\u001b[38;5;241m=\u001b[39m \u001b[38;5;28mself\u001b[39m\u001b[38;5;241m.\u001b[39mupper\u001b[38;5;241m-\u001b[39m\u001b[38;5;28mself\u001b[39m\u001b[38;5;241m.\u001b[39mlower:\n\u001b[0;32m---> 14\u001b[0m     \u001b[38;5;28;01mraise\u001b[39;00m \u001b[38;5;167;01mIndexError\u001b[39;00m(\u001b[38;5;124m\"\u001b[39m\u001b[38;5;124mindex too big\u001b[39m\u001b[38;5;124m\"\u001b[39m)\n\u001b[1;32m     15\u001b[0m \u001b[38;5;28;01mreturn\u001b[39;00m \u001b[38;5;28mself\u001b[39m\u001b[38;5;241m.\u001b[39mlower\u001b[38;5;241m+\u001b[39mindex\n",
      "\u001b[0;31mIndexError\u001b[0m: index too big"
     ]
    }
   ],
   "source": [
    "r[100]"
   ]
  },
  {
   "cell_type": "code",
   "execution_count": 109,
   "id": "6e7f4a03-9d7e-4f62-992f-d1fbc4e306a9",
   "metadata": {},
   "outputs": [
    {
     "ename": "NotImplementedError",
     "evalue": "negative indexing not supported",
     "output_type": "error",
     "traceback": [
      "\u001b[0;31m---------------------------------------------------------------------------\u001b[0m",
      "\u001b[0;31mNotImplementedError\u001b[0m                       Traceback (most recent call last)",
      "Input \u001b[0;32mIn [109]\u001b[0m, in \u001b[0;36m<cell line: 1>\u001b[0;34m()\u001b[0m\n\u001b[0;32m----> 1\u001b[0m \u001b[43mr\u001b[49m\u001b[43m[\u001b[49m\u001b[38;5;241;43m-\u001b[39;49m\u001b[38;5;241;43m1\u001b[39;49m\u001b[43m]\u001b[49m\n",
      "Input \u001b[0;32mIn [107]\u001b[0m, in \u001b[0;36mRange.__getitem__\u001b[0;34m(self, index)\u001b[0m\n\u001b[1;32m     10\u001b[0m \u001b[38;5;28;01mdef\u001b[39;00m \u001b[38;5;21m__getitem__\u001b[39m(\u001b[38;5;28mself\u001b[39m, index):\n\u001b[1;32m     11\u001b[0m     \u001b[38;5;28;01mif\u001b[39;00m index \u001b[38;5;241m<\u001b[39m \u001b[38;5;241m0\u001b[39m:\n\u001b[0;32m---> 12\u001b[0m         \u001b[38;5;28;01mraise\u001b[39;00m \u001b[38;5;167;01mNotImplementedError\u001b[39;00m(\u001b[38;5;124m\"\u001b[39m\u001b[38;5;124mnegative indexing not supported\u001b[39m\u001b[38;5;124m\"\u001b[39m)\n\u001b[1;32m     13\u001b[0m     \u001b[38;5;28;01mif\u001b[39;00m index \u001b[38;5;241m>\u001b[39m\u001b[38;5;241m=\u001b[39m \u001b[38;5;28mself\u001b[39m\u001b[38;5;241m.\u001b[39mupper\u001b[38;5;241m-\u001b[39m\u001b[38;5;28mself\u001b[39m\u001b[38;5;241m.\u001b[39mlower:\n\u001b[1;32m     14\u001b[0m         \u001b[38;5;28;01mraise\u001b[39;00m \u001b[38;5;167;01mIndexError\u001b[39;00m(\u001b[38;5;124m\"\u001b[39m\u001b[38;5;124mindex too big\u001b[39m\u001b[38;5;124m\"\u001b[39m)\n",
      "\u001b[0;31mNotImplementedError\u001b[0m: negative indexing not supported"
     ]
    }
   ],
   "source": [
    "r[-1]"
   ]
  },
  {
   "cell_type": "markdown",
   "id": "efb61df0-fcf6-4536-ba26-811700452844",
   "metadata": {},
   "source": [
    "# \"Context Managers\" are objects that you can use with the \"with\" statement"
   ]
  },
  {
   "cell_type": "code",
   "execution_count": 115,
   "id": "80476129-df97-453d-a1bc-1d3e8e3ec6ef",
   "metadata": {},
   "outputs": [
    {
     "ename": "AssertionError",
     "evalue": "",
     "output_type": "error",
     "traceback": [
      "\u001b[0;31m---------------------------------------------------------------------------\u001b[0m",
      "\u001b[0;31mAssertionError\u001b[0m                            Traceback (most recent call last)",
      "Input \u001b[0;32mIn [115]\u001b[0m, in \u001b[0;36m<cell line: 3>\u001b[0;34m()\u001b[0m\n\u001b[1;32m      1\u001b[0m f \u001b[38;5;241m=\u001b[39m \u001b[38;5;28mopen\u001b[39m(\u001b[38;5;124m\"\u001b[39m\u001b[38;5;124mfile.txt\u001b[39m\u001b[38;5;124m\"\u001b[39m, \u001b[38;5;124m\"\u001b[39m\u001b[38;5;124mw\u001b[39m\u001b[38;5;124m\"\u001b[39m)\n\u001b[1;32m      2\u001b[0m f\u001b[38;5;241m.\u001b[39mwrite(\u001b[38;5;124m\"\u001b[39m\u001b[38;5;124mhello \u001b[39m\u001b[38;5;124m\"\u001b[39m)\n\u001b[0;32m----> 3\u001b[0m \u001b[38;5;28;01massert\u001b[39;00m \u001b[38;5;241m1\u001b[39m \u001b[38;5;241m==\u001b[39m \u001b[38;5;241m2\u001b[39m \u001b[38;5;66;03m# CRASH HERE\u001b[39;00m\n\u001b[1;32m      4\u001b[0m f\u001b[38;5;241m.\u001b[39mwrite(\u001b[38;5;124m\"\u001b[39m\u001b[38;5;124mworld\u001b[39m\u001b[38;5;124m\"\u001b[39m)\n\u001b[1;32m      5\u001b[0m f\u001b[38;5;241m.\u001b[39mclose()\n",
      "\u001b[0;31mAssertionError\u001b[0m: "
     ]
    }
   ],
   "source": [
    "f = open(\"file.txt\", \"w\")\n",
    "f.write(\"hello \")\n",
    "assert 1 == 2 # CRASH HERE\n",
    "f.write(\"world\")\n",
    "f.close()"
   ]
  },
  {
   "cell_type": "code",
   "execution_count": 116,
   "id": "13973634-f723-4c59-a251-0711e5d3c443",
   "metadata": {},
   "outputs": [
    {
     "ename": "AssertionError",
     "evalue": "",
     "output_type": "error",
     "traceback": [
      "\u001b[0;31m---------------------------------------------------------------------------\u001b[0m",
      "\u001b[0;31mAssertionError\u001b[0m                            Traceback (most recent call last)",
      "Input \u001b[0;32mIn [116]\u001b[0m, in \u001b[0;36m<cell line: 1>\u001b[0;34m()\u001b[0m\n\u001b[1;32m      1\u001b[0m \u001b[38;5;28;01mwith\u001b[39;00m \u001b[38;5;28mopen\u001b[39m(\u001b[38;5;124m\"\u001b[39m\u001b[38;5;124mfile.txt\u001b[39m\u001b[38;5;124m\"\u001b[39m, \u001b[38;5;124m\"\u001b[39m\u001b[38;5;124mw\u001b[39m\u001b[38;5;124m\"\u001b[39m) \u001b[38;5;28;01mas\u001b[39;00m f:\n\u001b[1;32m      2\u001b[0m     f\u001b[38;5;241m.\u001b[39mwrite(\u001b[38;5;124m\"\u001b[39m\u001b[38;5;124mhello \u001b[39m\u001b[38;5;124m\"\u001b[39m)\n\u001b[0;32m----> 3\u001b[0m     \u001b[38;5;28;01massert\u001b[39;00m \u001b[38;5;241m1\u001b[39m \u001b[38;5;241m==\u001b[39m \u001b[38;5;241m2\u001b[39m \u001b[38;5;66;03m# CRASH HERE\u001b[39;00m\n\u001b[1;32m      4\u001b[0m     f\u001b[38;5;241m.\u001b[39mwrite(\u001b[38;5;124m\"\u001b[39m\u001b[38;5;124mworld\u001b[39m\u001b[38;5;124m\"\u001b[39m)\n",
      "\u001b[0;31mAssertionError\u001b[0m: "
     ]
    }
   ],
   "source": [
    "with open(\"file.txt\", \"w\") as f:\n",
    "    f.write(\"hello \")\n",
    "    assert 1 == 2 # CRASH HERE\n",
    "    f.write(\"world\")\n",
    "    # \"with\" automatically closes the file at the end, even if there's an error"
   ]
  },
  {
   "cell_type": "code",
   "execution_count": 118,
   "id": "d5ed4745-3d17-43c3-b02b-b59a505524cc",
   "metadata": {},
   "outputs": [
    {
     "data": {
      "text/plain": [
       "(<Figure size 100x100 with 1 Axes>, <AxesSubplot:>)"
      ]
     },
     "execution_count": 118,
     "metadata": {},
     "output_type": "execute_result"
    },
    {
     "data": {
      "image/png": "[encoded data removed]",
      "text/plain": [
       "<Figure size 100x100 with 1 Axes>"
      ]
     },
     "metadata": {},
     "output_type": "display_data"
    }
   ],
   "source": [
    "import matplotlib.pyplot as plt\n",
    "plt.subplots(figsize=(1,1))"
   ]
  },
  {
   "cell_type": "code",
   "execution_count": 123,
   "id": "95cea8d3-3c20-4487-9af3-d8cb3b11576a",
   "metadata": {},
   "outputs": [
    {
     "data": {
      "text/plain": [
       "10.0"
      ]
     },
     "execution_count": 123,
     "metadata": {},
     "output_type": "execute_result"
    }
   ],
   "source": [
    "plt.rcParams[\"font.size\"]"
   ]
  },
  {
   "cell_type": "code",
   "execution_count": 125,
   "id": "194fc0bd-5e46-4f02-b7d4-3c23b5e23301",
   "metadata": {},
   "outputs": [
    {
     "name": "stdout",
     "output_type": "stream",
     "text": [
      "ENTER\n",
      "ENTER\n",
      "create large plot\n",
      "EXIT\n",
      "EXIT\n"
     ]
    },
    {
     "data": {
      "text/plain": [
       "(<Figure size 100x100 with 1 Axes>, <AxesSubplot:>)"
      ]
     },
     "execution_count": 125,
     "metadata": {},
     "output_type": "execute_result"
    },
    {
     "data": {
      "image/png": "[encoded data removed]",
      "text/plain": [
       "<Figure size 100x100 with 1 Axes>"
      ]
     },
     "metadata": {},
     "output_type": "display_data"
    },
    {
     "data": {
      "image/png": "[encoded data removed]",
      "text/plain": [
       "<Figure size 100x100 with 1 Axes>"
      ]
     },
     "metadata": {},
     "output_type": "display_data"
    },
    {
     "data": {
      "image/png": "[encoded data removed]",
      "text/plain": [
       "<Figure size 100x100 with 1 Axes>"
      ]
     },
     "metadata": {},
     "output_type": "display_data"
    }
   ],
   "source": [
    "class DoubleFont:\n",
    "    def __enter__(self):\n",
    "        print(\"ENTER\")\n",
    "        self.old_size = plt.rcParams[\"font.size\"]\n",
    "        plt.rcParams[\"font.size\"] *= 2\n",
    "        \n",
    "    def __exit__(self, exc_type, exc_value, traceback):\n",
    "        print(\"EXIT\")\n",
    "        plt.rcParams[\"font.size\"] = self.old_size\n",
    "\n",
    "with DoubleFont():\n",
    "    plt.subplots(figsize=(1,1)) # large font\n",
    "    with DoubleFont():\n",
    "        # CALL: obj.__enter__()\n",
    "        print(\"create large plot\")\n",
    "        plt.subplots(figsize=(1,1)) # largest font\n",
    "        # CALL: obj.__exit__(), even if we crash\n",
    "\n",
    "plt.subplots(figsize=(1,1)) # regular font"
   ]
  },
  {
   "cell_type": "code",
   "execution_count": 127,
   "id": "a1502b6e-7c61-4272-bb3c-67deabf9372f",
   "metadata": {},
   "outputs": [],
   "source": [
    "dblfont = DoubleFont() # no __enter__ yet"
   ]
  },
  {
   "cell_type": "code",
   "execution_count": 128,
   "id": "f61f754c-f7bd-4f05-a0b5-ab98a760375e",
   "metadata": {},
   "outputs": [
    {
     "name": "stdout",
     "output_type": "stream",
     "text": [
      "ENTER\n",
      "EXIT\n"
     ]
    }
   ],
   "source": [
    "with dblfont:\n",
    "    pass"
   ]
  }
 ],
 "metadata": {
  "kernelspec": {
   "display_name": "Python 3 (ipykernel)",
   "language": "python",
   "name": "python3"
  },
  "language_info": {
   "codemirror_mode": {
    "name": "ipython",
    "version": 3
   },
   "file_extension": ".py",
   "mimetype": "text/x-python",
   "name": "python",
   "nbconvert_exporter": "python",
   "pygments_lexer": "ipython3",
   "version": "3.10.4"
  }
 },
 "nbformat": 4,
 "nbformat_minor": 5
}
