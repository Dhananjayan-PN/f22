{
 "cells": [
  {
   "cell_type": "code",
   "execution_count": 1,
   "id": "99a491b6-3c80-4354-bd0b-46cde0b7f079",
   "metadata": {},
   "outputs": [
    {
     "data": {
      "text/plain": [
       "'9.32 miles SE of Waynoka, Oklahoma'"
      ]
     },
     "execution_count": 1,
     "metadata": {},
     "output_type": "execute_result"
    }
   ],
   "source": [
    "# class(es):\n",
    "# Earthquake\n",
    "# Location\n",
    "\n",
    "quake_dicts = [{'place': 'southeast of the Loyalty Islands',\n",
    "  'time': 1637538745422,\n",
    "  'mag': 4.5,\n",
    "  'loc': {'lat': -22.7976, 'lon': 171.963}},\n",
    " {'place': '5km ESE of Walker, CA',\n",
    "  'time': 1637537593330,\n",
    "  'mag': 1.19,\n",
    "  'loc': {'lat': 38.504, 'lon': -119.429}},\n",
    " {'place': '19 km W of Cheyenne Wells, Colorado',\n",
    "  'time': 1637537565440,\n",
    "  'mag': 1.9,\n",
    "  'loc': {'lat': 38.8551, 'lon': -102.5692}},\n",
    " {'place': '4 km NW of Point MacKenzie, Alaska',\n",
    "  'time': 1637537529410,\n",
    "  'mag': 1.7,\n",
    "  'loc': {'lat': 61.3898, 'lon': -150.0462}},\n",
    " {'place': '15 km SE of Waynoka, Oklahoma',\n",
    "  'time': 1637537486109,\n",
    "  'mag': 1.51,\n",
    "  'loc': {'lat': 36.473, 'lon': -98.7745}}]\n",
    "\n",
    "def place_miles(quake):\n",
    "    place = quake[\"place\"]\n",
    "    km_idx = place.find(\"km\")\n",
    "    if km_idx < 0:\n",
    "        return place\n",
    "    num = place[:km_idx].strip()\n",
    "    if not num.isdigit():\n",
    "        return place\n",
    "    miles = round(float(num) * 0.621371, 2)\n",
    "    return f\"{miles} miles{place[km_idx+2:]}\"\n",
    "\n",
    "place_miles(quake_dicts[4])"
   ]
  },
  {
   "cell_type": "code",
   "execution_count": 50,
   "id": "a1722841-874e-4e62-8f04-09fb755d6192",
   "metadata": {},
   "outputs": [],
   "source": [
    "class Location:\n",
    "    def __init__(self, lat, lon):    # my only constructor (and it is always called __init__)\n",
    "        self.lat = lat\n",
    "        self.lon = lon\n",
    "        \n",
    "    def __repr__(self):         # this is a special method\n",
    "        return f\"Location({self.lat}, {self.lon})\"\n",
    "        \n",
    "    def __str__(self):          # this is a special method\n",
    "        return f\"Location at lat {self.lat} and lon {self.lon}\"\n",
    "    \n",
    "    def __eq__(self, other):\n",
    "        return self.lat == other.lat and self.lon == other.lon\n",
    "        \n",
    "        \n",
    "loc = Location(36.473, -98.7745)"
   ]
  },
  {
   "cell_type": "code",
   "execution_count": 51,
   "id": "be4e216d-b9bf-42a6-bf8f-cf48a44e57c7",
   "metadata": {},
   "outputs": [
    {
     "data": {
      "text/plain": [
       "Location(36.473, -98.7745)"
      ]
     },
     "execution_count": 51,
     "metadata": {},
     "output_type": "execute_result"
    }
   ],
   "source": [
    "loc   # uses loc.__repr__()"
   ]
  },
  {
   "cell_type": "code",
   "execution_count": 52,
   "id": "a1358c37-cd19-4b10-8e73-3634fcee6f9d",
   "metadata": {},
   "outputs": [
    {
     "data": {
      "text/plain": [
       "Location(36.473, -98.7745)"
      ]
     },
     "execution_count": 52,
     "metadata": {},
     "output_type": "execute_result"
    }
   ],
   "source": [
    "loc2 = Location(36.473, -98.7745)\n",
    "loc2"
   ]
  },
  {
   "cell_type": "code",
   "execution_count": 53,
   "id": "6ac8a96b-0053-4e13-b923-9d0e68676fb3",
   "metadata": {},
   "outputs": [
    {
     "data": {
      "text/plain": [
       "True"
      ]
     },
     "execution_count": 53,
     "metadata": {},
     "output_type": "execute_result"
    }
   ],
   "source": [
    "loc == loc2   # shorthand for loc.__eq__(loc2)"
   ]
  },
  {
   "cell_type": "code",
   "execution_count": 16,
   "id": "a5c976ab-8e3f-4f0c-b539-01f4e8be7041",
   "metadata": {},
   "outputs": [
    {
     "name": "stdout",
     "output_type": "stream",
     "text": [
      "Location at lat 36.473 and lon -98.7745\n"
     ]
    }
   ],
   "source": [
    "print(loc)   # uses loc.__str__()"
   ]
  },
  {
   "cell_type": "code",
   "execution_count": 5,
   "id": "6311660f-3fc0-4328-b00c-fa5093301e0c",
   "metadata": {},
   "outputs": [
    {
     "data": {
      "text/plain": [
       "36.473"
      ]
     },
     "execution_count": 5,
     "metadata": {},
     "output_type": "execute_result"
    }
   ],
   "source": [
    "loc.lat"
   ]
  },
  {
   "cell_type": "code",
   "execution_count": 7,
   "id": "cbefd585-225b-49b0-8f99-1a386403e460",
   "metadata": {},
   "outputs": [
    {
     "name": "stdout",
     "output_type": "stream",
     "text": [
      "A\n",
      "B\n"
     ]
    },
    {
     "data": {
      "text/plain": [
       "'A\\nB'"
      ]
     },
     "execution_count": 7,
     "metadata": {},
     "output_type": "execute_result"
    }
   ],
   "source": [
    "s = \"A\\nB\"\n",
    "print(s)   # __str__ is for a broad audience\n",
    "s          # __repr__ is for programmers"
   ]
  },
  {
   "cell_type": "code",
   "execution_count": 40,
   "id": "b9ae02c2-6f4f-435d-9c83-e3b4a9f4ecb4",
   "metadata": {},
   "outputs": [],
   "source": [
    "class Earthquake:\n",
    "    def __init__(self, dict_values):\n",
    "        self.place = dict_values[\"place\"]\n",
    "        self.time = dict_values[\"time\"]\n",
    "        self.mag = dict_values[\"mag\"]\n",
    "        self.loc = Location(dict_values[\"loc\"][\"lat\"], dict_values[\"loc\"][\"lon\"])\n",
    "        \n",
    "    def __repr__(self):\n",
    "        return f\"Magnitude {self.mag} earthquake at {self.place}\"\n",
    "    \n",
    "    def _repr_html_(self):\n",
    "        size = int(round(self.mag))\n",
    "        size = 6 - size\n",
    "        return f\"<h{size}>Magnitude {self.mag} earthquake at {self.place}</h{size}>\"\n",
    "\n",
    "e = Earthquake({\n",
    "    'place': 'southeast of the Loyalty Islands',\n",
    "    'time': 1637538745422,\n",
    "    'mag': 4.5,\n",
    "    'loc': {'lat': -22.7976, 'lon': 171.963}\n",
    "})"
   ]
  },
  {
   "cell_type": "code",
   "execution_count": 41,
   "id": "6e8750f0-18f5-4bec-84e5-e3fa924e8626",
   "metadata": {},
   "outputs": [
    {
     "data": {
      "text/plain": [
       "[Magnitude 4.5 earthquake at southeast of the Loyalty Islands,\n",
       " Magnitude 1.19 earthquake at 5km ESE of Walker, CA]"
      ]
     },
     "execution_count": 41,
     "metadata": {},
     "output_type": "execute_result"
    }
   ],
   "source": [
    "[\n",
    "    Earthquake(quake_dicts[0]),\n",
    "    Earthquake(quake_dicts[1])\n",
    "]"
   ]
  },
  {
   "cell_type": "code",
   "execution_count": 42,
   "id": "45afcb97-27dc-4054-b86e-e945b5907910",
   "metadata": {},
   "outputs": [
    {
     "data": {
      "text/html": [
       "<h2>Magnitude 4.5 earthquake at southeast of the Loyalty Islands</h2>"
      ],
      "text/plain": [
       "Magnitude 4.5 earthquake at southeast of the Loyalty Islands"
      ]
     },
     "execution_count": 42,
     "metadata": {},
     "output_type": "execute_result"
    }
   ],
   "source": [
    "Earthquake(quake_dicts[0])"
   ]
  },
  {
   "cell_type": "code",
   "execution_count": 37,
   "id": "40761ea8-5e75-472c-a33c-c3159d55cde9",
   "metadata": {},
   "outputs": [
    {
     "data": {
      "text/html": [
       "<h5>Magnitude 1.19 earthquake at 5km ESE of Walker, CA</h5>"
      ],
      "text/plain": [
       "<__main__.Earthquake at 0x7f1e782359f0>"
      ]
     },
     "execution_count": 37,
     "metadata": {},
     "output_type": "execute_result"
    }
   ],
   "source": [
    "Earthquake(quake_dicts[1])"
   ]
  },
  {
   "cell_type": "code",
   "execution_count": 38,
   "id": "f3100f0e-94d7-4ace-bbee-f35af428fb1d",
   "metadata": {},
   "outputs": [
    {
     "data": {
      "text/html": [
       "<h4>Magnitude 1.9 earthquake at 19 km W of Cheyenne Wells, Colorado</h4>"
      ],
      "text/plain": [
       "<__main__.Earthquake at 0x7f1e78236cb0>"
      ]
     },
     "execution_count": 38,
     "metadata": {},
     "output_type": "execute_result"
    }
   ],
   "source": [
    "Earthquake(quake_dicts[2])"
   ]
  }
 ],
 "metadata": {
  "kernelspec": {
   "display_name": "Python 3 (ipykernel)",
   "language": "python",
   "name": "python3"
  },
  "language_info": {
   "codemirror_mode": {
    "name": "ipython",
    "version": 3
   },
   "file_extension": ".py",
   "mimetype": "text/x-python",
   "name": "python",
   "nbconvert_exporter": "python",
   "pygments_lexer": "ipython3",
   "version": "3.10.4"
  }
 },
 "nbformat": 4,
 "nbformat_minor": 5
}
