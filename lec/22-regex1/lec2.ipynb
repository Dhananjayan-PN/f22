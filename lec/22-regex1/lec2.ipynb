{
 "cells": [
  {
   "cell_type": "code",
   "execution_count": 1,
   "id": "b97c8008-8e39-4a9f-89a1-0d1ddbb1ac01",
   "metadata": {},
   "outputs": [
    {
     "name": "stdout",
     "output_type": "stream",
     "text": [
      "A DAG is a directed graph without cycles. A tree is a DAG where every node has one parent (except the root, which has none). To learn more, visit www.example.com or call 1-608-123-4567. :) ¯\\_(ツ)_/¯\n",
      "1-608-123-4567\n",
      "a-bcd-efg-hijg (not a phone number)\n",
      "1-608-123-456 (not a phone number)\n",
      "608-123-4567\n",
      "123-4567\n",
      "1-123-4567 (not a phone number)\n",
      "\n",
      "In CS 320, there are 10 quizzes, 7 projects, 39 lectures, and 1000 things to learn.  CS 320 is awesome!\n",
      "In CS 320,  there are 14 quizzes,    7 projects,\n",
      "41 lectures, and 1000 things to learn.  CS 320 is awesome!\n"
     ]
    }
   ],
   "source": [
    "import re\n",
    "\n",
    "# from DS100 book...\n",
    "def reg(regex, text):\n",
    "    \"\"\"\n",
    "    Prints the string with the regex match highlighted.\n",
    "    \"\"\"\n",
    "    print(re.sub(f'({regex})', r'\\033[1;30;43m\\1\\033[m', text))\n",
    "s1 = \" \".join([\"A DAG is a directed graph without cycles.\",\n",
    "               \"A tree is a DAG where every node has one parent (except the root, which has none).\",\n",
    "               \"To learn more, visit www.example.com or call 1-608-123-4567. :) ¯\\_(ツ)_/¯\"])\n",
    "print(s1)\n",
    "\n",
    "s2 = \"\"\"1-608-123-4567\n",
    "a-bcd-efg-hijg (not a phone number)\n",
    "1-608-123-456 (not a phone number)\n",
    "608-123-4567\n",
    "123-4567\n",
    "1-123-4567 (not a phone number)\n",
    "\"\"\"\n",
    "print(s2)\n",
    "\n",
    "s3 = \"In CS 320, there are 10 quizzes, 7 projects, 39 lectures, and 1000 things to learn.  CS 320 is awesome!\"\n",
    "print(s3)\n",
    "\n",
    "s4 = \"\"\"In CS 320,  there are 14 quizzes,    7 projects,\n",
    "41 lectures, and 1000 things to learn.  CS 320 is awesome!\"\"\"\n",
    "print(s4)"
   ]
  },
  {
   "cell_type": "code",
   "execution_count": 2,
   "id": "924069c5-82be-4423-b659-2beee8e226be",
   "metadata": {},
   "outputs": [
    {
     "name": "stdout",
     "output_type": "stream",
     "text": [
      "A DAG is a directed graph without cycles. A tree is a DAG where every node has one parent (except the root, which has none). To learn more, visit www.example.com or call 1-608-123-4567. :) ¯\\_(ツ)_/¯\n"
     ]
    }
   ],
   "source": [
    "print(s1)"
   ]
  },
  {
   "cell_type": "code",
   "execution_count": 3,
   "id": "ee9dbc37-14f3-4067-886a-fb6f36fac15f",
   "metadata": {},
   "outputs": [
    {
     "name": "stdout",
     "output_type": "stream",
     "text": [
      "A DAG is \u001b[1;30;43ma\u001b[m directed gr\u001b[1;30;43ma\u001b[mph without cycles. A tree is \u001b[1;30;43ma\u001b[m DAG where every node h\u001b[1;30;43ma\u001b[ms one p\u001b[1;30;43ma\u001b[mrent (except the root, which h\u001b[1;30;43ma\u001b[ms none). To le\u001b[1;30;43ma\u001b[mrn more, visit www.ex\u001b[1;30;43ma\u001b[mmple.com or c\u001b[1;30;43ma\u001b[mll 1-608-123-4567. :) ¯\\_(ツ)_/¯\n"
     ]
    }
   ],
   "source": [
    "# reg(PATTERN, STRING)\n",
    "reg(r\"a\", s1)"
   ]
  },
  {
   "cell_type": "code",
   "execution_count": 5,
   "id": "e73b9016-a4b2-4ea6-afdd-b59867dd30cb",
   "metadata": {},
   "outputs": [
    {
     "name": "stdout",
     "output_type": "stream",
     "text": [
      "\u001b[1;30;43mA\u001b[m D\u001b[1;30;43mA\u001b[mG is a directed graph without cycles. \u001b[1;30;43mA\u001b[m tree is a D\u001b[1;30;43mA\u001b[mG where every node has one parent (except the root, which has none). To learn more, visit www.example.com or call 1-608-123-4567. :) ¯\\_(ツ)_/¯\n"
     ]
    }
   ],
   "source": [
    "reg(r\"A\", s1)"
   ]
  },
  {
   "cell_type": "code",
   "execution_count": 8,
   "id": "003b6b2e-285f-4575-bf9f-6ecd0e086851",
   "metadata": {},
   "outputs": [],
   "source": [
    "# goal: find the right arm\n",
    "# reg(\"\\\", s1) # python will be unhappy"
   ]
  },
  {
   "cell_type": "code",
   "execution_count": 9,
   "id": "b935eed3-322d-4b89-ae4a-ec10456e3fb6",
   "metadata": {},
   "outputs": [],
   "source": [
    "# reg(\"\\\\\", s1) # regex will be unhappy"
   ]
  },
  {
   "cell_type": "code",
   "execution_count": 10,
   "id": "a3a8ca37-9dba-4782-80f0-e6be5e3d98a1",
   "metadata": {},
   "outputs": [
    {
     "name": "stdout",
     "output_type": "stream",
     "text": [
      "A DAG is a directed graph without cycles. A tree is a DAG where every node has one parent (except the root, which has none). To learn more, visit www.example.com or call 1-608-123-4567. :) ¯\u001b[1;30;43m\\\u001b[m_(ツ)_/¯\n"
     ]
    }
   ],
   "source": [
    "reg(\"\\\\\\\\\", s1)"
   ]
  },
  {
   "cell_type": "code",
   "execution_count": 11,
   "id": "0636b9b1-159a-4597-a32f-e36510802753",
   "metadata": {},
   "outputs": [
    {
     "name": "stdout",
     "output_type": "stream",
     "text": [
      "A DAG is a directed graph without cycles. A tree is a DAG where every node has one parent (except the root, which has none). To learn more, visit www.example.com or call 1-608-123-4567. :) ¯\u001b[1;30;43m\\\u001b[m_(ツ)_/¯\n"
     ]
    }
   ],
   "source": [
    "reg(r\"\\\\\", s1)"
   ]
  },
  {
   "cell_type": "code",
   "execution_count": 12,
   "id": "5c07ad88-3019-4d75-aacf-743b3f01ef31",
   "metadata": {},
   "outputs": [
    {
     "name": "stdout",
     "output_type": "stream",
     "text": [
      "A DAG is a directed graph without cycles. A tree is a DAG where every node has one parent (except the root, which has none). To learn more, visit www.example.com or call 1-608-123-4567. :) ¯\\_(ツ)_/¯\n"
     ]
    }
   ],
   "source": [
    "reg(\"aA\", s1)"
   ]
  },
  {
   "cell_type": "code",
   "execution_count": 13,
   "id": "cc0694e1-474e-44e2-b1e4-a75d1b518858",
   "metadata": {},
   "outputs": [
    {
     "name": "stdout",
     "output_type": "stream",
     "text": [
      "\u001b[1;30;43mA\u001b[m D\u001b[1;30;43mA\u001b[mG is \u001b[1;30;43ma\u001b[m directed gr\u001b[1;30;43ma\u001b[mph without cycles. \u001b[1;30;43mA\u001b[m tree is \u001b[1;30;43ma\u001b[m D\u001b[1;30;43mA\u001b[mG where every node h\u001b[1;30;43ma\u001b[ms one p\u001b[1;30;43ma\u001b[mrent (except the root, which h\u001b[1;30;43ma\u001b[ms none). To le\u001b[1;30;43ma\u001b[mrn more, visit www.ex\u001b[1;30;43ma\u001b[mmple.com or c\u001b[1;30;43ma\u001b[mll 1-608-123-4567. :) ¯\\_(ツ)_/¯\n"
     ]
    }
   ],
   "source": [
    "# character class: different options inside of [, ]\n",
    "reg(\"[aA]\", s1)"
   ]
  },
  {
   "cell_type": "code",
   "execution_count": 14,
   "id": "dee65e40-a4ad-4ea7-92c0-4daded4af747",
   "metadata": {},
   "outputs": [
    {
     "name": "stdout",
     "output_type": "stream",
     "text": [
      "\u001b[1;30;43mA\u001b[m D\u001b[1;30;43mA\u001b[mG \u001b[1;30;43mi\u001b[ms \u001b[1;30;43ma\u001b[m d\u001b[1;30;43mi\u001b[mr\u001b[1;30;43me\u001b[mct\u001b[1;30;43me\u001b[md gr\u001b[1;30;43ma\u001b[mph w\u001b[1;30;43mi\u001b[mth\u001b[1;30;43mo\u001b[m\u001b[1;30;43mu\u001b[mt cycl\u001b[1;30;43me\u001b[ms. \u001b[1;30;43mA\u001b[m tr\u001b[1;30;43me\u001b[m\u001b[1;30;43me\u001b[m \u001b[1;30;43mi\u001b[ms \u001b[1;30;43ma\u001b[m D\u001b[1;30;43mA\u001b[mG wh\u001b[1;30;43me\u001b[mr\u001b[1;30;43me\u001b[m \u001b[1;30;43me\u001b[mv\u001b[1;30;43me\u001b[mry n\u001b[1;30;43mo\u001b[md\u001b[1;30;43me\u001b[m h\u001b[1;30;43ma\u001b[ms \u001b[1;30;43mo\u001b[mn\u001b[1;30;43me\u001b[m p\u001b[1;30;43ma\u001b[mr\u001b[1;30;43me\u001b[mnt (\u001b[1;30;43me\u001b[mxc\u001b[1;30;43me\u001b[mpt th\u001b[1;30;43me\u001b[m r\u001b[1;30;43mo\u001b[m\u001b[1;30;43mo\u001b[mt, wh\u001b[1;30;43mi\u001b[mch h\u001b[1;30;43ma\u001b[ms n\u001b[1;30;43mo\u001b[mn\u001b[1;30;43me\u001b[m). T\u001b[1;30;43mo\u001b[m l\u001b[1;30;43me\u001b[m\u001b[1;30;43ma\u001b[mrn m\u001b[1;30;43mo\u001b[mr\u001b[1;30;43me\u001b[m, v\u001b[1;30;43mi\u001b[ms\u001b[1;30;43mi\u001b[mt www.\u001b[1;30;43me\u001b[mx\u001b[1;30;43ma\u001b[mmpl\u001b[1;30;43me\u001b[m.c\u001b[1;30;43mo\u001b[mm \u001b[1;30;43mo\u001b[mr c\u001b[1;30;43ma\u001b[mll 1-608-123-4567. :) ¯\\_(ツ)_/¯\n"
     ]
    }
   ],
   "source": [
    "# all the vowels\n",
    "reg(\"[aeiouAEIOU]\", s1)"
   ]
  },
  {
   "cell_type": "code",
   "execution_count": 15,
   "id": "d27513a4-0774-4e43-bdaa-d777c5eb85a2",
   "metadata": {},
   "outputs": [
    {
     "name": "stdout",
     "output_type": "stream",
     "text": [
      "A\u001b[1;30;43m \u001b[m\u001b[1;30;43mD\u001b[mA\u001b[1;30;43mG\u001b[m\u001b[1;30;43m \u001b[mi\u001b[1;30;43ms\u001b[m\u001b[1;30;43m \u001b[ma\u001b[1;30;43m \u001b[m\u001b[1;30;43md\u001b[mi\u001b[1;30;43mr\u001b[me\u001b[1;30;43mc\u001b[m\u001b[1;30;43mt\u001b[me\u001b[1;30;43md\u001b[m\u001b[1;30;43m \u001b[m\u001b[1;30;43mg\u001b[m\u001b[1;30;43mr\u001b[ma\u001b[1;30;43mp\u001b[m\u001b[1;30;43mh\u001b[m\u001b[1;30;43m \u001b[m\u001b[1;30;43mw\u001b[mi\u001b[1;30;43mt\u001b[m\u001b[1;30;43mh\u001b[mou\u001b[1;30;43mt\u001b[m\u001b[1;30;43m \u001b[m\u001b[1;30;43mc\u001b[m\u001b[1;30;43my\u001b[m\u001b[1;30;43mc\u001b[m\u001b[1;30;43ml\u001b[me\u001b[1;30;43ms\u001b[m\u001b[1;30;43m.\u001b[m\u001b[1;30;43m \u001b[mA\u001b[1;30;43m \u001b[m\u001b[1;30;43mt\u001b[m\u001b[1;30;43mr\u001b[mee\u001b[1;30;43m \u001b[mi\u001b[1;30;43ms\u001b[m\u001b[1;30;43m \u001b[ma\u001b[1;30;43m \u001b[m\u001b[1;30;43mD\u001b[mA\u001b[1;30;43mG\u001b[m\u001b[1;30;43m \u001b[m\u001b[1;30;43mw\u001b[m\u001b[1;30;43mh\u001b[me\u001b[1;30;43mr\u001b[me\u001b[1;30;43m \u001b[me\u001b[1;30;43mv\u001b[me\u001b[1;30;43mr\u001b[m\u001b[1;30;43my\u001b[m\u001b[1;30;43m \u001b[m\u001b[1;30;43mn\u001b[mo\u001b[1;30;43md\u001b[me\u001b[1;30;43m \u001b[m\u001b[1;30;43mh\u001b[ma\u001b[1;30;43ms\u001b[m\u001b[1;30;43m \u001b[mo\u001b[1;30;43mn\u001b[me\u001b[1;30;43m \u001b[m\u001b[1;30;43mp\u001b[ma\u001b[1;30;43mr\u001b[me\u001b[1;30;43mn\u001b[m\u001b[1;30;43mt\u001b[m\u001b[1;30;43m \u001b[m\u001b[1;30;43m(\u001b[me\u001b[1;30;43mx\u001b[m\u001b[1;30;43mc\u001b[me\u001b[1;30;43mp\u001b[m\u001b[1;30;43mt\u001b[m\u001b[1;30;43m \u001b[m\u001b[1;30;43mt\u001b[m\u001b[1;30;43mh\u001b[me\u001b[1;30;43m \u001b[m\u001b[1;30;43mr\u001b[moo\u001b[1;30;43mt\u001b[m\u001b[1;30;43m,\u001b[m\u001b[1;30;43m \u001b[m\u001b[1;30;43mw\u001b[m\u001b[1;30;43mh\u001b[mi\u001b[1;30;43mc\u001b[m\u001b[1;30;43mh\u001b[m\u001b[1;30;43m \u001b[m\u001b[1;30;43mh\u001b[ma\u001b[1;30;43ms\u001b[m\u001b[1;30;43m \u001b[m\u001b[1;30;43mn\u001b[mo\u001b[1;30;43mn\u001b[me\u001b[1;30;43m)\u001b[m\u001b[1;30;43m.\u001b[m\u001b[1;30;43m \u001b[m\u001b[1;30;43mT\u001b[mo\u001b[1;30;43m \u001b[m\u001b[1;30;43ml\u001b[mea\u001b[1;30;43mr\u001b[m\u001b[1;30;43mn\u001b[m\u001b[1;30;43m \u001b[m\u001b[1;30;43mm\u001b[mo\u001b[1;30;43mr\u001b[me\u001b[1;30;43m,\u001b[m\u001b[1;30;43m \u001b[m\u001b[1;30;43mv\u001b[mi\u001b[1;30;43ms\u001b[mi\u001b[1;30;43mt\u001b[m\u001b[1;30;43m \u001b[m\u001b[1;30;43mw\u001b[m\u001b[1;30;43mw\u001b[m\u001b[1;30;43mw\u001b[m\u001b[1;30;43m.\u001b[me\u001b[1;30;43mx\u001b[ma\u001b[1;30;43mm\u001b[m\u001b[1;30;43mp\u001b[m\u001b[1;30;43ml\u001b[me\u001b[1;30;43m.\u001b[m\u001b[1;30;43mc\u001b[mo\u001b[1;30;43mm\u001b[m\u001b[1;30;43m \u001b[mo\u001b[1;30;43mr\u001b[m\u001b[1;30;43m \u001b[m\u001b[1;30;43mc\u001b[ma\u001b[1;30;43ml\u001b[m\u001b[1;30;43ml\u001b[m\u001b[1;30;43m \u001b[m\u001b[1;30;43m1\u001b[m\u001b[1;30;43m-\u001b[m\u001b[1;30;43m6\u001b[m\u001b[1;30;43m0\u001b[m\u001b[1;30;43m8\u001b[m\u001b[1;30;43m-\u001b[m\u001b[1;30;43m1\u001b[m\u001b[1;30;43m2\u001b[m\u001b[1;30;43m3\u001b[m\u001b[1;30;43m-\u001b[m\u001b[1;30;43m4\u001b[m\u001b[1;30;43m5\u001b[m\u001b[1;30;43m6\u001b[m\u001b[1;30;43m7\u001b[m\u001b[1;30;43m.\u001b[m\u001b[1;30;43m \u001b[m\u001b[1;30;43m:\u001b[m\u001b[1;30;43m)\u001b[m\u001b[1;30;43m \u001b[m\u001b[1;30;43m¯\u001b[m\u001b[1;30;43m\\\u001b[m\u001b[1;30;43m_\u001b[m\u001b[1;30;43m(\u001b[m\u001b[1;30;43mツ\u001b[m\u001b[1;30;43m)\u001b[m\u001b[1;30;43m_\u001b[m\u001b[1;30;43m/\u001b[m\u001b[1;30;43m¯\u001b[m\n"
     ]
    }
   ],
   "source": [
    "# inside a character class, ^ means \"NOT\"\n",
    "# get everything except vowels\n",
    "reg(\"[^aeiouAEIOU]\", s1)"
   ]
  },
  {
   "cell_type": "code",
   "execution_count": 22,
   "id": "f1015a5b-47b5-4e70-b6f1-e18842e54c0d",
   "metadata": {},
   "outputs": [
    {
     "name": "stdout",
     "output_type": "stream",
     "text": [
      "\u001b[1;30;43mA\u001b[m \u001b[1;30;43mD\u001b[m\u001b[1;30;43mA\u001b[m\u001b[1;30;43mG\u001b[m is a directed graph without cycles. \u001b[1;30;43mA\u001b[m tree is a \u001b[1;30;43mD\u001b[m\u001b[1;30;43mA\u001b[m\u001b[1;30;43mG\u001b[m where every node has one parent (except the root, which has none). \u001b[1;30;43mT\u001b[mo learn more, visit www.example.com or call 1-608-123-4567. :) ¯\\_(ツ)_/¯\n"
     ]
    }
   ],
   "source": [
    "# want all capital letters\n",
    "reg(\"[A-Z]\", s1)"
   ]
  },
  {
   "cell_type": "code",
   "execution_count": 23,
   "id": "7b46d6d1-f230-45ff-adda-ff2a49ddad16",
   "metadata": {},
   "outputs": [
    {
     "name": "stdout",
     "output_type": "stream",
     "text": [
      "\u001b[1;30;43mA\u001b[m D\u001b[1;30;43mA\u001b[mG is a directed graph without cycles. \u001b[1;30;43mA\u001b[m tree is a D\u001b[1;30;43mA\u001b[mG where every node has one parent (except the root, which has none). To learn more, visit www.example.com or call 1\u001b[1;30;43m-\u001b[m608\u001b[1;30;43m-\u001b[m123\u001b[1;30;43m-\u001b[m4567. :) ¯\\_(ツ)_/¯\n"
     ]
    }
   ],
   "source": [
    "# want A, Z, and -\n",
    "reg(r\"[A\\-Z]\", s1)"
   ]
  },
  {
   "cell_type": "code",
   "execution_count": 30,
   "id": "96923f55-e19c-40c8-ac19-1b14d1ecaae3",
   "metadata": {},
   "outputs": [
    {
     "name": "stdout",
     "output_type": "stream",
     "text": [
      "A DAG is a directed graph without cycles. A tree is a DAG where every node has one parent (except the root, which has none). To learn more, visit www.example.com or call \u001b[1;30;43m1\u001b[m-\u001b[1;30;43m6\u001b[m\u001b[1;30;43m0\u001b[m\u001b[1;30;43m8\u001b[m-\u001b[1;30;43m1\u001b[m\u001b[1;30;43m2\u001b[m\u001b[1;30;43m3\u001b[m-\u001b[1;30;43m4\u001b[m\u001b[1;30;43m5\u001b[m\u001b[1;30;43m6\u001b[m\u001b[1;30;43m7\u001b[m. :) ¯\\_(ツ)_/¯\n"
     ]
    }
   ],
   "source": [
    "# metacharacters: like predefined character classes\n",
    "\n",
    "# \\d => digits\n",
    "# \\s => whitespace (space, tab, newline)\n",
    "# \\w => \"word\" characters (digits, letters, underscores, etc)\n",
    "# . => anything except newline\n",
    "\n",
    "#reg(r\"[0-9]\", s1)\n",
    "reg(r\"\\d\", s1)"
   ]
  },
  {
   "cell_type": "code",
   "execution_count": 28,
   "id": "7438bd72-c477-4b9b-990a-0de55019f02a",
   "metadata": {},
   "outputs": [
    {
     "name": "stdout",
     "output_type": "stream",
     "text": [
      "A\u001b[1;30;43m \u001b[mDAG\u001b[1;30;43m \u001b[mis\u001b[1;30;43m \u001b[ma\u001b[1;30;43m \u001b[mdirected\u001b[1;30;43m \u001b[mgraph\u001b[1;30;43m \u001b[mwithout\u001b[1;30;43m \u001b[mcycles.\u001b[1;30;43m \u001b[mA\u001b[1;30;43m \u001b[mtree\u001b[1;30;43m \u001b[mis\u001b[1;30;43m \u001b[ma\u001b[1;30;43m \u001b[mDAG\u001b[1;30;43m \u001b[mwhere\u001b[1;30;43m \u001b[mevery\u001b[1;30;43m \u001b[mnode\u001b[1;30;43m \u001b[mhas\u001b[1;30;43m \u001b[mone\u001b[1;30;43m \u001b[mparent\u001b[1;30;43m \u001b[m(except\u001b[1;30;43m \u001b[mthe\u001b[1;30;43m \u001b[mroot,\u001b[1;30;43m \u001b[mwhich\u001b[1;30;43m \u001b[mhas\u001b[1;30;43m \u001b[mnone).\u001b[1;30;43m \u001b[mTo\u001b[1;30;43m \u001b[mlearn\u001b[1;30;43m \u001b[mmore,\u001b[1;30;43m \u001b[mvisit\u001b[1;30;43m \u001b[mwww.example.com\u001b[1;30;43m \u001b[mor\u001b[1;30;43m \u001b[mcall\u001b[1;30;43m \u001b[m1-608-123-4567.\u001b[1;30;43m \u001b[m:)\u001b[1;30;43m \u001b[m¯\\_(ツ)_/¯\n"
     ]
    }
   ],
   "source": [
    "reg(r\"\\s\", s1)"
   ]
  },
  {
   "cell_type": "code",
   "execution_count": 29,
   "id": "2ecfed39-e744-4c70-b612-afdba56ad48b",
   "metadata": {},
   "outputs": [
    {
     "name": "stdout",
     "output_type": "stream",
     "text": [
      "\u001b[1;30;43mA\u001b[m \u001b[1;30;43mD\u001b[m\u001b[1;30;43mA\u001b[m\u001b[1;30;43mG\u001b[m \u001b[1;30;43mi\u001b[m\u001b[1;30;43ms\u001b[m \u001b[1;30;43ma\u001b[m \u001b[1;30;43md\u001b[m\u001b[1;30;43mi\u001b[m\u001b[1;30;43mr\u001b[m\u001b[1;30;43me\u001b[m\u001b[1;30;43mc\u001b[m\u001b[1;30;43mt\u001b[m\u001b[1;30;43me\u001b[m\u001b[1;30;43md\u001b[m \u001b[1;30;43mg\u001b[m\u001b[1;30;43mr\u001b[m\u001b[1;30;43ma\u001b[m\u001b[1;30;43mp\u001b[m\u001b[1;30;43mh\u001b[m \u001b[1;30;43mw\u001b[m\u001b[1;30;43mi\u001b[m\u001b[1;30;43mt\u001b[m\u001b[1;30;43mh\u001b[m\u001b[1;30;43mo\u001b[m\u001b[1;30;43mu\u001b[m\u001b[1;30;43mt\u001b[m \u001b[1;30;43mc\u001b[m\u001b[1;30;43my\u001b[m\u001b[1;30;43mc\u001b[m\u001b[1;30;43ml\u001b[m\u001b[1;30;43me\u001b[m\u001b[1;30;43ms\u001b[m\u001b[1;30;43m.\u001b[m \u001b[1;30;43mA\u001b[m \u001b[1;30;43mt\u001b[m\u001b[1;30;43mr\u001b[m\u001b[1;30;43me\u001b[m\u001b[1;30;43me\u001b[m \u001b[1;30;43mi\u001b[m\u001b[1;30;43ms\u001b[m \u001b[1;30;43ma\u001b[m \u001b[1;30;43mD\u001b[m\u001b[1;30;43mA\u001b[m\u001b[1;30;43mG\u001b[m \u001b[1;30;43mw\u001b[m\u001b[1;30;43mh\u001b[m\u001b[1;30;43me\u001b[m\u001b[1;30;43mr\u001b[m\u001b[1;30;43me\u001b[m \u001b[1;30;43me\u001b[m\u001b[1;30;43mv\u001b[m\u001b[1;30;43me\u001b[m\u001b[1;30;43mr\u001b[m\u001b[1;30;43my\u001b[m \u001b[1;30;43mn\u001b[m\u001b[1;30;43mo\u001b[m\u001b[1;30;43md\u001b[m\u001b[1;30;43me\u001b[m \u001b[1;30;43mh\u001b[m\u001b[1;30;43ma\u001b[m\u001b[1;30;43ms\u001b[m \u001b[1;30;43mo\u001b[m\u001b[1;30;43mn\u001b[m\u001b[1;30;43me\u001b[m \u001b[1;30;43mp\u001b[m\u001b[1;30;43ma\u001b[m\u001b[1;30;43mr\u001b[m\u001b[1;30;43me\u001b[m\u001b[1;30;43mn\u001b[m\u001b[1;30;43mt\u001b[m \u001b[1;30;43m(\u001b[m\u001b[1;30;43me\u001b[m\u001b[1;30;43mx\u001b[m\u001b[1;30;43mc\u001b[m\u001b[1;30;43me\u001b[m\u001b[1;30;43mp\u001b[m\u001b[1;30;43mt\u001b[m \u001b[1;30;43mt\u001b[m\u001b[1;30;43mh\u001b[m\u001b[1;30;43me\u001b[m \u001b[1;30;43mr\u001b[m\u001b[1;30;43mo\u001b[m\u001b[1;30;43mo\u001b[m\u001b[1;30;43mt\u001b[m\u001b[1;30;43m,\u001b[m \u001b[1;30;43mw\u001b[m\u001b[1;30;43mh\u001b[m\u001b[1;30;43mi\u001b[m\u001b[1;30;43mc\u001b[m\u001b[1;30;43mh\u001b[m \u001b[1;30;43mh\u001b[m\u001b[1;30;43ma\u001b[m\u001b[1;30;43ms\u001b[m \u001b[1;30;43mn\u001b[m\u001b[1;30;43mo\u001b[m\u001b[1;30;43mn\u001b[m\u001b[1;30;43me\u001b[m\u001b[1;30;43m)\u001b[m\u001b[1;30;43m.\u001b[m \u001b[1;30;43mT\u001b[m\u001b[1;30;43mo\u001b[m \u001b[1;30;43ml\u001b[m\u001b[1;30;43me\u001b[m\u001b[1;30;43ma\u001b[m\u001b[1;30;43mr\u001b[m\u001b[1;30;43mn\u001b[m \u001b[1;30;43mm\u001b[m\u001b[1;30;43mo\u001b[m\u001b[1;30;43mr\u001b[m\u001b[1;30;43me\u001b[m\u001b[1;30;43m,\u001b[m \u001b[1;30;43mv\u001b[m\u001b[1;30;43mi\u001b[m\u001b[1;30;43ms\u001b[m\u001b[1;30;43mi\u001b[m\u001b[1;30;43mt\u001b[m \u001b[1;30;43mw\u001b[m\u001b[1;30;43mw\u001b[m\u001b[1;30;43mw\u001b[m\u001b[1;30;43m.\u001b[m\u001b[1;30;43me\u001b[m\u001b[1;30;43mx\u001b[m\u001b[1;30;43ma\u001b[m\u001b[1;30;43mm\u001b[m\u001b[1;30;43mp\u001b[m\u001b[1;30;43ml\u001b[m\u001b[1;30;43me\u001b[m\u001b[1;30;43m.\u001b[m\u001b[1;30;43mc\u001b[m\u001b[1;30;43mo\u001b[m\u001b[1;30;43mm\u001b[m \u001b[1;30;43mo\u001b[m\u001b[1;30;43mr\u001b[m \u001b[1;30;43mc\u001b[m\u001b[1;30;43ma\u001b[m\u001b[1;30;43ml\u001b[m\u001b[1;30;43ml\u001b[m \u001b[1;30;43m1\u001b[m\u001b[1;30;43m-\u001b[m\u001b[1;30;43m6\u001b[m\u001b[1;30;43m0\u001b[m\u001b[1;30;43m8\u001b[m\u001b[1;30;43m-\u001b[m\u001b[1;30;43m1\u001b[m\u001b[1;30;43m2\u001b[m\u001b[1;30;43m3\u001b[m\u001b[1;30;43m-\u001b[m\u001b[1;30;43m4\u001b[m\u001b[1;30;43m5\u001b[m\u001b[1;30;43m6\u001b[m\u001b[1;30;43m7\u001b[m\u001b[1;30;43m.\u001b[m \u001b[1;30;43m:\u001b[m\u001b[1;30;43m)\u001b[m \u001b[1;30;43m¯\u001b[m\u001b[1;30;43m\\\u001b[m\u001b[1;30;43m_\u001b[m\u001b[1;30;43m(\u001b[m\u001b[1;30;43mツ\u001b[m\u001b[1;30;43m)\u001b[m\u001b[1;30;43m_\u001b[m\u001b[1;30;43m/\u001b[m\u001b[1;30;43m¯\u001b[m\n"
     ]
    }
   ],
   "source": [
    "# \\S means NOT \\s (similar for others)\n",
    "reg(r\"\\S\", s1)"
   ]
  },
  {
   "cell_type": "code",
   "execution_count": 31,
   "id": "51216a97-db8d-4bf6-bbb0-5dccd0699f9a",
   "metadata": {},
   "outputs": [
    {
     "name": "stdout",
     "output_type": "stream",
     "text": [
      "\u001b[1;30;43mA\u001b[m\u001b[1;30;43m \u001b[m\u001b[1;30;43mD\u001b[m\u001b[1;30;43mA\u001b[m\u001b[1;30;43mG\u001b[m\u001b[1;30;43m \u001b[m\u001b[1;30;43mi\u001b[m\u001b[1;30;43ms\u001b[m\u001b[1;30;43m \u001b[m\u001b[1;30;43ma\u001b[m\u001b[1;30;43m \u001b[m\u001b[1;30;43md\u001b[m\u001b[1;30;43mi\u001b[m\u001b[1;30;43mr\u001b[m\u001b[1;30;43me\u001b[m\u001b[1;30;43mc\u001b[m\u001b[1;30;43mt\u001b[m\u001b[1;30;43me\u001b[m\u001b[1;30;43md\u001b[m\u001b[1;30;43m \u001b[m\u001b[1;30;43mg\u001b[m\u001b[1;30;43mr\u001b[m\u001b[1;30;43ma\u001b[m\u001b[1;30;43mp\u001b[m\u001b[1;30;43mh\u001b[m\u001b[1;30;43m \u001b[m\u001b[1;30;43mw\u001b[m\u001b[1;30;43mi\u001b[m\u001b[1;30;43mt\u001b[m\u001b[1;30;43mh\u001b[m\u001b[1;30;43mo\u001b[m\u001b[1;30;43mu\u001b[m\u001b[1;30;43mt\u001b[m\u001b[1;30;43m \u001b[m\u001b[1;30;43mc\u001b[m\u001b[1;30;43my\u001b[m\u001b[1;30;43mc\u001b[m\u001b[1;30;43ml\u001b[m\u001b[1;30;43me\u001b[m\u001b[1;30;43ms\u001b[m\u001b[1;30;43m.\u001b[m\u001b[1;30;43m \u001b[m\u001b[1;30;43mA\u001b[m\u001b[1;30;43m \u001b[m\u001b[1;30;43mt\u001b[m\u001b[1;30;43mr\u001b[m\u001b[1;30;43me\u001b[m\u001b[1;30;43me\u001b[m\u001b[1;30;43m \u001b[m\u001b[1;30;43mi\u001b[m\u001b[1;30;43ms\u001b[m\u001b[1;30;43m \u001b[m\u001b[1;30;43ma\u001b[m\u001b[1;30;43m \u001b[m\u001b[1;30;43mD\u001b[m\u001b[1;30;43mA\u001b[m\u001b[1;30;43mG\u001b[m\u001b[1;30;43m \u001b[m\u001b[1;30;43mw\u001b[m\u001b[1;30;43mh\u001b[m\u001b[1;30;43me\u001b[m\u001b[1;30;43mr\u001b[m\u001b[1;30;43me\u001b[m\u001b[1;30;43m \u001b[m\u001b[1;30;43me\u001b[m\u001b[1;30;43mv\u001b[m\u001b[1;30;43me\u001b[m\u001b[1;30;43mr\u001b[m\u001b[1;30;43my\u001b[m\u001b[1;30;43m \u001b[m\u001b[1;30;43mn\u001b[m\u001b[1;30;43mo\u001b[m\u001b[1;30;43md\u001b[m\u001b[1;30;43me\u001b[m\u001b[1;30;43m \u001b[m\u001b[1;30;43mh\u001b[m\u001b[1;30;43ma\u001b[m\u001b[1;30;43ms\u001b[m\u001b[1;30;43m \u001b[m\u001b[1;30;43mo\u001b[m\u001b[1;30;43mn\u001b[m\u001b[1;30;43me\u001b[m\u001b[1;30;43m \u001b[m\u001b[1;30;43mp\u001b[m\u001b[1;30;43ma\u001b[m\u001b[1;30;43mr\u001b[m\u001b[1;30;43me\u001b[m\u001b[1;30;43mn\u001b[m\u001b[1;30;43mt\u001b[m\u001b[1;30;43m \u001b[m\u001b[1;30;43m(\u001b[m\u001b[1;30;43me\u001b[m\u001b[1;30;43mx\u001b[m\u001b[1;30;43mc\u001b[m\u001b[1;30;43me\u001b[m\u001b[1;30;43mp\u001b[m\u001b[1;30;43mt\u001b[m\u001b[1;30;43m \u001b[m\u001b[1;30;43mt\u001b[m\u001b[1;30;43mh\u001b[m\u001b[1;30;43me\u001b[m\u001b[1;30;43m \u001b[m\u001b[1;30;43mr\u001b[m\u001b[1;30;43mo\u001b[m\u001b[1;30;43mo\u001b[m\u001b[1;30;43mt\u001b[m\u001b[1;30;43m,\u001b[m\u001b[1;30;43m \u001b[m\u001b[1;30;43mw\u001b[m\u001b[1;30;43mh\u001b[m\u001b[1;30;43mi\u001b[m\u001b[1;30;43mc\u001b[m\u001b[1;30;43mh\u001b[m\u001b[1;30;43m \u001b[m\u001b[1;30;43mh\u001b[m\u001b[1;30;43ma\u001b[m\u001b[1;30;43ms\u001b[m\u001b[1;30;43m \u001b[m\u001b[1;30;43mn\u001b[m\u001b[1;30;43mo\u001b[m\u001b[1;30;43mn\u001b[m\u001b[1;30;43me\u001b[m\u001b[1;30;43m)\u001b[m\u001b[1;30;43m.\u001b[m\u001b[1;30;43m \u001b[m\u001b[1;30;43mT\u001b[m\u001b[1;30;43mo\u001b[m\u001b[1;30;43m \u001b[m\u001b[1;30;43ml\u001b[m\u001b[1;30;43me\u001b[m\u001b[1;30;43ma\u001b[m\u001b[1;30;43mr\u001b[m\u001b[1;30;43mn\u001b[m\u001b[1;30;43m \u001b[m\u001b[1;30;43mm\u001b[m\u001b[1;30;43mo\u001b[m\u001b[1;30;43mr\u001b[m\u001b[1;30;43me\u001b[m\u001b[1;30;43m,\u001b[m\u001b[1;30;43m \u001b[m\u001b[1;30;43mv\u001b[m\u001b[1;30;43mi\u001b[m\u001b[1;30;43ms\u001b[m\u001b[1;30;43mi\u001b[m\u001b[1;30;43mt\u001b[m\u001b[1;30;43m \u001b[m\u001b[1;30;43mw\u001b[m\u001b[1;30;43mw\u001b[m\u001b[1;30;43mw\u001b[m\u001b[1;30;43m.\u001b[m\u001b[1;30;43me\u001b[m\u001b[1;30;43mx\u001b[m\u001b[1;30;43ma\u001b[m\u001b[1;30;43mm\u001b[m\u001b[1;30;43mp\u001b[m\u001b[1;30;43ml\u001b[m\u001b[1;30;43me\u001b[m\u001b[1;30;43m.\u001b[m\u001b[1;30;43mc\u001b[m\u001b[1;30;43mo\u001b[m\u001b[1;30;43mm\u001b[m\u001b[1;30;43m \u001b[m\u001b[1;30;43mo\u001b[m\u001b[1;30;43mr\u001b[m\u001b[1;30;43m \u001b[m\u001b[1;30;43mc\u001b[m\u001b[1;30;43ma\u001b[m\u001b[1;30;43ml\u001b[m\u001b[1;30;43ml\u001b[m\u001b[1;30;43m \u001b[m\u001b[1;30;43m1\u001b[m\u001b[1;30;43m-\u001b[m\u001b[1;30;43m6\u001b[m\u001b[1;30;43m0\u001b[m\u001b[1;30;43m8\u001b[m\u001b[1;30;43m-\u001b[m\u001b[1;30;43m1\u001b[m\u001b[1;30;43m2\u001b[m\u001b[1;30;43m3\u001b[m\u001b[1;30;43m-\u001b[m\u001b[1;30;43m4\u001b[m\u001b[1;30;43m5\u001b[m\u001b[1;30;43m6\u001b[m\u001b[1;30;43m7\u001b[m\u001b[1;30;43m.\u001b[m\u001b[1;30;43m \u001b[m\u001b[1;30;43m:\u001b[m\u001b[1;30;43m)\u001b[m\u001b[1;30;43m \u001b[m\u001b[1;30;43m¯\u001b[m\u001b[1;30;43m\\\u001b[m\u001b[1;30;43m_\u001b[m\u001b[1;30;43m(\u001b[m\u001b[1;30;43mツ\u001b[m\u001b[1;30;43m)\u001b[m\u001b[1;30;43m_\u001b[m\u001b[1;30;43m/\u001b[m\u001b[1;30;43m¯\u001b[m\n"
     ]
    }
   ],
   "source": [
    "reg(r\".\", s1)"
   ]
  },
  {
   "cell_type": "code",
   "execution_count": 32,
   "id": "382732ec-dec2-49ed-8854-8570d8c3f149",
   "metadata": {},
   "outputs": [
    {
     "name": "stdout",
     "output_type": "stream",
     "text": [
      "A DAG is a directed graph without cycles\u001b[1;30;43m.\u001b[m A tree is a DAG where every node has one parent (except the root, which has none)\u001b[1;30;43m.\u001b[m To learn more, visit www\u001b[1;30;43m.\u001b[mexample\u001b[1;30;43m.\u001b[mcom or call 1-608-123-4567\u001b[1;30;43m.\u001b[m :) ¯\\_(ツ)_/¯\n"
     ]
    }
   ],
   "source": [
    "reg(r\"\\.\", s1)"
   ]
  },
  {
   "cell_type": "code",
   "execution_count": 33,
   "id": "55b8e3ab-5af9-43ab-a027-f063b8c64ce1",
   "metadata": {},
   "outputs": [
    {
     "name": "stdout",
     "output_type": "stream",
     "text": [
      "A \u001b[1;30;43mDAG\u001b[m is a directed \u001b[1;30;43mgraph\u001b[m without cycles. A \u001b[1;30;43mtree\u001b[m is a \u001b[1;30;43mDAG\u001b[m where every \u001b[1;30;43mnode\u001b[m has one \u001b[1;30;43mparent\u001b[m (except the root, which has none). To learn more, visit www.example.com or call 1-608-123-4567. :) ¯\\_(ツ)_/¯\n"
     ]
    }
   ],
   "source": [
    "# | means OR\n",
    "# find words related to graphs\n",
    "reg(r\"tree|graph|DAG|node|child|parent\", s1)"
   ]
  },
  {
   "cell_type": "markdown",
   "id": "7dc24ebb-1749-4dc7-b386-d4e10e938068",
   "metadata": {},
   "source": [
    "# REPETITION"
   ]
  },
  {
   "cell_type": "code",
   "execution_count": 34,
   "id": "4ae0d2cd-fc32-4be6-9065-3e3049cd9227",
   "metadata": {},
   "outputs": [
    {
     "name": "stdout",
     "output_type": "stream",
     "text": [
      "A DAG is a directed graph without cycles. A tree is a DAG where every node has one parent (except the root, which has none). To learn more, visit www.example.com or call 1-608-123-4567. :) ¯\\_(ツ)_/¯\n"
     ]
    }
   ],
   "source": [
    "print(s1)"
   ]
  },
  {
   "cell_type": "code",
   "execution_count": 35,
   "id": "7a7fb583-c198-494a-abdb-f7ca668798a5",
   "metadata": {},
   "outputs": [
    {
     "name": "stdout",
     "output_type": "stream",
     "text": [
      "A DAG is a directed graph without cycles. A tree is a DAG where every node has one parent (except the root, which has none). To learn more, visit \u001b[1;30;43mwww\u001b[m.example.com or call 1-608-123-4567. :) ¯\\_(ツ)_/¯\n"
     ]
    }
   ],
   "source": [
    "reg(\"www\", s1)"
   ]
  },
  {
   "cell_type": "code",
   "execution_count": 36,
   "id": "7e20ed80-de3f-45a6-be38-e21e9c6ffd66",
   "metadata": {},
   "outputs": [
    {
     "name": "stdout",
     "output_type": "stream",
     "text": [
      "A DAG is a directed graph without cycles. A tree is a DAG where every node has one parent (except the root, which has none). To learn more, visit \u001b[1;30;43mwww\u001b[m.example.com or call 1-608-123-4567. :) ¯\\_(ツ)_/¯\n"
     ]
    }
   ],
   "source": [
    "reg(\"w{3}\", s1)"
   ]
  },
  {
   "cell_type": "code",
   "execution_count": 37,
   "id": "c48d3d94-19b7-416e-b079-3f78bd3ce834",
   "metadata": {},
   "outputs": [
    {
     "name": "stdout",
     "output_type": "stream",
     "text": [
      "A DAG is a directed graph without cycles. A tree is a DAG where every node has one parent (except the root, which has none). To learn more, visit \u001b[1;30;43mww\u001b[mw.example.com or call 1-608-123-4567. :) ¯\\_(ツ)_/¯\n"
     ]
    }
   ],
   "source": [
    "reg(\"w{2}\", s1) # lesson: matches cannot overlap"
   ]
  },
  {
   "cell_type": "code",
   "execution_count": null,
   "id": "2dc62099-c659-484a-965f-8421d7de36c1",
   "metadata": {},
   "outputs": [],
   "source": [
    "# * => 0 or more (greedy: match as many characters as possible)\n",
    "# + => 1 or more (greedy: match as many characters as possible)\n",
    "# ? => 0 or 1\n",
    "# *? => 0 or more (non-greedy: match as few characters as possible)\n",
    "# +? => 1 or more (non-greedy: match as few characters as possible)"
   ]
  },
  {
   "cell_type": "code",
   "execution_count": 39,
   "id": "11f75d92-f215-47f4-8804-5e5727d3be55",
   "metadata": {},
   "outputs": [
    {
     "name": "stdout",
     "output_type": "stream",
     "text": [
      "\u001b[1;30;43mA DAG is a directed graph without cycles. A tree is a DAG where every node has one parent (except the root, which has none). To learn more, visit www.example.com or call 1-608-123-4567. :) ¯\\_(ツ)_/¯\u001b[m\u001b[1;30;43m\u001b[m\n"
     ]
    }
   ],
   "source": [
    "# find everything inside of parentheses\n",
    "# attempt 1\n",
    "reg(r\"(.*)\", s1)"
   ]
  },
  {
   "cell_type": "code",
   "execution_count": 43,
   "id": "42155b54-d27b-4418-81a1-c005c508d738",
   "metadata": {},
   "outputs": [
    {
     "name": "stdout",
     "output_type": "stream",
     "text": [
      "A DAG is a directed graph without cycles. A tree is a DAG where every node has one parent \u001b[1;30;43m(except the root, which has none)\u001b[m. To learn more, visit www.example.com or call 1-608-123-4567. :) ¯\\_\u001b[1;30;43m(ツ)\u001b[m_/¯\n"
     ]
    }
   ],
   "source": [
    "# attempt 3\n",
    "reg(r\"\\(.*?\\)\", s1)"
   ]
  },
  {
   "cell_type": "code",
   "execution_count": null,
   "id": "92b0717a-3216-4971-b32c-40371e1bc852",
   "metadata": {},
   "outputs": [],
   "source": [
    "# anchor characters:\n",
    "# ^ => start of string\n",
    "# $ => end of string"
   ]
  },
  {
   "cell_type": "code",
   "execution_count": 46,
   "id": "8ad3b5c6-b1a1-4030-8448-e40bf03141ce",
   "metadata": {},
   "outputs": [
    {
     "name": "stdout",
     "output_type": "stream",
     "text": [
      "\u001b[1;30;43mA DAG is a directed graph without cycles.\u001b[m A tree is a DAG where every node has one parent (except the root, which has none). To learn more, visit www.example.com or call 1-608-123-4567. :) ¯\\_(ツ)_/¯\n"
     ]
    }
   ],
   "source": [
    "# find everything in the first sentence\n",
    "reg(r\"^.*?\\.\", s1)"
   ]
  },
  {
   "cell_type": "code",
   "execution_count": 50,
   "id": "cfa8353e-4402-4f64-b3f8-35e73b2d7a68",
   "metadata": {},
   "outputs": [
    {
     "name": "stdout",
     "output_type": "stream",
     "text": [
      "\u001b[1;30;43mA DAG is a directed graph without cycles. A tree is a DAG where every node has one parent (except the root, which has none).\u001b[m To learn more, visit www.example.com or call 1-608-123-4567. :) ¯\\_(ツ)_/¯\n"
     ]
    }
   ],
   "source": [
    "# find everything in the first TWO sentences\n",
    "reg(r\"^(.*?\\.){2}\", s1)"
   ]
  },
  {
   "cell_type": "code",
   "execution_count": 51,
   "id": "f35a6c81-47b5-48eb-8357-888fe832f85b",
   "metadata": {},
   "outputs": [
    {
     "name": "stdout",
     "output_type": "stream",
     "text": [
      "A DAG is a directed graph without cycles. A tree is a DAG where every node has one parent (except the root, which has none). To learn more, visit www.example.com or call 1-608-123-4567. :) \u001b[1;30;43m¯\\_(ツ)_/¯\u001b[m\n"
     ]
    }
   ],
   "source": [
    "# find last \"word\" in the sentence\n",
    "reg(r\"\\S+$\", s1)"
   ]
  },
  {
   "cell_type": "code",
   "execution_count": 53,
   "id": "88a01725-790c-4f21-b334-e3d31bed24b5",
   "metadata": {},
   "outputs": [
    {
     "name": "stdout",
     "output_type": "stream",
     "text": [
      "\u001b[1;30;43m1-608-123-4567\u001b[m\n",
      "a-bcd-efg-hijg (not a phone number)\n",
      "1-608-123-456 (not a phone number)\n",
      "608-123-4567\n",
      "123-4567\n",
      "1-123-4567 (not a phone number)\n",
      "\n"
     ]
    }
   ],
   "source": [
    "reg(r\"\\d-\\d{3}-\\d{3}-\\d{4}\", s2)"
   ]
  },
  {
   "cell_type": "code",
   "execution_count": 54,
   "id": "ea8ce0be-98f8-4f9c-bcc0-1d8a0bb183a8",
   "metadata": {},
   "outputs": [
    {
     "name": "stdout",
     "output_type": "stream",
     "text": [
      "\u001b[1;30;43m1-608-123-4567\u001b[m\n",
      "a-bcd-efg-hijg (not a phone number)\n",
      "1-608-123-456 (not a phone number)\n",
      "\u001b[1;30;43m608-123-4567\u001b[m\n",
      "123-4567\n",
      "1-123-4567 (not a phone number)\n",
      "\n"
     ]
    }
   ],
   "source": [
    "reg(r\"(\\d-)?\\d{3}-\\d{3}-\\d{4}\", s2)"
   ]
  },
  {
   "cell_type": "code",
   "execution_count": 55,
   "id": "5befb23a-848f-44d4-aaac-6b21ac0bbf43",
   "metadata": {},
   "outputs": [
    {
     "name": "stdout",
     "output_type": "stream",
     "text": [
      "\u001b[1;30;43m1-608-123-4567\u001b[m\n",
      "a-bcd-efg-hijg (not a phone number)\n",
      "1-608-123-456 (not a phone number)\n",
      "\u001b[1;30;43m608-123-4567\u001b[m\n",
      "\u001b[1;30;43m123-4567\u001b[m\n",
      "\u001b[1;30;43m1-123-4567\u001b[m (not a phone number)\n",
      "\n"
     ]
    }
   ],
   "source": [
    "reg(r\"(\\d-)?(\\d{3}-)?\\d{3}-\\d{4}\", s2)"
   ]
  },
  {
   "cell_type": "code",
   "execution_count": 58,
   "id": "34164fd1-a422-45a0-8e11-54199ca77120",
   "metadata": {},
   "outputs": [
    {
     "name": "stdout",
     "output_type": "stream",
     "text": [
      "\u001b[1;30;43m1-608-123-4567\u001b[m\n",
      "a-bcd-efg-hijg (not a phone number)\n",
      "1-608-123-456 (not a phone number)\n",
      "\u001b[1;30;43m608-123-4567\u001b[m\n",
      "\u001b[1;30;43m123-4567\u001b[m\n",
      "1-\u001b[1;30;43m123-4567\u001b[m (not a phone number)\n",
      "\n"
     ]
    }
   ],
   "source": [
    "# this is good enough for 320 quizzes/tests\n",
    "reg(r\"((\\d-)?\\d{3}-)?\\d{3}-\\d{4}\", s2)"
   ]
  },
  {
   "cell_type": "code",
   "execution_count": 59,
   "id": "694a585b-b5a7-4a6f-a0f1-60521f7dfc47",
   "metadata": {},
   "outputs": [
    {
     "name": "stdout",
     "output_type": "stream",
     "text": [
      "\u001b[1;30;43m1-608-123-4567\u001b[m\n",
      "a-bcd-efg-hijg (not a phone number)\n",
      "1-608-123-456 (not a phone number)\n",
      "\u001b[1;30;43m608-123-4567\u001b[m\n",
      "\u001b[1;30;43m123-4567\u001b[m\n",
      "1-123-4567 (not a phone number)\n",
      "\n"
     ]
    }
   ],
   "source": [
    "# BONUS: negative lookbehind (I won't test this)\n",
    "reg(r\"(?<!\\d\\-)((\\d-)?\\d{3}-)?\\d{3}-\\d{4}\", s2)"
   ]
  }
 ],
 "metadata": {
  "kernelspec": {
   "display_name": "Python 3 (ipykernel)",
   "language": "python",
   "name": "python3"
  },
  "language_info": {
   "codemirror_mode": {
    "name": "ipython",
    "version": 3
   },
   "file_extension": ".py",
   "mimetype": "text/x-python",
   "name": "python",
   "nbconvert_exporter": "python",
   "pygments_lexer": "ipython3",
   "version": "3.10.4"
  }
 },
 "nbformat": 4,
 "nbformat_minor": 5
}
