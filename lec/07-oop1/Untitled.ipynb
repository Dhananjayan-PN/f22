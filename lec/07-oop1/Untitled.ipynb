{
 "cells": [
  {
   "cell_type": "code",
   "execution_count": 3,
   "id": "2632d6c5-c302-49ca-aaf8-3c1810e5d4ed",
   "metadata": {},
   "outputs": [
    {
     "ename": "NameError",
     "evalue": "name 'cat' is not defined",
     "output_type": "error",
     "traceback": [
      "\u001b[0;31m---------------------------------------------------------------------------\u001b[0m",
      "\u001b[0;31mNameError\u001b[0m                                 Traceback (most recent call last)",
      "Input \u001b[0;32mIn [3]\u001b[0m, in \u001b[0;36m<cell line: 22>\u001b[0;34m()\u001b[0m\n\u001b[1;32m     19\u001b[0m dog1 \u001b[38;5;241m=\u001b[39m Dog()\n\u001b[1;32m     20\u001b[0m \u001b[38;5;28mtype\u001b[39m(dog1)\u001b[38;5;241m.\u001b[39minit(dog1, \u001b[38;5;124m\"\u001b[39m\u001b[38;5;124mFido\u001b[39m\u001b[38;5;124m\"\u001b[39m, \u001b[38;5;241m1\u001b[39m)\n\u001b[0;32m---> 22\u001b[0m pets \u001b[38;5;241m=\u001b[39m [dog1, \u001b[43mcat\u001b[49m] \u001b[38;5;66;03m# what if I add a cat?\u001b[39;00m\n\u001b[1;32m     23\u001b[0m \u001b[38;5;28;01mfor\u001b[39;00m pet \u001b[38;5;129;01min\u001b[39;00m pets:\n\u001b[1;32m     24\u001b[0m     Dog\u001b[38;5;241m.\u001b[39mspeak(pet) \u001b[38;5;66;03m# v0\u001b[39;00m\n",
      "\u001b[0;31mNameError\u001b[0m: name 'cat' is not defined"
     ]
    }
   ],
   "source": [
    "class Dog:\n",
    "    def init(dog, name, age):\n",
    "        dog.name = name\n",
    "        dog.age = age\n",
    "    \n",
    "    def speak(dog):\n",
    "        msg = \"bark\"\n",
    "        if dog.age < 2:\n",
    "            msg = \"bark! \"*5\n",
    "        elif dog.age > 10:\n",
    "            msg = \"grrrr\"\n",
    "\n",
    "        print(dog.name + \": \" + msg)\n",
    "\n",
    "class Cat:\n",
    "    def speak(cat):\n",
    "        print(\"meow\")\n",
    "\n",
    "dog1 = Dog()\n",
    "type(dog1).init(dog1, \"Fido\", 1)\n",
    "\n",
    "pets = [dog1, cat] # what if I add a cat?\n",
    "for pet in pets:\n",
    "    Dog.speak(pet) # v0\n",
    "    # v1: big conditional\n",
    "    type(pet).speak(pet) # v2: type-based dispatch (show we can derive from above example)\n",
    "    pet.speak() # v3: shortcut\n",
    "    # animal.speak(arg2, arg3, ...)"
   ]
  },
  {
   "cell_type": "code",
   "execution_count": null,
   "id": "9d1f7957-4c38-4654-ba25-c9461a156767",
   "metadata": {},
   "outputs": [],
   "source": []
  }
 ],
 "metadata": {
  "kernelspec": {
   "display_name": "Python 3 (ipykernel)",
   "language": "python",
   "name": "python3"
  },
  "language_info": {
   "codemirror_mode": {
    "name": "ipython",
    "version": 3
   },
   "file_extension": ".py",
   "mimetype": "text/x-python",
   "name": "python",
   "nbconvert_exporter": "python",
   "pygments_lexer": "ipython3",
   "version": "3.10.4"
  }
 },
 "nbformat": 4,
 "nbformat_minor": 5
}
