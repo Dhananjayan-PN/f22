{
 "cells": [
  {
   "cell_type": "code",
   "execution_count": 14,
   "id": "3df38494-eadc-4b9c-9876-c484075e0215",
   "metadata": {},
   "outputs": [
    {
     "name": "stdout",
     "output_type": "stream",
     "text": [
      "Sam: bark\n",
      "meow\n"
     ]
    }
   ],
   "source": [
    "class Dog:\n",
    "    def speak(self):\n",
    "        if self.age < 3: # CRASH HERE\n",
    "            print(f\"{self.name}: bark! bark! bark!\")\n",
    "        else:\n",
    "            print(f\"{self.name}: bark\")\n",
    "\n",
    "    def __init__(self, name, how_old):    # the constructor for my class\n",
    "        self.name = name\n",
    "        self.age = how_old\n",
    "\n",
    "class Cat:\n",
    "    def speak(self):\n",
    "        print(\"meow\")\n",
    "    \n",
    "#dog1 = Dog()                 # instantiation (creating an object)\n",
    "#Dog.init(dog1, \"Fido\", 2)    # initialization (adding attributes to an object)\n",
    "\n",
    "dog2 = Dog(\"Sam\", 5)   # shorthand with __init__\n",
    "cat = Cat()\n",
    "\n",
    "pets = [dog2, cat]\n",
    "for pet in pets:\n",
    "    # type-based dispatch\n",
    "\n",
    "    # v1 (pretty horrible)\n",
    "    # if type(pet) == Dog:\n",
    "    #     Dog.speak(pet)\n",
    "    # elif type(pet) == Cat:\n",
    "    #     Cat.speak(pet)\n",
    "        \n",
    "    # v2 (better)\n",
    "    #type(pet).speak(pet)\n",
    "    \n",
    "    # v3 (best, shorthand for v2)\n",
    "    #pet.speak(\"hi\") # => Python reads this as type(pet).speak(pet, \"hi\")\n",
    "    pet.speak() # => Python reads this as type(pet).speak(pet)"
   ]
  },
  {
   "cell_type": "code",
   "execution_count": 7,
   "id": "58cf2775-75ad-404d-9201-c42300c9af9c",
   "metadata": {},
   "outputs": [
    {
     "data": {
      "text/plain": [
       "True"
      ]
     },
     "execution_count": 7,
     "metadata": {},
     "output_type": "execute_result"
    }
   ],
   "source": [
    "type(dog1) == Dog"
   ]
  }
 ],
 "metadata": {
  "kernelspec": {
   "display_name": "Python 3 (ipykernel)",
   "language": "python",
   "name": "python3"
  },
  "language_info": {
   "codemirror_mode": {
    "name": "ipython",
    "version": 3
   },
   "file_extension": ".py",
   "mimetype": "text/x-python",
   "name": "python",
   "nbconvert_exporter": "python",
   "pygments_lexer": "ipython3",
   "version": "3.10.4"
  }
 },
 "nbformat": 4,
 "nbformat_minor": 5
}
