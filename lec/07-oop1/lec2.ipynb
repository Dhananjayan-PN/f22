{
 "cells": [
  {
   "cell_type": "code",
   "execution_count": 6,
   "id": "3df38494-eadc-4b9c-9876-c484075e0215",
   "metadata": {},
   "outputs": [
    {
     "name": "stdout",
     "output_type": "stream",
     "text": [
      "Fido: bark! bark! bark!\n",
      "Sam: bark\n"
     ]
    }
   ],
   "source": [
    "class Dog:\n",
    "    pass\n",
    "\n",
    "def speak(d):\n",
    "    if d.age < 3: # CRASH HERE\n",
    "        print(f\"{d.name}: bark! bark! bark!\")\n",
    "    else:\n",
    "        print(f\"{d.name}: bark\")\n",
    "\n",
    "dog1 = Dog()\n",
    "dog1.name = \"Fido\"\n",
    "dog1.age = 2\n",
    "\n",
    "dog2 = Dog()\n",
    "dog2.name = \"Sam\"\n",
    "dog2.age = 5 # BUG HERE\n",
    "\n",
    "speak(dog1)\n",
    "speak(dog2)"
   ]
  },
  {
   "cell_type": "code",
   "execution_count": null,
   "id": "58cf2775-75ad-404d-9201-c42300c9af9c",
   "metadata": {},
   "outputs": [],
   "source": []
  }
 ],
 "metadata": {
  "kernelspec": {
   "display_name": "Python 3 (ipykernel)",
   "language": "python",
   "name": "python3"
  },
  "language_info": {
   "codemirror_mode": {
    "name": "ipython",
    "version": 3
   },
   "file_extension": ".py",
   "mimetype": "text/x-python",
   "name": "python",
   "nbconvert_exporter": "python",
   "pygments_lexer": "ipython3",
   "version": "3.10.4"
  }
 },
 "nbformat": 4,
 "nbformat_minor": 5
}
