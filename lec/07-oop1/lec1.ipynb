{
 "cells": [
  {
   "cell_type": "code",
   "execution_count": 19,
   "id": "63f10040-7e44-4f44-8f3c-a1b2f2210122",
   "metadata": {},
   "outputs": [
    {
     "name": "stdout",
     "output_type": "stream",
     "text": [
      "Fido: bark! bark! bark!\n",
      "meow\n"
     ]
    }
   ],
   "source": [
    "class Dog:\n",
    "    def __init__(self, name, how_old): # vocab: \"constructor\" for the class\n",
    "        self.name = name\n",
    "        self.age = how_old\n",
    "\n",
    "    def speak(self):\n",
    "        if self.age < 3: # CRASH\n",
    "            print(f\"{self.name}: bark! bark! bark!\")\n",
    "        else:\n",
    "            print(f\"{self.name}: bark\")\n",
    "\n",
    "class Cat:\n",
    "    def speak(self):\n",
    "        print(\"meow\")\n",
    "\n",
    "dog1 = Dog(\"Fido\", 2) # automatically calls __init__ for me after creating the object\n",
    "\n",
    "# dog2 = Dog()              # instantiation (creating the object)\n",
    "# Dog.init(dog2, \"Sam\", 5)  # initialization (setting attributes)\n",
    "# cat = Cat()\n",
    "\n",
    "pets = [dog1, cat]\n",
    "for pet in pets:\n",
    "    # \"type-based dispatch\"\n",
    "    \n",
    "    # v1 (not good)\n",
    "    # if type(pet) == Dog:\n",
    "    #     Dog.speak(pet)\n",
    "    # elif type(pet) == Cat:\n",
    "    #     Cat.speak(pet)\n",
    "        \n",
    "    # v2 (better)\n",
    "    #type(pet).speak(pet)\n",
    "    \n",
    "    # v3 (real way people do it)\n",
    "    # Python just translates this back to v2\n",
    "    #pet.speak(\"abc\") # => type(pet).speak(pet, \"abc\")\n",
    "    pet.speak()"
   ]
  },
  {
   "cell_type": "code",
   "execution_count": 9,
   "id": "adfafe38-7465-4485-9bac-a21c4d9e8456",
   "metadata": {},
   "outputs": [
    {
     "data": {
      "text/plain": [
       "True"
      ]
     },
     "execution_count": 9,
     "metadata": {},
     "output_type": "execute_result"
    }
   ],
   "source": [
    "type(dog1) == Dog\n",
    "isinstance(dog1, Dog)"
   ]
  },
  {
   "cell_type": "code",
   "execution_count": null,
   "id": "bb0fd54c-e7d5-4445-aa10-7ff505980c10",
   "metadata": {},
   "outputs": [],
   "source": []
  }
 ],
 "metadata": {
  "kernelspec": {
   "display_name": "Python 3 (ipykernel)",
   "language": "python",
   "name": "python3"
  },
  "language_info": {
   "codemirror_mode": {
    "name": "ipython",
    "version": 3
   },
   "file_extension": ".py",
   "mimetype": "text/x-python",
   "name": "python",
   "nbconvert_exporter": "python",
   "pygments_lexer": "ipython3",
   "version": "3.10.4"
  }
 },
 "nbformat": 4,
 "nbformat_minor": 5
}
