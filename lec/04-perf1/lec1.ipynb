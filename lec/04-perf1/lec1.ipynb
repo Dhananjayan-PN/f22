{
 "cells": [
  {
   "cell_type": "code",
   "execution_count": null,
   "id": "54a53ab9-2e82-49ae-89c4-8676b9e1f0be",
   "metadata": {},
   "outputs": [],
   "source": [
    "#import subprocess\n",
    "#subprocess.check_output(...)"
   ]
  },
  {
   "cell_type": "code",
   "execution_count": 3,
   "id": "c18284f6-083a-46e6-81d6-1623699c1480",
   "metadata": {},
   "outputs": [],
   "source": [
    "#from subprocess import *\n",
    "\n",
    "from subprocess import check_output\n",
    "output = check_output(\"pwd\")"
   ]
  },
  {
   "cell_type": "code",
   "execution_count": 5,
   "id": "d2c5090a-d448-4f35-959d-38f44ac4cf21",
   "metadata": {},
   "outputs": [
    {
     "data": {
      "text/plain": [
       "bytes"
      ]
     },
     "execution_count": 5,
     "metadata": {},
     "output_type": "execute_result"
    }
   ],
   "source": [
    "type(output)"
   ]
  },
  {
   "cell_type": "code",
   "execution_count": 6,
   "id": "70e41d0b-a12a-4e35-be97-083aa91af28f",
   "metadata": {},
   "outputs": [
    {
     "data": {
      "text/plain": [
       "47"
      ]
     },
     "execution_count": 6,
     "metadata": {},
     "output_type": "execute_result"
    }
   ],
   "source": [
    "#seq[0]\n",
    "output[0]"
   ]
  },
  {
   "cell_type": "code",
   "execution_count": 7,
   "id": "d86b28f4-249c-4add-81d8-88882ccd3e50",
   "metadata": {},
   "outputs": [
    {
     "data": {
      "text/plain": [
       "b'/home/trh/f22/lec/04\\n'"
      ]
     },
     "execution_count": 7,
     "metadata": {},
     "output_type": "execute_result"
    }
   ],
   "source": [
    "output"
   ]
  },
  {
   "cell_type": "code",
   "execution_count": 9,
   "id": "4f0788a2-ca88-4dbb-b284-24a79deab8a8",
   "metadata": {},
   "outputs": [
    {
     "data": {
      "text/plain": [
       "'\\x07Ç?_Á\\x07ÈÊÇ\\x07Ã\\x16\\x16\\x07%Á[\\x07\\x90\\x94\\x8e'"
      ]
     },
     "execution_count": 9,
     "metadata": {},
     "output_type": "execute_result"
    }
   ],
   "source": [
    "str(output, \"cp273\")"
   ]
  },
  {
   "cell_type": "code",
   "execution_count": 11,
   "id": "f6cdc0c3-65a6-462e-a21f-84d0f82ac9a9",
   "metadata": {},
   "outputs": [
    {
     "data": {
      "text/plain": [
       "'/home/trh/f22/lec/04\\n'"
      ]
     },
     "execution_count": 11,
     "metadata": {},
     "output_type": "execute_result"
    }
   ],
   "source": [
    "str_output = str(output, \"utf-8\")\n",
    "str_output"
   ]
  },
  {
   "cell_type": "code",
   "execution_count": 12,
   "id": "8d8bb61a-39ce-404b-81a1-992434ef26de",
   "metadata": {},
   "outputs": [
    {
     "data": {
      "text/plain": [
       "'/'"
      ]
     },
     "execution_count": 12,
     "metadata": {},
     "output_type": "execute_result"
    }
   ],
   "source": [
    "str_output[0]"
   ]
  },
  {
   "cell_type": "code",
   "execution_count": 13,
   "id": "27590458-53b4-4b8d-b7db-25ea54e304c3",
   "metadata": {},
   "outputs": [
    {
     "data": {
      "text/plain": [
       "'/home/trh/f22/lec/04'"
      ]
     },
     "execution_count": 13,
     "metadata": {},
     "output_type": "execute_result"
    }
   ],
   "source": [
    "str_output.strip()"
   ]
  },
  {
   "cell_type": "code",
   "execution_count": 15,
   "id": "680ef665-1a75-4158-ae6d-165f30d12300",
   "metadata": {},
   "outputs": [
    {
     "data": {
      "text/plain": [
       "'home'"
      ]
     },
     "execution_count": 15,
     "metadata": {},
     "output_type": "execute_result"
    }
   ],
   "source": [
    "str_output.split(\"/\")[1]"
   ]
  },
  {
   "cell_type": "code",
   "execution_count": 16,
   "id": "d1dcf882-947e-41a8-b6d0-0aa90e9cf51b",
   "metadata": {},
   "outputs": [
    {
     "data": {
      "text/plain": [
       "['', 'home', 'trh', 'f22', 'lec', '04']"
      ]
     },
     "execution_count": 16,
     "metadata": {},
     "output_type": "execute_result"
    }
   ],
   "source": [
    "str_output.strip().split(\"/\")"
   ]
  },
  {
   "cell_type": "code",
   "execution_count": 21,
   "id": "b865a24c-bf5f-4fbf-be5b-0b578df66df8",
   "metadata": {},
   "outputs": [
    {
     "ename": "FileNotFoundError",
     "evalue": "[Errno 2] No such file or directory: 'hahaha'",
     "output_type": "error",
     "traceback": [
      "\u001b[0;31m---------------------------------------------------------------------------\u001b[0m",
      "\u001b[0;31mFileNotFoundError\u001b[0m                         Traceback (most recent call last)",
      "Input \u001b[0;32mIn [21]\u001b[0m, in \u001b[0;36m<cell line: 1>\u001b[0;34m()\u001b[0m\n\u001b[0;32m----> 1\u001b[0m \u001b[43mcheck_output\u001b[49m\u001b[43m(\u001b[49m\u001b[38;5;124;43m\"\u001b[39;49m\u001b[38;5;124;43mhahaha\u001b[39;49m\u001b[38;5;124;43m\"\u001b[39;49m\u001b[43m)\u001b[49m\n",
      "File \u001b[0;32m/usr/lib/python3.10/subprocess.py:420\u001b[0m, in \u001b[0;36mcheck_output\u001b[0;34m(timeout, *popenargs, **kwargs)\u001b[0m\n\u001b[1;32m    417\u001b[0m         empty \u001b[38;5;241m=\u001b[39m \u001b[38;5;124mb\u001b[39m\u001b[38;5;124m'\u001b[39m\u001b[38;5;124m'\u001b[39m\n\u001b[1;32m    418\u001b[0m     kwargs[\u001b[38;5;124m'\u001b[39m\u001b[38;5;124minput\u001b[39m\u001b[38;5;124m'\u001b[39m] \u001b[38;5;241m=\u001b[39m empty\n\u001b[0;32m--> 420\u001b[0m \u001b[38;5;28;01mreturn\u001b[39;00m \u001b[43mrun\u001b[49m\u001b[43m(\u001b[49m\u001b[38;5;241;43m*\u001b[39;49m\u001b[43mpopenargs\u001b[49m\u001b[43m,\u001b[49m\u001b[43m \u001b[49m\u001b[43mstdout\u001b[49m\u001b[38;5;241;43m=\u001b[39;49m\u001b[43mPIPE\u001b[49m\u001b[43m,\u001b[49m\u001b[43m \u001b[49m\u001b[43mtimeout\u001b[49m\u001b[38;5;241;43m=\u001b[39;49m\u001b[43mtimeout\u001b[49m\u001b[43m,\u001b[49m\u001b[43m \u001b[49m\u001b[43mcheck\u001b[49m\u001b[38;5;241;43m=\u001b[39;49m\u001b[38;5;28;43;01mTrue\u001b[39;49;00m\u001b[43m,\u001b[49m\n\u001b[1;32m    421\u001b[0m \u001b[43m           \u001b[49m\u001b[38;5;241;43m*\u001b[39;49m\u001b[38;5;241;43m*\u001b[39;49m\u001b[43mkwargs\u001b[49m\u001b[43m)\u001b[49m\u001b[38;5;241m.\u001b[39mstdout\n",
      "File \u001b[0;32m/usr/lib/python3.10/subprocess.py:501\u001b[0m, in \u001b[0;36mrun\u001b[0;34m(input, capture_output, timeout, check, *popenargs, **kwargs)\u001b[0m\n\u001b[1;32m    498\u001b[0m     kwargs[\u001b[38;5;124m'\u001b[39m\u001b[38;5;124mstdout\u001b[39m\u001b[38;5;124m'\u001b[39m] \u001b[38;5;241m=\u001b[39m PIPE\n\u001b[1;32m    499\u001b[0m     kwargs[\u001b[38;5;124m'\u001b[39m\u001b[38;5;124mstderr\u001b[39m\u001b[38;5;124m'\u001b[39m] \u001b[38;5;241m=\u001b[39m PIPE\n\u001b[0;32m--> 501\u001b[0m \u001b[38;5;28;01mwith\u001b[39;00m \u001b[43mPopen\u001b[49m\u001b[43m(\u001b[49m\u001b[38;5;241;43m*\u001b[39;49m\u001b[43mpopenargs\u001b[49m\u001b[43m,\u001b[49m\u001b[43m \u001b[49m\u001b[38;5;241;43m*\u001b[39;49m\u001b[38;5;241;43m*\u001b[39;49m\u001b[43mkwargs\u001b[49m\u001b[43m)\u001b[49m \u001b[38;5;28;01mas\u001b[39;00m process:\n\u001b[1;32m    502\u001b[0m     \u001b[38;5;28;01mtry\u001b[39;00m:\n\u001b[1;32m    503\u001b[0m         stdout, stderr \u001b[38;5;241m=\u001b[39m process\u001b[38;5;241m.\u001b[39mcommunicate(\u001b[38;5;28minput\u001b[39m, timeout\u001b[38;5;241m=\u001b[39mtimeout)\n",
      "File \u001b[0;32m/usr/lib/python3.10/subprocess.py:966\u001b[0m, in \u001b[0;36mPopen.__init__\u001b[0;34m(self, args, bufsize, executable, stdin, stdout, stderr, preexec_fn, close_fds, shell, cwd, env, universal_newlines, startupinfo, creationflags, restore_signals, start_new_session, pass_fds, user, group, extra_groups, encoding, errors, text, umask, pipesize)\u001b[0m\n\u001b[1;32m    962\u001b[0m         \u001b[38;5;28;01mif\u001b[39;00m \u001b[38;5;28mself\u001b[39m\u001b[38;5;241m.\u001b[39mtext_mode:\n\u001b[1;32m    963\u001b[0m             \u001b[38;5;28mself\u001b[39m\u001b[38;5;241m.\u001b[39mstderr \u001b[38;5;241m=\u001b[39m io\u001b[38;5;241m.\u001b[39mTextIOWrapper(\u001b[38;5;28mself\u001b[39m\u001b[38;5;241m.\u001b[39mstderr,\n\u001b[1;32m    964\u001b[0m                     encoding\u001b[38;5;241m=\u001b[39mencoding, errors\u001b[38;5;241m=\u001b[39merrors)\n\u001b[0;32m--> 966\u001b[0m     \u001b[38;5;28;43mself\u001b[39;49m\u001b[38;5;241;43m.\u001b[39;49m\u001b[43m_execute_child\u001b[49m\u001b[43m(\u001b[49m\u001b[43margs\u001b[49m\u001b[43m,\u001b[49m\u001b[43m \u001b[49m\u001b[43mexecutable\u001b[49m\u001b[43m,\u001b[49m\u001b[43m \u001b[49m\u001b[43mpreexec_fn\u001b[49m\u001b[43m,\u001b[49m\u001b[43m \u001b[49m\u001b[43mclose_fds\u001b[49m\u001b[43m,\u001b[49m\n\u001b[1;32m    967\u001b[0m \u001b[43m                        \u001b[49m\u001b[43mpass_fds\u001b[49m\u001b[43m,\u001b[49m\u001b[43m \u001b[49m\u001b[43mcwd\u001b[49m\u001b[43m,\u001b[49m\u001b[43m \u001b[49m\u001b[43menv\u001b[49m\u001b[43m,\u001b[49m\n\u001b[1;32m    968\u001b[0m \u001b[43m                        \u001b[49m\u001b[43mstartupinfo\u001b[49m\u001b[43m,\u001b[49m\u001b[43m \u001b[49m\u001b[43mcreationflags\u001b[49m\u001b[43m,\u001b[49m\u001b[43m \u001b[49m\u001b[43mshell\u001b[49m\u001b[43m,\u001b[49m\n\u001b[1;32m    969\u001b[0m \u001b[43m                        \u001b[49m\u001b[43mp2cread\u001b[49m\u001b[43m,\u001b[49m\u001b[43m \u001b[49m\u001b[43mp2cwrite\u001b[49m\u001b[43m,\u001b[49m\n\u001b[1;32m    970\u001b[0m \u001b[43m                        \u001b[49m\u001b[43mc2pread\u001b[49m\u001b[43m,\u001b[49m\u001b[43m \u001b[49m\u001b[43mc2pwrite\u001b[49m\u001b[43m,\u001b[49m\n\u001b[1;32m    971\u001b[0m \u001b[43m                        \u001b[49m\u001b[43merrread\u001b[49m\u001b[43m,\u001b[49m\u001b[43m \u001b[49m\u001b[43merrwrite\u001b[49m\u001b[43m,\u001b[49m\n\u001b[1;32m    972\u001b[0m \u001b[43m                        \u001b[49m\u001b[43mrestore_signals\u001b[49m\u001b[43m,\u001b[49m\n\u001b[1;32m    973\u001b[0m \u001b[43m                        \u001b[49m\u001b[43mgid\u001b[49m\u001b[43m,\u001b[49m\u001b[43m \u001b[49m\u001b[43mgids\u001b[49m\u001b[43m,\u001b[49m\u001b[43m \u001b[49m\u001b[43muid\u001b[49m\u001b[43m,\u001b[49m\u001b[43m \u001b[49m\u001b[43mumask\u001b[49m\u001b[43m,\u001b[49m\n\u001b[1;32m    974\u001b[0m \u001b[43m                        \u001b[49m\u001b[43mstart_new_session\u001b[49m\u001b[43m)\u001b[49m\n\u001b[1;32m    975\u001b[0m \u001b[38;5;28;01mexcept\u001b[39;00m:\n\u001b[1;32m    976\u001b[0m     \u001b[38;5;66;03m# Cleanup if the child failed starting.\u001b[39;00m\n\u001b[1;32m    977\u001b[0m     \u001b[38;5;28;01mfor\u001b[39;00m f \u001b[38;5;129;01min\u001b[39;00m \u001b[38;5;28mfilter\u001b[39m(\u001b[38;5;28;01mNone\u001b[39;00m, (\u001b[38;5;28mself\u001b[39m\u001b[38;5;241m.\u001b[39mstdin, \u001b[38;5;28mself\u001b[39m\u001b[38;5;241m.\u001b[39mstdout, \u001b[38;5;28mself\u001b[39m\u001b[38;5;241m.\u001b[39mstderr)):\n",
      "File \u001b[0;32m/usr/lib/python3.10/subprocess.py:1842\u001b[0m, in \u001b[0;36mPopen._execute_child\u001b[0;34m(self, args, executable, preexec_fn, close_fds, pass_fds, cwd, env, startupinfo, creationflags, shell, p2cread, p2cwrite, c2pread, c2pwrite, errread, errwrite, restore_signals, gid, gids, uid, umask, start_new_session)\u001b[0m\n\u001b[1;32m   1840\u001b[0m     \u001b[38;5;28;01mif\u001b[39;00m errno_num \u001b[38;5;241m!=\u001b[39m \u001b[38;5;241m0\u001b[39m:\n\u001b[1;32m   1841\u001b[0m         err_msg \u001b[38;5;241m=\u001b[39m os\u001b[38;5;241m.\u001b[39mstrerror(errno_num)\n\u001b[0;32m-> 1842\u001b[0m     \u001b[38;5;28;01mraise\u001b[39;00m child_exception_type(errno_num, err_msg, err_filename)\n\u001b[1;32m   1843\u001b[0m \u001b[38;5;28;01mraise\u001b[39;00m child_exception_type(err_msg)\n",
      "\u001b[0;31mFileNotFoundError\u001b[0m: [Errno 2] No such file or directory: 'hahaha'"
     ]
    }
   ],
   "source": [
    "check_output(\"hahaha\")"
   ]
  },
  {
   "cell_type": "code",
   "execution_count": 23,
   "id": "fad47b1d-1f52-4c8e-8df4-0847fe1718c6",
   "metadata": {},
   "outputs": [
    {
     "data": {
      "text/plain": [
       "b'git version 2.34.1\\n'"
      ]
     },
     "execution_count": 23,
     "metadata": {},
     "output_type": "execute_result"
    }
   ],
   "source": [
    "# we run the git program (from Python)\n",
    "# to find out what version of git we have\n",
    "\n",
    "check_output(\"git --version\", shell=True) # opt 1"
   ]
  },
  {
   "cell_type": "code",
   "execution_count": 25,
   "id": "847b3c3d-bd9b-45d9-acf7-745a562c579e",
   "metadata": {},
   "outputs": [
    {
     "data": {
      "text/plain": [
       "b'git version 2.34.1\\n'"
      ]
     },
     "execution_count": 25,
     "metadata": {},
     "output_type": "execute_result"
    }
   ],
   "source": [
    "check_output([\"git\", \"--version\"]) # opt 2 (preferred)"
   ]
  },
  {
   "cell_type": "code",
   "execution_count": 27,
   "id": "6f20c9c9-365e-492f-9480-2f815d026633",
   "metadata": {},
   "outputs": [
    {
     "data": {
      "text/plain": [
       "b'git version 2.34.1\\n'"
      ]
     },
     "execution_count": 27,
     "metadata": {},
     "output_type": "execute_result"
    }
   ],
   "source": [
    "check_output([\"git\", \"--version\"]) # opt 2 (preferred)"
   ]
  },
  {
   "cell_type": "code",
   "execution_count": 29,
   "id": "91bd20d0-f074-4e80-89eb-0ca40a670d8b",
   "metadata": {},
   "outputs": [
    {
     "data": {
      "text/plain": [
       "'git version 2.34.1\\n'"
      ]
     },
     "execution_count": 29,
     "metadata": {},
     "output_type": "execute_result"
    }
   ],
   "source": [
    "s = str(check_output([\"git\", \"--version\"]), \"utf-8\")\n",
    "s"
   ]
  },
  {
   "cell_type": "code",
   "execution_count": 38,
   "id": "1fce8151-a86d-49a9-979e-56f0c6588b26",
   "metadata": {},
   "outputs": [
    {
     "data": {
      "text/plain": [
       "'2.34.1'"
      ]
     },
     "execution_count": 38,
     "metadata": {},
     "output_type": "execute_result"
    }
   ],
   "source": [
    "# WANT: 2.34.1\n",
    "s.strip().split(\" \")[-1]"
   ]
  },
  {
   "cell_type": "markdown",
   "id": "2ef0b826-cb54-4d43-abe4-7dda3425ce65",
   "metadata": {},
   "source": [
    "# HOW LONG DOES IT TAKE TO rUN CODE"
   ]
  },
  {
   "cell_type": "code",
   "execution_count": 41,
   "id": "1f9387cc-907b-49b7-8128-f76c8ce408ca",
   "metadata": {},
   "outputs": [],
   "source": [
    "import time"
   ]
  },
  {
   "cell_type": "code",
   "execution_count": 48,
   "id": "89b5982c-40b5-498f-9acf-f05a9d233f59",
   "metadata": {},
   "outputs": [
    {
     "data": {
      "text/plain": [
       "1663165057.5887413"
      ]
     },
     "execution_count": 48,
     "metadata": {},
     "output_type": "execute_result"
    }
   ],
   "source": [
    "time.time() # number of seconds since Jan 1, 1970"
   ]
  },
  {
   "cell_type": "code",
   "execution_count": 52,
   "id": "0c41fd03-d2b8-4641-a288-4b95c48b5d24",
   "metadata": {},
   "outputs": [
    {
     "name": "stdout",
     "output_type": "stream",
     "text": [
      "4.291534423828125e-05\n",
      "0.04291534423828125\n",
      "42.91534423828125\n"
     ]
    }
   ],
   "source": [
    "t0 = time.time()\n",
    "# DO SOMETHING (e.g., check_output)\n",
    "t1 = time.time()\n",
    "\n",
    "print(t1-t0) # seconds\n",
    "print((t1-t0) * 1e3) # milliseconds\n",
    "print((t1-t0) * 1e6) # microseconds"
   ]
  },
  {
   "cell_type": "code",
   "execution_count": 53,
   "id": "0b739045-bfbe-439e-ac57-7e3f069db7b6",
   "metadata": {},
   "outputs": [
    {
     "name": "stdout",
     "output_type": "stream",
     "text": [
      "0.07653236389160156\n"
     ]
    }
   ],
   "source": [
    "t0 = time.time()\n",
    "x = 3+5\n",
    "t1 = time.time()\n",
    "\n",
    "print((t1-t0) * 1e3) # milliseconds"
   ]
  },
  {
   "cell_type": "code",
   "execution_count": 54,
   "id": "2665edb8-bd7d-4cf7-baf5-5143bd6f25a0",
   "metadata": {},
   "outputs": [
    {
     "name": "stdout",
     "output_type": "stream",
     "text": [
      "8\n",
      "0.1766681671142578\n"
     ]
    }
   ],
   "source": [
    "t0 = time.time()\n",
    "print(3+5)\n",
    "t1 = time.time()\n",
    "\n",
    "print((t1-t0) * 1e3) # milliseconds"
   ]
  },
  {
   "cell_type": "code",
   "execution_count": 56,
   "id": "b6a6623a-c932-44d7-8798-c2c4a9301fb4",
   "metadata": {},
   "outputs": [
    {
     "name": "stdout",
     "output_type": "stream",
     "text": [
      "33.62393379211426\n"
     ]
    }
   ],
   "source": [
    "t0 = time.time()\n",
    "check_output([\"python3\", \"-c\", \"print(3+5)\"])\n",
    "t1 = time.time()\n",
    "\n",
    "print((t1-t0) * 1e3) # milliseconds"
   ]
  },
  {
   "cell_type": "code",
   "execution_count": 65,
   "id": "a0409695-8ee1-48e1-8a66-d64af0745acb",
   "metadata": {},
   "outputs": [
    {
     "name": "stdout",
     "output_type": "stream",
     "text": [
      "5.14674186706543\n"
     ]
    }
   ],
   "source": [
    "t0 = time.time()\n",
    "check_output([\"pwd\"])\n",
    "t1 = time.time()\n",
    "\n",
    "print((t1-t0) * 1e3) # milliseconds"
   ]
  },
  {
   "cell_type": "code",
   "execution_count": 71,
   "id": "ac432b9d-cc47-45b8-ad1c-498c033fa06e",
   "metadata": {},
   "outputs": [
    {
     "name": "stdout",
     "output_type": "stream",
     "text": [
      "2.32450008392334\n"
     ]
    }
   ],
   "source": [
    "iters = 1000\n",
    "\n",
    "t0 = time.time()\n",
    "for i in range(iters):\n",
    "    check_output([\"pwd\"])\n",
    "t1 = time.time()\n",
    "\n",
    "print((t1-t0) * 1e3 / iters) # milliseconds"
   ]
  },
  {
   "cell_type": "code",
   "execution_count": 72,
   "id": "da940fc3-0827-44af-8105-dad2293b7529",
   "metadata": {},
   "outputs": [
    {
     "data": {
      "text/plain": [
       "[0, 1, 2, 3]"
      ]
     },
     "execution_count": 72,
     "metadata": {},
     "output_type": "execute_result"
    }
   ],
   "source": [
    "L = [0,1,2,3]\n",
    "L"
   ]
  },
  {
   "cell_type": "code",
   "execution_count": 81,
   "id": "46bec42e-2934-4018-8522-ced01e36a57d",
   "metadata": {},
   "outputs": [],
   "source": [
    "L = list(range(1000000))"
   ]
  },
  {
   "cell_type": "code",
   "execution_count": 85,
   "id": "497cc9cc-b38d-44b6-b828-978e8b1869a8",
   "metadata": {},
   "outputs": [
    {
     "name": "stdout",
     "output_type": "stream",
     "text": [
      "10.463237762451172\n"
     ]
    }
   ],
   "source": [
    "t0 = time.time()\n",
    "999999 in L\n",
    "t1 = time.time()\n",
    "\n",
    "print((t1-t0) * 1e3) # milliseconds"
   ]
  },
  {
   "cell_type": "code",
   "execution_count": 86,
   "id": "e77a228d-1709-4f9a-b8ff-7c97fbda38bc",
   "metadata": {},
   "outputs": [
    {
     "name": "stdout",
     "output_type": "stream",
     "text": [
      "11.728286743164062\n"
     ]
    }
   ],
   "source": [
    "t0 = time.time()\n",
    "-1 in L\n",
    "t1 = time.time()\n",
    "\n",
    "print((t1-t0) * 1e3) # milliseconds"
   ]
  },
  {
   "cell_type": "code",
   "execution_count": 90,
   "id": "32fdf746-aaff-4ef7-8b40-991a82bd6688",
   "metadata": {},
   "outputs": [
    {
     "data": {
      "text/plain": [
       "True"
      ]
     },
     "execution_count": 90,
     "metadata": {},
     "output_type": "execute_result"
    }
   ],
   "source": [
    "S = {1, 2, 3}\n",
    "# not supported for sets: S[0]\n",
    "3 in S"
   ]
  },
  {
   "cell_type": "code",
   "execution_count": 92,
   "id": "64d7b73f-d8a9-43c7-a3a3-01e9aaa9a09f",
   "metadata": {},
   "outputs": [],
   "source": [
    "S = set(L)"
   ]
  },
  {
   "cell_type": "code",
   "execution_count": 93,
   "id": "a55e59ef-31e3-4468-a0db-aad1c3fc291d",
   "metadata": {},
   "outputs": [
    {
     "name": "stdout",
     "output_type": "stream",
     "text": [
      "0.09036064147949219\n"
     ]
    }
   ],
   "source": [
    "t0 = time.time()\n",
    "999999 in S\n",
    "t1 = time.time()\n",
    "\n",
    "print((t1-t0) * 1e3) # milliseconds"
   ]
  }
 ],
 "metadata": {
  "kernelspec": {
   "display_name": "Python 3 (ipykernel)",
   "language": "python",
   "name": "python3"
  },
  "language_info": {
   "codemirror_mode": {
    "name": "ipython",
    "version": 3
   },
   "file_extension": ".py",
   "mimetype": "text/x-python",
   "name": "python",
   "nbconvert_exporter": "python",
   "pygments_lexer": "ipython3",
   "version": "3.10.4"
  }
 },
 "nbformat": 4,
 "nbformat_minor": 5
}
